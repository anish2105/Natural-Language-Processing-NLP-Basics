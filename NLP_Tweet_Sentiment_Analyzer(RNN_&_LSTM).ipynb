{
  "nbformat": 4,
  "nbformat_minor": 0,
  "metadata": {
    "colab": {
      "provenance": [],
      "authorship_tag": "ABX9TyNtaDcq2r4tDvJ82xWvnSUR",
      "include_colab_link": true
    },
    "kernelspec": {
      "name": "python3",
      "display_name": "Python 3"
    },
    "language_info": {
      "name": "python"
    },
    "accelerator": "GPU",
    "gpuClass": "standard"
  },
  "cells": [
    {
      "cell_type": "markdown",
      "metadata": {
        "id": "view-in-github",
        "colab_type": "text"
      },
      "source": [
        "<a href=\"https://colab.research.google.com/github/anish2105/Natural-Language-Processing-NLP-Basics/blob/main/NLP_Tweet_Sentiment_Analyzer(RNN_%26_LSTM).ipynb\" target=\"_parent\"><img src=\"https://colab.research.google.com/assets/colab-badge.svg\" alt=\"Open In Colab\"/></a>"
      ]
    },
    {
      "cell_type": "markdown",
      "source": [
        "**Tweet Sentiment Analysis using RNN and LSTM**"
      ],
      "metadata": {
        "id": "znYnYz_UsYzV"
      }
    },
    {
      "cell_type": "code",
      "source": [
        "import pandas as pd\n",
        "import numpy as np\n",
        "import re\n",
        "import nltk\n",
        "import spacy\n",
        "import string\n",
        "from keras.layers import Dropout\n",
        "from nltk.tokenize import TweetTokenizer"
      ],
      "metadata": {
        "id": "1_71qLFbsewz"
      },
      "execution_count": 5,
      "outputs": []
    },
    {
      "cell_type": "code",
      "source": [
        "df=pd.read_excel('/content/TweetSentiment_60 (1).xlsx')\n",
        "df"
      ],
      "metadata": {
        "colab": {
          "base_uri": "https://localhost:8080/",
          "height": 423
        },
        "id": "O4dx7oT9uzuJ",
        "outputId": "8ba68579-b44d-41b6-dd7c-5629ec24627f"
      },
      "execution_count": 6,
      "outputs": [
        {
          "output_type": "execute_result",
          "data": {
            "text/plain": [
              "        target                                              tweet\n",
              "0            0  @switchfoot http://twitpic.com/2y1zl - Awww, t...\n",
              "1            0  is upset that he can't update his Facebook by ...\n",
              "2            0  @Kenichan I dived many times for the ball. Man...\n",
              "3            0    my whole body feels itchy and like its on fire \n",
              "4            0  @nationwideclass no, it's not behaving at all....\n",
              "...        ...                                                ...\n",
              "101154       4             @jessikasay congrats on the followers \n",
              "101155       4  @dannywood As in &quot;back dat ass on up in h...\n",
              "101156       4  School In about 12 minutes then I get picked u...\n",
              "101157       4                        @itsMeeeech -- sounds fun! \n",
              "101158       4  Good morning everyone  Welcome to my new follo...\n",
              "\n",
              "[101159 rows x 2 columns]"
            ],
            "text/html": [
              "\n",
              "  <div id=\"df-c076b9df-6b4e-40fb-bede-209056c44608\">\n",
              "    <div class=\"colab-df-container\">\n",
              "      <div>\n",
              "<style scoped>\n",
              "    .dataframe tbody tr th:only-of-type {\n",
              "        vertical-align: middle;\n",
              "    }\n",
              "\n",
              "    .dataframe tbody tr th {\n",
              "        vertical-align: top;\n",
              "    }\n",
              "\n",
              "    .dataframe thead th {\n",
              "        text-align: right;\n",
              "    }\n",
              "</style>\n",
              "<table border=\"1\" class=\"dataframe\">\n",
              "  <thead>\n",
              "    <tr style=\"text-align: right;\">\n",
              "      <th></th>\n",
              "      <th>target</th>\n",
              "      <th>tweet</th>\n",
              "    </tr>\n",
              "  </thead>\n",
              "  <tbody>\n",
              "    <tr>\n",
              "      <th>0</th>\n",
              "      <td>0</td>\n",
              "      <td>@switchfoot http://twitpic.com/2y1zl - Awww, t...</td>\n",
              "    </tr>\n",
              "    <tr>\n",
              "      <th>1</th>\n",
              "      <td>0</td>\n",
              "      <td>is upset that he can't update his Facebook by ...</td>\n",
              "    </tr>\n",
              "    <tr>\n",
              "      <th>2</th>\n",
              "      <td>0</td>\n",
              "      <td>@Kenichan I dived many times for the ball. Man...</td>\n",
              "    </tr>\n",
              "    <tr>\n",
              "      <th>3</th>\n",
              "      <td>0</td>\n",
              "      <td>my whole body feels itchy and like its on fire</td>\n",
              "    </tr>\n",
              "    <tr>\n",
              "      <th>4</th>\n",
              "      <td>0</td>\n",
              "      <td>@nationwideclass no, it's not behaving at all....</td>\n",
              "    </tr>\n",
              "    <tr>\n",
              "      <th>...</th>\n",
              "      <td>...</td>\n",
              "      <td>...</td>\n",
              "    </tr>\n",
              "    <tr>\n",
              "      <th>101154</th>\n",
              "      <td>4</td>\n",
              "      <td>@jessikasay congrats on the followers</td>\n",
              "    </tr>\n",
              "    <tr>\n",
              "      <th>101155</th>\n",
              "      <td>4</td>\n",
              "      <td>@dannywood As in &amp;quot;back dat ass on up in h...</td>\n",
              "    </tr>\n",
              "    <tr>\n",
              "      <th>101156</th>\n",
              "      <td>4</td>\n",
              "      <td>School In about 12 minutes then I get picked u...</td>\n",
              "    </tr>\n",
              "    <tr>\n",
              "      <th>101157</th>\n",
              "      <td>4</td>\n",
              "      <td>@itsMeeeech -- sounds fun!</td>\n",
              "    </tr>\n",
              "    <tr>\n",
              "      <th>101158</th>\n",
              "      <td>4</td>\n",
              "      <td>Good morning everyone  Welcome to my new follo...</td>\n",
              "    </tr>\n",
              "  </tbody>\n",
              "</table>\n",
              "<p>101159 rows × 2 columns</p>\n",
              "</div>\n",
              "      <button class=\"colab-df-convert\" onclick=\"convertToInteractive('df-c076b9df-6b4e-40fb-bede-209056c44608')\"\n",
              "              title=\"Convert this dataframe to an interactive table.\"\n",
              "              style=\"display:none;\">\n",
              "        \n",
              "  <svg xmlns=\"http://www.w3.org/2000/svg\" height=\"24px\"viewBox=\"0 0 24 24\"\n",
              "       width=\"24px\">\n",
              "    <path d=\"M0 0h24v24H0V0z\" fill=\"none\"/>\n",
              "    <path d=\"M18.56 5.44l.94 2.06.94-2.06 2.06-.94-2.06-.94-.94-2.06-.94 2.06-2.06.94zm-11 1L8.5 8.5l.94-2.06 2.06-.94-2.06-.94L8.5 2.5l-.94 2.06-2.06.94zm10 10l.94 2.06.94-2.06 2.06-.94-2.06-.94-.94-2.06-.94 2.06-2.06.94z\"/><path d=\"M17.41 7.96l-1.37-1.37c-.4-.4-.92-.59-1.43-.59-.52 0-1.04.2-1.43.59L10.3 9.45l-7.72 7.72c-.78.78-.78 2.05 0 2.83L4 21.41c.39.39.9.59 1.41.59.51 0 1.02-.2 1.41-.59l7.78-7.78 2.81-2.81c.8-.78.8-2.07 0-2.86zM5.41 20L4 18.59l7.72-7.72 1.47 1.35L5.41 20z\"/>\n",
              "  </svg>\n",
              "      </button>\n",
              "      \n",
              "  <style>\n",
              "    .colab-df-container {\n",
              "      display:flex;\n",
              "      flex-wrap:wrap;\n",
              "      gap: 12px;\n",
              "    }\n",
              "\n",
              "    .colab-df-convert {\n",
              "      background-color: #E8F0FE;\n",
              "      border: none;\n",
              "      border-radius: 50%;\n",
              "      cursor: pointer;\n",
              "      display: none;\n",
              "      fill: #1967D2;\n",
              "      height: 32px;\n",
              "      padding: 0 0 0 0;\n",
              "      width: 32px;\n",
              "    }\n",
              "\n",
              "    .colab-df-convert:hover {\n",
              "      background-color: #E2EBFA;\n",
              "      box-shadow: 0px 1px 2px rgba(60, 64, 67, 0.3), 0px 1px 3px 1px rgba(60, 64, 67, 0.15);\n",
              "      fill: #174EA6;\n",
              "    }\n",
              "\n",
              "    [theme=dark] .colab-df-convert {\n",
              "      background-color: #3B4455;\n",
              "      fill: #D2E3FC;\n",
              "    }\n",
              "\n",
              "    [theme=dark] .colab-df-convert:hover {\n",
              "      background-color: #434B5C;\n",
              "      box-shadow: 0px 1px 3px 1px rgba(0, 0, 0, 0.15);\n",
              "      filter: drop-shadow(0px 1px 2px rgba(0, 0, 0, 0.3));\n",
              "      fill: #FFFFFF;\n",
              "    }\n",
              "  </style>\n",
              "\n",
              "      <script>\n",
              "        const buttonEl =\n",
              "          document.querySelector('#df-c076b9df-6b4e-40fb-bede-209056c44608 button.colab-df-convert');\n",
              "        buttonEl.style.display =\n",
              "          google.colab.kernel.accessAllowed ? 'block' : 'none';\n",
              "\n",
              "        async function convertToInteractive(key) {\n",
              "          const element = document.querySelector('#df-c076b9df-6b4e-40fb-bede-209056c44608');\n",
              "          const dataTable =\n",
              "            await google.colab.kernel.invokeFunction('convertToInteractive',\n",
              "                                                     [key], {});\n",
              "          if (!dataTable) return;\n",
              "\n",
              "          const docLinkHtml = 'Like what you see? Visit the ' +\n",
              "            '<a target=\"_blank\" href=https://colab.research.google.com/notebooks/data_table.ipynb>data table notebook</a>'\n",
              "            + ' to learn more about interactive tables.';\n",
              "          element.innerHTML = '';\n",
              "          dataTable['output_type'] = 'display_data';\n",
              "          await google.colab.output.renderOutput(dataTable, element);\n",
              "          const docLink = document.createElement('div');\n",
              "          docLink.innerHTML = docLinkHtml;\n",
              "          element.appendChild(docLink);\n",
              "        }\n",
              "      </script>\n",
              "    </div>\n",
              "  </div>\n",
              "  "
            ]
          },
          "metadata": {},
          "execution_count": 6
        }
      ]
    },
    {
      "cell_type": "code",
      "source": [
        "df['tweet'] = df['tweet'].astype(str)"
      ],
      "metadata": {
        "id": "t3BV2MTEvNap"
      },
      "execution_count": 7,
      "outputs": []
    },
    {
      "cell_type": "code",
      "source": [
        "df['processed_tweets'] = df['tweet'].str.lower()\n",
        "df.head()"
      ],
      "metadata": {
        "colab": {
          "base_uri": "https://localhost:8080/",
          "height": 337
        },
        "id": "-NdYgLkrvgSc",
        "outputId": "bde9f47b-ee1c-4602-8ef1-3d53c9ca0f92"
      },
      "execution_count": 8,
      "outputs": [
        {
          "output_type": "execute_result",
          "data": {
            "text/plain": [
              "   target                                              tweet  \\\n",
              "0       0  @switchfoot http://twitpic.com/2y1zl - Awww, t...   \n",
              "1       0  is upset that he can't update his Facebook by ...   \n",
              "2       0  @Kenichan I dived many times for the ball. Man...   \n",
              "3       0    my whole body feels itchy and like its on fire    \n",
              "4       0  @nationwideclass no, it's not behaving at all....   \n",
              "\n",
              "                                    processed_tweets  \n",
              "0  @switchfoot http://twitpic.com/2y1zl - awww, t...  \n",
              "1  is upset that he can't update his facebook by ...  \n",
              "2  @kenichan i dived many times for the ball. man...  \n",
              "3    my whole body feels itchy and like its on fire   \n",
              "4  @nationwideclass no, it's not behaving at all....  "
            ],
            "text/html": [
              "\n",
              "  <div id=\"df-770d017a-2762-4d93-a5b6-449fb135389b\">\n",
              "    <div class=\"colab-df-container\">\n",
              "      <div>\n",
              "<style scoped>\n",
              "    .dataframe tbody tr th:only-of-type {\n",
              "        vertical-align: middle;\n",
              "    }\n",
              "\n",
              "    .dataframe tbody tr th {\n",
              "        vertical-align: top;\n",
              "    }\n",
              "\n",
              "    .dataframe thead th {\n",
              "        text-align: right;\n",
              "    }\n",
              "</style>\n",
              "<table border=\"1\" class=\"dataframe\">\n",
              "  <thead>\n",
              "    <tr style=\"text-align: right;\">\n",
              "      <th></th>\n",
              "      <th>target</th>\n",
              "      <th>tweet</th>\n",
              "      <th>processed_tweets</th>\n",
              "    </tr>\n",
              "  </thead>\n",
              "  <tbody>\n",
              "    <tr>\n",
              "      <th>0</th>\n",
              "      <td>0</td>\n",
              "      <td>@switchfoot http://twitpic.com/2y1zl - Awww, t...</td>\n",
              "      <td>@switchfoot http://twitpic.com/2y1zl - awww, t...</td>\n",
              "    </tr>\n",
              "    <tr>\n",
              "      <th>1</th>\n",
              "      <td>0</td>\n",
              "      <td>is upset that he can't update his Facebook by ...</td>\n",
              "      <td>is upset that he can't update his facebook by ...</td>\n",
              "    </tr>\n",
              "    <tr>\n",
              "      <th>2</th>\n",
              "      <td>0</td>\n",
              "      <td>@Kenichan I dived many times for the ball. Man...</td>\n",
              "      <td>@kenichan i dived many times for the ball. man...</td>\n",
              "    </tr>\n",
              "    <tr>\n",
              "      <th>3</th>\n",
              "      <td>0</td>\n",
              "      <td>my whole body feels itchy and like its on fire</td>\n",
              "      <td>my whole body feels itchy and like its on fire</td>\n",
              "    </tr>\n",
              "    <tr>\n",
              "      <th>4</th>\n",
              "      <td>0</td>\n",
              "      <td>@nationwideclass no, it's not behaving at all....</td>\n",
              "      <td>@nationwideclass no, it's not behaving at all....</td>\n",
              "    </tr>\n",
              "  </tbody>\n",
              "</table>\n",
              "</div>\n",
              "      <button class=\"colab-df-convert\" onclick=\"convertToInteractive('df-770d017a-2762-4d93-a5b6-449fb135389b')\"\n",
              "              title=\"Convert this dataframe to an interactive table.\"\n",
              "              style=\"display:none;\">\n",
              "        \n",
              "  <svg xmlns=\"http://www.w3.org/2000/svg\" height=\"24px\"viewBox=\"0 0 24 24\"\n",
              "       width=\"24px\">\n",
              "    <path d=\"M0 0h24v24H0V0z\" fill=\"none\"/>\n",
              "    <path d=\"M18.56 5.44l.94 2.06.94-2.06 2.06-.94-2.06-.94-.94-2.06-.94 2.06-2.06.94zm-11 1L8.5 8.5l.94-2.06 2.06-.94-2.06-.94L8.5 2.5l-.94 2.06-2.06.94zm10 10l.94 2.06.94-2.06 2.06-.94-2.06-.94-.94-2.06-.94 2.06-2.06.94z\"/><path d=\"M17.41 7.96l-1.37-1.37c-.4-.4-.92-.59-1.43-.59-.52 0-1.04.2-1.43.59L10.3 9.45l-7.72 7.72c-.78.78-.78 2.05 0 2.83L4 21.41c.39.39.9.59 1.41.59.51 0 1.02-.2 1.41-.59l7.78-7.78 2.81-2.81c.8-.78.8-2.07 0-2.86zM5.41 20L4 18.59l7.72-7.72 1.47 1.35L5.41 20z\"/>\n",
              "  </svg>\n",
              "      </button>\n",
              "      \n",
              "  <style>\n",
              "    .colab-df-container {\n",
              "      display:flex;\n",
              "      flex-wrap:wrap;\n",
              "      gap: 12px;\n",
              "    }\n",
              "\n",
              "    .colab-df-convert {\n",
              "      background-color: #E8F0FE;\n",
              "      border: none;\n",
              "      border-radius: 50%;\n",
              "      cursor: pointer;\n",
              "      display: none;\n",
              "      fill: #1967D2;\n",
              "      height: 32px;\n",
              "      padding: 0 0 0 0;\n",
              "      width: 32px;\n",
              "    }\n",
              "\n",
              "    .colab-df-convert:hover {\n",
              "      background-color: #E2EBFA;\n",
              "      box-shadow: 0px 1px 2px rgba(60, 64, 67, 0.3), 0px 1px 3px 1px rgba(60, 64, 67, 0.15);\n",
              "      fill: #174EA6;\n",
              "    }\n",
              "\n",
              "    [theme=dark] .colab-df-convert {\n",
              "      background-color: #3B4455;\n",
              "      fill: #D2E3FC;\n",
              "    }\n",
              "\n",
              "    [theme=dark] .colab-df-convert:hover {\n",
              "      background-color: #434B5C;\n",
              "      box-shadow: 0px 1px 3px 1px rgba(0, 0, 0, 0.15);\n",
              "      filter: drop-shadow(0px 1px 2px rgba(0, 0, 0, 0.3));\n",
              "      fill: #FFFFFF;\n",
              "    }\n",
              "  </style>\n",
              "\n",
              "      <script>\n",
              "        const buttonEl =\n",
              "          document.querySelector('#df-770d017a-2762-4d93-a5b6-449fb135389b button.colab-df-convert');\n",
              "        buttonEl.style.display =\n",
              "          google.colab.kernel.accessAllowed ? 'block' : 'none';\n",
              "\n",
              "        async function convertToInteractive(key) {\n",
              "          const element = document.querySelector('#df-770d017a-2762-4d93-a5b6-449fb135389b');\n",
              "          const dataTable =\n",
              "            await google.colab.kernel.invokeFunction('convertToInteractive',\n",
              "                                                     [key], {});\n",
              "          if (!dataTable) return;\n",
              "\n",
              "          const docLinkHtml = 'Like what you see? Visit the ' +\n",
              "            '<a target=\"_blank\" href=https://colab.research.google.com/notebooks/data_table.ipynb>data table notebook</a>'\n",
              "            + ' to learn more about interactive tables.';\n",
              "          element.innerHTML = '';\n",
              "          dataTable['output_type'] = 'display_data';\n",
              "          await google.colab.output.renderOutput(dataTable, element);\n",
              "          const docLink = document.createElement('div');\n",
              "          docLink.innerHTML = docLinkHtml;\n",
              "          element.appendChild(docLink);\n",
              "        }\n",
              "      </script>\n",
              "    </div>\n",
              "  </div>\n",
              "  "
            ]
          },
          "metadata": {},
          "execution_count": 8
        }
      ]
    },
    {
      "cell_type": "code",
      "source": [
        "print(\"\\nOriginal Tweet:\",df['tweet'][0])\n",
        "print(df['processed_tweets'][0])"
      ],
      "metadata": {
        "colab": {
          "base_uri": "https://localhost:8080/"
        },
        "id": "RwJQptYYvojb",
        "outputId": "225504f0-74bb-4337-b710-c51679d9617d"
      },
      "execution_count": 9,
      "outputs": [
        {
          "output_type": "stream",
          "name": "stdout",
          "text": [
            "\n",
            "Original Tweet: @switchfoot http://twitpic.com/2y1zl - Awww, that's a bummer.  You shoulda got David Carr of Third Day to do it. ;D\n",
            "@switchfoot http://twitpic.com/2y1zl - awww, that's a bummer.  you shoulda got david carr of third day to do it. ;d\n"
          ]
        }
      ]
    },
    {
      "cell_type": "code",
      "source": [
        "len(df['processed_tweets'])"
      ],
      "metadata": {
        "colab": {
          "base_uri": "https://localhost:8080/"
        },
        "id": "ZXr-clj4vsr7",
        "outputId": "7374962f-cdda-443c-91af-ea1df805de0f"
      },
      "execution_count": 10,
      "outputs": [
        {
          "output_type": "execute_result",
          "data": {
            "text/plain": [
              "101159"
            ]
          },
          "metadata": {},
          "execution_count": 10
        }
      ]
    },
    {
      "cell_type": "markdown",
      "source": [
        "**Removal of @ and User names**"
      ],
      "metadata": {
        "id": "cxu9VmKtv3Js"
      }
    },
    {
      "cell_type": "code",
      "source": [
        "tknzr = TweetTokenizer(strip_handles=True)\n",
        "\n",
        "for a in range(len(df['processed_tweets'])):\n",
        "\n",
        "  result = tknzr.tokenize(df['processed_tweets'][a])\n",
        "  res=\" \".join(result)\n",
        "  df['processed_tweets'][a]=res\n",
        "print(\"\\nTokenize a twitter text:\")\n",
        "print(df['processed_tweets'][10])\n"
      ],
      "metadata": {
        "colab": {
          "base_uri": "https://localhost:8080/"
        },
        "id": "Vz_7QwHfvtsT",
        "outputId": "c8b2d2cb-50c6-49b1-db10-bef3e7868aaf"
      },
      "execution_count": 11,
      "outputs": [
        {
          "output_type": "stream",
          "name": "stderr",
          "text": [
            "<ipython-input-11-356bb5f68325>:7: SettingWithCopyWarning: \n",
            "A value is trying to be set on a copy of a slice from a DataFrame\n",
            "\n",
            "See the caveats in the documentation: https://pandas.pydata.org/pandas-docs/stable/user_guide/indexing.html#returning-a-view-versus-a-copy\n",
            "  df['processed_tweets'][a]=res\n"
          ]
        },
        {
          "output_type": "stream",
          "name": "stdout",
          "text": [
            "\n",
            "Tokenize a twitter text:\n",
            "spring break in plain city ... it's snowing\n"
          ]
        }
      ]
    },
    {
      "cell_type": "code",
      "source": [
        "df.head()"
      ],
      "metadata": {
        "colab": {
          "base_uri": "https://localhost:8080/",
          "height": 337
        },
        "id": "6kskxlgJweIz",
        "outputId": "3d1c06bf-d04e-4aa0-c53d-9696cff50c80"
      },
      "execution_count": 12,
      "outputs": [
        {
          "output_type": "execute_result",
          "data": {
            "text/plain": [
              "   target                                              tweet  \\\n",
              "0       0  @switchfoot http://twitpic.com/2y1zl - Awww, t...   \n",
              "1       0  is upset that he can't update his Facebook by ...   \n",
              "2       0  @Kenichan I dived many times for the ball. Man...   \n",
              "3       0    my whole body feels itchy and like its on fire    \n",
              "4       0  @nationwideclass no, it's not behaving at all....   \n",
              "\n",
              "                                    processed_tweets  \n",
              "0  http://twitpic.com/2y1zl - awww , that's a bum...  \n",
              "1  is upset that he can't update his facebook by ...  \n",
              "2  i dived many times for the ball . managed to s...  \n",
              "3     my whole body feels itchy and like its on fire  \n",
              "4  no , it's not behaving at all . i'm mad . why ...  "
            ],
            "text/html": [
              "\n",
              "  <div id=\"df-54513ecb-f862-4184-bbf7-20fd614af0ac\">\n",
              "    <div class=\"colab-df-container\">\n",
              "      <div>\n",
              "<style scoped>\n",
              "    .dataframe tbody tr th:only-of-type {\n",
              "        vertical-align: middle;\n",
              "    }\n",
              "\n",
              "    .dataframe tbody tr th {\n",
              "        vertical-align: top;\n",
              "    }\n",
              "\n",
              "    .dataframe thead th {\n",
              "        text-align: right;\n",
              "    }\n",
              "</style>\n",
              "<table border=\"1\" class=\"dataframe\">\n",
              "  <thead>\n",
              "    <tr style=\"text-align: right;\">\n",
              "      <th></th>\n",
              "      <th>target</th>\n",
              "      <th>tweet</th>\n",
              "      <th>processed_tweets</th>\n",
              "    </tr>\n",
              "  </thead>\n",
              "  <tbody>\n",
              "    <tr>\n",
              "      <th>0</th>\n",
              "      <td>0</td>\n",
              "      <td>@switchfoot http://twitpic.com/2y1zl - Awww, t...</td>\n",
              "      <td>http://twitpic.com/2y1zl - awww , that's a bum...</td>\n",
              "    </tr>\n",
              "    <tr>\n",
              "      <th>1</th>\n",
              "      <td>0</td>\n",
              "      <td>is upset that he can't update his Facebook by ...</td>\n",
              "      <td>is upset that he can't update his facebook by ...</td>\n",
              "    </tr>\n",
              "    <tr>\n",
              "      <th>2</th>\n",
              "      <td>0</td>\n",
              "      <td>@Kenichan I dived many times for the ball. Man...</td>\n",
              "      <td>i dived many times for the ball . managed to s...</td>\n",
              "    </tr>\n",
              "    <tr>\n",
              "      <th>3</th>\n",
              "      <td>0</td>\n",
              "      <td>my whole body feels itchy and like its on fire</td>\n",
              "      <td>my whole body feels itchy and like its on fire</td>\n",
              "    </tr>\n",
              "    <tr>\n",
              "      <th>4</th>\n",
              "      <td>0</td>\n",
              "      <td>@nationwideclass no, it's not behaving at all....</td>\n",
              "      <td>no , it's not behaving at all . i'm mad . why ...</td>\n",
              "    </tr>\n",
              "  </tbody>\n",
              "</table>\n",
              "</div>\n",
              "      <button class=\"colab-df-convert\" onclick=\"convertToInteractive('df-54513ecb-f862-4184-bbf7-20fd614af0ac')\"\n",
              "              title=\"Convert this dataframe to an interactive table.\"\n",
              "              style=\"display:none;\">\n",
              "        \n",
              "  <svg xmlns=\"http://www.w3.org/2000/svg\" height=\"24px\"viewBox=\"0 0 24 24\"\n",
              "       width=\"24px\">\n",
              "    <path d=\"M0 0h24v24H0V0z\" fill=\"none\"/>\n",
              "    <path d=\"M18.56 5.44l.94 2.06.94-2.06 2.06-.94-2.06-.94-.94-2.06-.94 2.06-2.06.94zm-11 1L8.5 8.5l.94-2.06 2.06-.94-2.06-.94L8.5 2.5l-.94 2.06-2.06.94zm10 10l.94 2.06.94-2.06 2.06-.94-2.06-.94-.94-2.06-.94 2.06-2.06.94z\"/><path d=\"M17.41 7.96l-1.37-1.37c-.4-.4-.92-.59-1.43-.59-.52 0-1.04.2-1.43.59L10.3 9.45l-7.72 7.72c-.78.78-.78 2.05 0 2.83L4 21.41c.39.39.9.59 1.41.59.51 0 1.02-.2 1.41-.59l7.78-7.78 2.81-2.81c.8-.78.8-2.07 0-2.86zM5.41 20L4 18.59l7.72-7.72 1.47 1.35L5.41 20z\"/>\n",
              "  </svg>\n",
              "      </button>\n",
              "      \n",
              "  <style>\n",
              "    .colab-df-container {\n",
              "      display:flex;\n",
              "      flex-wrap:wrap;\n",
              "      gap: 12px;\n",
              "    }\n",
              "\n",
              "    .colab-df-convert {\n",
              "      background-color: #E8F0FE;\n",
              "      border: none;\n",
              "      border-radius: 50%;\n",
              "      cursor: pointer;\n",
              "      display: none;\n",
              "      fill: #1967D2;\n",
              "      height: 32px;\n",
              "      padding: 0 0 0 0;\n",
              "      width: 32px;\n",
              "    }\n",
              "\n",
              "    .colab-df-convert:hover {\n",
              "      background-color: #E2EBFA;\n",
              "      box-shadow: 0px 1px 2px rgba(60, 64, 67, 0.3), 0px 1px 3px 1px rgba(60, 64, 67, 0.15);\n",
              "      fill: #174EA6;\n",
              "    }\n",
              "\n",
              "    [theme=dark] .colab-df-convert {\n",
              "      background-color: #3B4455;\n",
              "      fill: #D2E3FC;\n",
              "    }\n",
              "\n",
              "    [theme=dark] .colab-df-convert:hover {\n",
              "      background-color: #434B5C;\n",
              "      box-shadow: 0px 1px 3px 1px rgba(0, 0, 0, 0.15);\n",
              "      filter: drop-shadow(0px 1px 2px rgba(0, 0, 0, 0.3));\n",
              "      fill: #FFFFFF;\n",
              "    }\n",
              "  </style>\n",
              "\n",
              "      <script>\n",
              "        const buttonEl =\n",
              "          document.querySelector('#df-54513ecb-f862-4184-bbf7-20fd614af0ac button.colab-df-convert');\n",
              "        buttonEl.style.display =\n",
              "          google.colab.kernel.accessAllowed ? 'block' : 'none';\n",
              "\n",
              "        async function convertToInteractive(key) {\n",
              "          const element = document.querySelector('#df-54513ecb-f862-4184-bbf7-20fd614af0ac');\n",
              "          const dataTable =\n",
              "            await google.colab.kernel.invokeFunction('convertToInteractive',\n",
              "                                                     [key], {});\n",
              "          if (!dataTable) return;\n",
              "\n",
              "          const docLinkHtml = 'Like what you see? Visit the ' +\n",
              "            '<a target=\"_blank\" href=https://colab.research.google.com/notebooks/data_table.ipynb>data table notebook</a>'\n",
              "            + ' to learn more about interactive tables.';\n",
              "          element.innerHTML = '';\n",
              "          dataTable['output_type'] = 'display_data';\n",
              "          await google.colab.output.renderOutput(dataTable, element);\n",
              "          const docLink = document.createElement('div');\n",
              "          docLink.innerHTML = docLinkHtml;\n",
              "          element.appendChild(docLink);\n",
              "        }\n",
              "      </script>\n",
              "    </div>\n",
              "  </div>\n",
              "  "
            ]
          },
          "metadata": {},
          "execution_count": 12
        }
      ]
    },
    {
      "cell_type": "markdown",
      "source": [
        "**Remove Punctuations**"
      ],
      "metadata": {
        "id": "kVKMIGY2yZqP"
      }
    },
    {
      "cell_type": "code",
      "source": [
        "punct_to_remove = string.punctuation\n",
        "def remove_punctuation(text):\n",
        "  return text.translate(str.maketrans('','',punct_to_remove))\n",
        "\n",
        "df['processed_tweets'] = df['processed_tweets'].apply(lambda text:remove_punctuation(text))\n",
        "df.head()"
      ],
      "metadata": {
        "colab": {
          "base_uri": "https://localhost:8080/",
          "height": 337
        },
        "id": "HddCCIY0xfic",
        "outputId": "8d0edfa2-f4c9-436c-906a-b828f6eb16ff"
      },
      "execution_count": 13,
      "outputs": [
        {
          "output_type": "execute_result",
          "data": {
            "text/plain": [
              "   target                                              tweet  \\\n",
              "0       0  @switchfoot http://twitpic.com/2y1zl - Awww, t...   \n",
              "1       0  is upset that he can't update his Facebook by ...   \n",
              "2       0  @Kenichan I dived many times for the ball. Man...   \n",
              "3       0    my whole body feels itchy and like its on fire    \n",
              "4       0  @nationwideclass no, it's not behaving at all....   \n",
              "\n",
              "                                    processed_tweets  \n",
              "0  httptwitpiccom2y1zl  awww  thats a bummer  you...  \n",
              "1  is upset that he cant update his facebook by t...  \n",
              "2  i dived many times for the ball  managed to sa...  \n",
              "3     my whole body feels itchy and like its on fire  \n",
              "4  no  its not behaving at all  im mad  why am i ...  "
            ],
            "text/html": [
              "\n",
              "  <div id=\"df-3ada4fcd-1e0b-4673-83c1-684151b8f32c\">\n",
              "    <div class=\"colab-df-container\">\n",
              "      <div>\n",
              "<style scoped>\n",
              "    .dataframe tbody tr th:only-of-type {\n",
              "        vertical-align: middle;\n",
              "    }\n",
              "\n",
              "    .dataframe tbody tr th {\n",
              "        vertical-align: top;\n",
              "    }\n",
              "\n",
              "    .dataframe thead th {\n",
              "        text-align: right;\n",
              "    }\n",
              "</style>\n",
              "<table border=\"1\" class=\"dataframe\">\n",
              "  <thead>\n",
              "    <tr style=\"text-align: right;\">\n",
              "      <th></th>\n",
              "      <th>target</th>\n",
              "      <th>tweet</th>\n",
              "      <th>processed_tweets</th>\n",
              "    </tr>\n",
              "  </thead>\n",
              "  <tbody>\n",
              "    <tr>\n",
              "      <th>0</th>\n",
              "      <td>0</td>\n",
              "      <td>@switchfoot http://twitpic.com/2y1zl - Awww, t...</td>\n",
              "      <td>httptwitpiccom2y1zl  awww  thats a bummer  you...</td>\n",
              "    </tr>\n",
              "    <tr>\n",
              "      <th>1</th>\n",
              "      <td>0</td>\n",
              "      <td>is upset that he can't update his Facebook by ...</td>\n",
              "      <td>is upset that he cant update his facebook by t...</td>\n",
              "    </tr>\n",
              "    <tr>\n",
              "      <th>2</th>\n",
              "      <td>0</td>\n",
              "      <td>@Kenichan I dived many times for the ball. Man...</td>\n",
              "      <td>i dived many times for the ball  managed to sa...</td>\n",
              "    </tr>\n",
              "    <tr>\n",
              "      <th>3</th>\n",
              "      <td>0</td>\n",
              "      <td>my whole body feels itchy and like its on fire</td>\n",
              "      <td>my whole body feels itchy and like its on fire</td>\n",
              "    </tr>\n",
              "    <tr>\n",
              "      <th>4</th>\n",
              "      <td>0</td>\n",
              "      <td>@nationwideclass no, it's not behaving at all....</td>\n",
              "      <td>no  its not behaving at all  im mad  why am i ...</td>\n",
              "    </tr>\n",
              "  </tbody>\n",
              "</table>\n",
              "</div>\n",
              "      <button class=\"colab-df-convert\" onclick=\"convertToInteractive('df-3ada4fcd-1e0b-4673-83c1-684151b8f32c')\"\n",
              "              title=\"Convert this dataframe to an interactive table.\"\n",
              "              style=\"display:none;\">\n",
              "        \n",
              "  <svg xmlns=\"http://www.w3.org/2000/svg\" height=\"24px\"viewBox=\"0 0 24 24\"\n",
              "       width=\"24px\">\n",
              "    <path d=\"M0 0h24v24H0V0z\" fill=\"none\"/>\n",
              "    <path d=\"M18.56 5.44l.94 2.06.94-2.06 2.06-.94-2.06-.94-.94-2.06-.94 2.06-2.06.94zm-11 1L8.5 8.5l.94-2.06 2.06-.94-2.06-.94L8.5 2.5l-.94 2.06-2.06.94zm10 10l.94 2.06.94-2.06 2.06-.94-2.06-.94-.94-2.06-.94 2.06-2.06.94z\"/><path d=\"M17.41 7.96l-1.37-1.37c-.4-.4-.92-.59-1.43-.59-.52 0-1.04.2-1.43.59L10.3 9.45l-7.72 7.72c-.78.78-.78 2.05 0 2.83L4 21.41c.39.39.9.59 1.41.59.51 0 1.02-.2 1.41-.59l7.78-7.78 2.81-2.81c.8-.78.8-2.07 0-2.86zM5.41 20L4 18.59l7.72-7.72 1.47 1.35L5.41 20z\"/>\n",
              "  </svg>\n",
              "      </button>\n",
              "      \n",
              "  <style>\n",
              "    .colab-df-container {\n",
              "      display:flex;\n",
              "      flex-wrap:wrap;\n",
              "      gap: 12px;\n",
              "    }\n",
              "\n",
              "    .colab-df-convert {\n",
              "      background-color: #E8F0FE;\n",
              "      border: none;\n",
              "      border-radius: 50%;\n",
              "      cursor: pointer;\n",
              "      display: none;\n",
              "      fill: #1967D2;\n",
              "      height: 32px;\n",
              "      padding: 0 0 0 0;\n",
              "      width: 32px;\n",
              "    }\n",
              "\n",
              "    .colab-df-convert:hover {\n",
              "      background-color: #E2EBFA;\n",
              "      box-shadow: 0px 1px 2px rgba(60, 64, 67, 0.3), 0px 1px 3px 1px rgba(60, 64, 67, 0.15);\n",
              "      fill: #174EA6;\n",
              "    }\n",
              "\n",
              "    [theme=dark] .colab-df-convert {\n",
              "      background-color: #3B4455;\n",
              "      fill: #D2E3FC;\n",
              "    }\n",
              "\n",
              "    [theme=dark] .colab-df-convert:hover {\n",
              "      background-color: #434B5C;\n",
              "      box-shadow: 0px 1px 3px 1px rgba(0, 0, 0, 0.15);\n",
              "      filter: drop-shadow(0px 1px 2px rgba(0, 0, 0, 0.3));\n",
              "      fill: #FFFFFF;\n",
              "    }\n",
              "  </style>\n",
              "\n",
              "      <script>\n",
              "        const buttonEl =\n",
              "          document.querySelector('#df-3ada4fcd-1e0b-4673-83c1-684151b8f32c button.colab-df-convert');\n",
              "        buttonEl.style.display =\n",
              "          google.colab.kernel.accessAllowed ? 'block' : 'none';\n",
              "\n",
              "        async function convertToInteractive(key) {\n",
              "          const element = document.querySelector('#df-3ada4fcd-1e0b-4673-83c1-684151b8f32c');\n",
              "          const dataTable =\n",
              "            await google.colab.kernel.invokeFunction('convertToInteractive',\n",
              "                                                     [key], {});\n",
              "          if (!dataTable) return;\n",
              "\n",
              "          const docLinkHtml = 'Like what you see? Visit the ' +\n",
              "            '<a target=\"_blank\" href=https://colab.research.google.com/notebooks/data_table.ipynb>data table notebook</a>'\n",
              "            + ' to learn more about interactive tables.';\n",
              "          element.innerHTML = '';\n",
              "          dataTable['output_type'] = 'display_data';\n",
              "          await google.colab.output.renderOutput(dataTable, element);\n",
              "          const docLink = document.createElement('div');\n",
              "          docLink.innerHTML = docLinkHtml;\n",
              "          element.appendChild(docLink);\n",
              "        }\n",
              "      </script>\n",
              "    </div>\n",
              "  </div>\n",
              "  "
            ]
          },
          "metadata": {},
          "execution_count": 13
        }
      ]
    },
    {
      "cell_type": "markdown",
      "source": [
        "**Remove URLs**"
      ],
      "metadata": {
        "id": "I0O8oMD9ycke"
      }
    },
    {
      "cell_type": "code",
      "source": [
        "def remove_URL(sample):\n",
        "    \"\"\"Remove URLs from a sample string\"\"\"\n",
        "    return re.sub(r\"http\\S+\", \"\", sample)"
      ],
      "metadata": {
        "id": "PWTfJFFayCBC"
      },
      "execution_count": 14,
      "outputs": []
    },
    {
      "cell_type": "code",
      "source": [
        "tknzr = TweetTokenizer(strip_handles=True)\n",
        "\n",
        "for a in range(len(df['processed_tweets'])):\n",
        "\n",
        "  result = remove_URL(df['processed_tweets'][a])\n",
        "  df['processed_tweets'][a]=result\n",
        "print(\"No URLs:\")\n",
        "print(result)"
      ],
      "metadata": {
        "colab": {
          "base_uri": "https://localhost:8080/"
        },
        "id": "TfvS4D0aylRr",
        "outputId": "1cb21cfd-7f1e-4a7a-e94e-278900bcdea6"
      },
      "execution_count": 15,
      "outputs": [
        {
          "output_type": "stream",
          "name": "stderr",
          "text": [
            "<ipython-input-15-056f0551ee61>:6: SettingWithCopyWarning: \n",
            "A value is trying to be set on a copy of a slice from a DataFrame\n",
            "\n",
            "See the caveats in the documentation: https://pandas.pydata.org/pandas-docs/stable/user_guide/indexing.html#returning-a-view-versus-a-copy\n",
            "  df['processed_tweets'][a]=result\n"
          ]
        },
        {
          "output_type": "stream",
          "name": "stdout",
          "text": [
            "No URLs:\n",
            "good morning everyone welcome to my new followers and    big hug    to everyone  hope your monday morning is moving along spectacularly \n"
          ]
        }
      ]
    },
    {
      "cell_type": "code",
      "source": [
        "df.head()"
      ],
      "metadata": {
        "colab": {
          "base_uri": "https://localhost:8080/",
          "height": 337
        },
        "id": "JenbPsFc1I67",
        "outputId": "61117743-8c73-4eb0-aee5-b496321e9a31"
      },
      "execution_count": 16,
      "outputs": [
        {
          "output_type": "execute_result",
          "data": {
            "text/plain": [
              "   target                                              tweet  \\\n",
              "0       0  @switchfoot http://twitpic.com/2y1zl - Awww, t...   \n",
              "1       0  is upset that he can't update his Facebook by ...   \n",
              "2       0  @Kenichan I dived many times for the ball. Man...   \n",
              "3       0    my whole body feels itchy and like its on fire    \n",
              "4       0  @nationwideclass no, it's not behaving at all....   \n",
              "\n",
              "                                    processed_tweets  \n",
              "0    awww  thats a bummer  you shoulda got david ...  \n",
              "1  is upset that he cant update his facebook by t...  \n",
              "2  i dived many times for the ball  managed to sa...  \n",
              "3     my whole body feels itchy and like its on fire  \n",
              "4  no  its not behaving at all  im mad  why am i ...  "
            ],
            "text/html": [
              "\n",
              "  <div id=\"df-590e7b4d-1c14-4841-93c0-499d04e579d3\">\n",
              "    <div class=\"colab-df-container\">\n",
              "      <div>\n",
              "<style scoped>\n",
              "    .dataframe tbody tr th:only-of-type {\n",
              "        vertical-align: middle;\n",
              "    }\n",
              "\n",
              "    .dataframe tbody tr th {\n",
              "        vertical-align: top;\n",
              "    }\n",
              "\n",
              "    .dataframe thead th {\n",
              "        text-align: right;\n",
              "    }\n",
              "</style>\n",
              "<table border=\"1\" class=\"dataframe\">\n",
              "  <thead>\n",
              "    <tr style=\"text-align: right;\">\n",
              "      <th></th>\n",
              "      <th>target</th>\n",
              "      <th>tweet</th>\n",
              "      <th>processed_tweets</th>\n",
              "    </tr>\n",
              "  </thead>\n",
              "  <tbody>\n",
              "    <tr>\n",
              "      <th>0</th>\n",
              "      <td>0</td>\n",
              "      <td>@switchfoot http://twitpic.com/2y1zl - Awww, t...</td>\n",
              "      <td>awww  thats a bummer  you shoulda got david ...</td>\n",
              "    </tr>\n",
              "    <tr>\n",
              "      <th>1</th>\n",
              "      <td>0</td>\n",
              "      <td>is upset that he can't update his Facebook by ...</td>\n",
              "      <td>is upset that he cant update his facebook by t...</td>\n",
              "    </tr>\n",
              "    <tr>\n",
              "      <th>2</th>\n",
              "      <td>0</td>\n",
              "      <td>@Kenichan I dived many times for the ball. Man...</td>\n",
              "      <td>i dived many times for the ball  managed to sa...</td>\n",
              "    </tr>\n",
              "    <tr>\n",
              "      <th>3</th>\n",
              "      <td>0</td>\n",
              "      <td>my whole body feels itchy and like its on fire</td>\n",
              "      <td>my whole body feels itchy and like its on fire</td>\n",
              "    </tr>\n",
              "    <tr>\n",
              "      <th>4</th>\n",
              "      <td>0</td>\n",
              "      <td>@nationwideclass no, it's not behaving at all....</td>\n",
              "      <td>no  its not behaving at all  im mad  why am i ...</td>\n",
              "    </tr>\n",
              "  </tbody>\n",
              "</table>\n",
              "</div>\n",
              "      <button class=\"colab-df-convert\" onclick=\"convertToInteractive('df-590e7b4d-1c14-4841-93c0-499d04e579d3')\"\n",
              "              title=\"Convert this dataframe to an interactive table.\"\n",
              "              style=\"display:none;\">\n",
              "        \n",
              "  <svg xmlns=\"http://www.w3.org/2000/svg\" height=\"24px\"viewBox=\"0 0 24 24\"\n",
              "       width=\"24px\">\n",
              "    <path d=\"M0 0h24v24H0V0z\" fill=\"none\"/>\n",
              "    <path d=\"M18.56 5.44l.94 2.06.94-2.06 2.06-.94-2.06-.94-.94-2.06-.94 2.06-2.06.94zm-11 1L8.5 8.5l.94-2.06 2.06-.94-2.06-.94L8.5 2.5l-.94 2.06-2.06.94zm10 10l.94 2.06.94-2.06 2.06-.94-2.06-.94-.94-2.06-.94 2.06-2.06.94z\"/><path d=\"M17.41 7.96l-1.37-1.37c-.4-.4-.92-.59-1.43-.59-.52 0-1.04.2-1.43.59L10.3 9.45l-7.72 7.72c-.78.78-.78 2.05 0 2.83L4 21.41c.39.39.9.59 1.41.59.51 0 1.02-.2 1.41-.59l7.78-7.78 2.81-2.81c.8-.78.8-2.07 0-2.86zM5.41 20L4 18.59l7.72-7.72 1.47 1.35L5.41 20z\"/>\n",
              "  </svg>\n",
              "      </button>\n",
              "      \n",
              "  <style>\n",
              "    .colab-df-container {\n",
              "      display:flex;\n",
              "      flex-wrap:wrap;\n",
              "      gap: 12px;\n",
              "    }\n",
              "\n",
              "    .colab-df-convert {\n",
              "      background-color: #E8F0FE;\n",
              "      border: none;\n",
              "      border-radius: 50%;\n",
              "      cursor: pointer;\n",
              "      display: none;\n",
              "      fill: #1967D2;\n",
              "      height: 32px;\n",
              "      padding: 0 0 0 0;\n",
              "      width: 32px;\n",
              "    }\n",
              "\n",
              "    .colab-df-convert:hover {\n",
              "      background-color: #E2EBFA;\n",
              "      box-shadow: 0px 1px 2px rgba(60, 64, 67, 0.3), 0px 1px 3px 1px rgba(60, 64, 67, 0.15);\n",
              "      fill: #174EA6;\n",
              "    }\n",
              "\n",
              "    [theme=dark] .colab-df-convert {\n",
              "      background-color: #3B4455;\n",
              "      fill: #D2E3FC;\n",
              "    }\n",
              "\n",
              "    [theme=dark] .colab-df-convert:hover {\n",
              "      background-color: #434B5C;\n",
              "      box-shadow: 0px 1px 3px 1px rgba(0, 0, 0, 0.15);\n",
              "      filter: drop-shadow(0px 1px 2px rgba(0, 0, 0, 0.3));\n",
              "      fill: #FFFFFF;\n",
              "    }\n",
              "  </style>\n",
              "\n",
              "      <script>\n",
              "        const buttonEl =\n",
              "          document.querySelector('#df-590e7b4d-1c14-4841-93c0-499d04e579d3 button.colab-df-convert');\n",
              "        buttonEl.style.display =\n",
              "          google.colab.kernel.accessAllowed ? 'block' : 'none';\n",
              "\n",
              "        async function convertToInteractive(key) {\n",
              "          const element = document.querySelector('#df-590e7b4d-1c14-4841-93c0-499d04e579d3');\n",
              "          const dataTable =\n",
              "            await google.colab.kernel.invokeFunction('convertToInteractive',\n",
              "                                                     [key], {});\n",
              "          if (!dataTable) return;\n",
              "\n",
              "          const docLinkHtml = 'Like what you see? Visit the ' +\n",
              "            '<a target=\"_blank\" href=https://colab.research.google.com/notebooks/data_table.ipynb>data table notebook</a>'\n",
              "            + ' to learn more about interactive tables.';\n",
              "          element.innerHTML = '';\n",
              "          dataTable['output_type'] = 'display_data';\n",
              "          await google.colab.output.renderOutput(dataTable, element);\n",
              "          const docLink = document.createElement('div');\n",
              "          docLink.innerHTML = docLinkHtml;\n",
              "          element.appendChild(docLink);\n",
              "        }\n",
              "      </script>\n",
              "    </div>\n",
              "  </div>\n",
              "  "
            ]
          },
          "metadata": {},
          "execution_count": 16
        }
      ]
    },
    {
      "cell_type": "markdown",
      "source": [
        "**Remove Emoji**"
      ],
      "metadata": {
        "id": "V8dABQW61Qdw"
      }
    },
    {
      "cell_type": "code",
      "source": [
        "def remove_emoji(string):\n",
        "    emoji_pattern = re.compile(\"[\"\n",
        "                           u\"\\U0001F600-\\U0001F64F\"  # emoticons\n",
        "                           u\"\\U0001F300-\\U0001F5FF\"  # symbols & pictographs\n",
        "                           u\"\\U0001F680-\\U0001F6FF\"  # transport & map symbols\n",
        "                           u\"\\U0001F1E0-\\U0001F1FF\"  # flags (iOS)\n",
        "                           u\"\\U00002702-\\U000027B0\"\n",
        "                           u\"\\U000024C2-\\U0001F251\"\n",
        "                           \"]+\", flags=re.UNICODE)\n",
        "    return emoji_pattern.sub(r'', string)\n",
        "\n",
        "remove_emoji(\"game is on 🔥🔥\")"
      ],
      "metadata": {
        "colab": {
          "base_uri": "https://localhost:8080/",
          "height": 36
        },
        "id": "t0EvyY3l1Nez",
        "outputId": "7da6ca47-d3f7-49a3-b014-0ca2b7f0fe09"
      },
      "execution_count": 17,
      "outputs": [
        {
          "output_type": "execute_result",
          "data": {
            "text/plain": [
              "'game is on '"
            ],
            "application/vnd.google.colaboratory.intrinsic+json": {
              "type": "string"
            }
          },
          "metadata": {},
          "execution_count": 17
        }
      ]
    },
    {
      "cell_type": "code",
      "source": [
        "for a in range(len(df['processed_tweets'])):\n",
        "\n",
        "  result = remove_emoji(df['processed_tweets'][a])\n",
        "  df['processed_tweets'][a]=result"
      ],
      "metadata": {
        "colab": {
          "base_uri": "https://localhost:8080/"
        },
        "id": "dTnJZScR1pcY",
        "outputId": "b4d303dd-af0b-48f3-8258-389232ebb412"
      },
      "execution_count": 18,
      "outputs": [
        {
          "output_type": "stream",
          "name": "stderr",
          "text": [
            "<ipython-input-18-410463c71472>:4: SettingWithCopyWarning: \n",
            "A value is trying to be set on a copy of a slice from a DataFrame\n",
            "\n",
            "See the caveats in the documentation: https://pandas.pydata.org/pandas-docs/stable/user_guide/indexing.html#returning-a-view-versus-a-copy\n",
            "  df['processed_tweets'][a]=result\n"
          ]
        }
      ]
    },
    {
      "cell_type": "markdown",
      "source": [
        "**Removal of Emoticons**"
      ],
      "metadata": {
        "id": "gGU7vhQL1h-9"
      }
    },
    {
      "cell_type": "code",
      "source": [
        "# Thanks : https://github.com/NeelShah18/emot/blob/master/emot/emo_unicode.py\n",
        "EMOTICONS = {\n",
        "    u\":‑\\)\":\"Happy face or smiley\",\n",
        "    u\":\\)\":\"Happy face or smiley\",\n",
        "    u\":-\\]\":\"Happy face or smiley\",\n",
        "    u\":\\]\":\"Happy face or smiley\",\n",
        "    u\":-3\":\"Happy face smiley\",\n",
        "    u\":3\":\"Happy face smiley\",\n",
        "    u\":->\":\"Happy face smiley\",\n",
        "    u\":>\":\"Happy face smiley\",\n",
        "    u\"8-\\)\":\"Happy face smiley\",\n",
        "    u\":o\\)\":\"Happy face smiley\",\n",
        "    u\":-\\}\":\"Happy face smiley\",\n",
        "    u\":\\}\":\"Happy face smiley\",\n",
        "    u\":-\\)\":\"Happy face smiley\",\n",
        "    u\":c\\)\":\"Happy face smiley\",\n",
        "    u\":\\^\\)\":\"Happy face smiley\",\n",
        "    u\"=\\]\":\"Happy face smiley\",\n",
        "    u\"=\\)\":\"Happy face smiley\",\n",
        "    u\":‑D\":\"Laughing, big grin or laugh with glasses\",\n",
        "    u\":D\":\"Laughing, big grin or laugh with glasses\",\n",
        "    u\"8‑D\":\"Laughing, big grin or laugh with glasses\",\n",
        "    u\"8D\":\"Laughing, big grin or laugh with glasses\",\n",
        "    u\"X‑D\":\"Laughing, big grin or laugh with glasses\",\n",
        "    u\"XD\":\"Laughing, big grin or laugh with glasses\",\n",
        "    u\"=D\":\"Laughing, big grin or laugh with glasses\",\n",
        "    u\"=3\":\"Laughing, big grin or laugh with glasses\",\n",
        "    u\"B\\^D\":\"Laughing, big grin or laugh with glasses\",\n",
        "    u\":-\\)\\)\":\"Very happy\",\n",
        "    u\":‑\\(\":\"Frown, sad, andry or pouting\",\n",
        "    u\":-\\(\":\"Frown, sad, andry or pouting\",\n",
        "    u\":\\(\":\"Frown, sad, andry or pouting\",\n",
        "    u\":‑c\":\"Frown, sad, andry or pouting\",\n",
        "    u\":c\":\"Frown, sad, andry or pouting\",\n",
        "    u\":‑<\":\"Frown, sad, andry or pouting\",\n",
        "    u\":<\":\"Frown, sad, andry or pouting\",\n",
        "    u\":‑\\[\":\"Frown, sad, andry or pouting\",\n",
        "    u\":\\[\":\"Frown, sad, andry or pouting\",\n",
        "    u\":-\\|\\|\":\"Frown, sad, andry or pouting\",\n",
        "    u\">:\\[\":\"Frown, sad, andry or pouting\",\n",
        "    u\":\\{\":\"Frown, sad, andry or pouting\",\n",
        "    u\":@\":\"Frown, sad, andry or pouting\",\n",
        "    u\">:\\(\":\"Frown, sad, andry or pouting\",\n",
        "    u\":'‑\\(\":\"Crying\",\n",
        "    u\":'\\(\":\"Crying\",\n",
        "    u\":'‑\\)\":\"Tears of happiness\",\n",
        "    u\":'\\)\":\"Tears of happiness\",\n",
        "    u\"D‑':\":\"Horror\",\n",
        "    u\"D:<\":\"Disgust\",\n",
        "    u\"D:\":\"Sadness\",\n",
        "    u\"D8\":\"Great dismay\",\n",
        "    u\"D;\":\"Great dismay\",\n",
        "    u\"D=\":\"Great dismay\",\n",
        "    u\"DX\":\"Great dismay\",\n",
        "    u\":‑O\":\"Surprise\",\n",
        "    u\":O\":\"Surprise\",\n",
        "    u\":‑o\":\"Surprise\",\n",
        "    u\":o\":\"Surprise\",\n",
        "    u\":-0\":\"Shock\",\n",
        "    u\"8‑0\":\"Yawn\",\n",
        "    u\">:O\":\"Yawn\",\n",
        "    u\":-\\*\":\"Kiss\",\n",
        "    u\":\\*\":\"Kiss\",\n",
        "    u\":X\":\"Kiss\",\n",
        "    u\";‑\\)\":\"Wink or smirk\",\n",
        "    u\";\\)\":\"Wink or smirk\",\n",
        "    u\"\\*-\\)\":\"Wink or smirk\",\n",
        "    u\"\\*\\)\":\"Wink or smirk\",\n",
        "    u\";‑\\]\":\"Wink or smirk\",\n",
        "    u\";\\]\":\"Wink or smirk\",\n",
        "    u\";\\^\\)\":\"Wink or smirk\",\n",
        "    u\":‑,\":\"Wink or smirk\",\n",
        "    u\";D\":\"Wink or smirk\",\n",
        "    u\":‑P\":\"Tongue sticking out, cheeky, playful or blowing a raspberry\",\n",
        "    u\":P\":\"Tongue sticking out, cheeky, playful or blowing a raspberry\",\n",
        "    u\"X‑P\":\"Tongue sticking out, cheeky, playful or blowing a raspberry\",\n",
        "    u\"XP\":\"Tongue sticking out, cheeky, playful or blowing a raspberry\",\n",
        "    u\":‑Þ\":\"Tongue sticking out, cheeky, playful or blowing a raspberry\",\n",
        "    u\":Þ\":\"Tongue sticking out, cheeky, playful or blowing a raspberry\",\n",
        "    u\":b\":\"Tongue sticking out, cheeky, playful or blowing a raspberry\",\n",
        "    u\"d:\":\"Tongue sticking out, cheeky, playful or blowing a raspberry\",\n",
        "    u\"=p\":\"Tongue sticking out, cheeky, playful or blowing a raspberry\",\n",
        "    u\">:P\":\"Tongue sticking out, cheeky, playful or blowing a raspberry\",\n",
        "    u\":‑/\":\"Skeptical, annoyed, undecided, uneasy or hesitant\",\n",
        "    u\":/\":\"Skeptical, annoyed, undecided, uneasy or hesitant\",\n",
        "    u\":-[.]\":\"Skeptical, annoyed, undecided, uneasy or hesitant\",\n",
        "    u\">:[(\\\\\\)]\":\"Skeptical, annoyed, undecided, uneasy or hesitant\",\n",
        "    u\">:/\":\"Skeptical, annoyed, undecided, uneasy or hesitant\",\n",
        "    u\":[(\\\\\\)]\":\"Skeptical, annoyed, undecided, uneasy or hesitant\",\n",
        "    u\"=/\":\"Skeptical, annoyed, undecided, uneasy or hesitant\",\n",
        "    u\"=[(\\\\\\)]\":\"Skeptical, annoyed, undecided, uneasy or hesitant\",\n",
        "    u\":L\":\"Skeptical, annoyed, undecided, uneasy or hesitant\",\n",
        "    u\"=L\":\"Skeptical, annoyed, undecided, uneasy or hesitant\",\n",
        "    u\":S\":\"Skeptical, annoyed, undecided, uneasy or hesitant\",\n",
        "    u\":‑\\|\":\"Straight face\",\n",
        "    u\":\\|\":\"Straight face\",\n",
        "    u\":$\":\"Embarrassed or blushing\",\n",
        "    u\":‑x\":\"Sealed lips or wearing braces or tongue-tied\",\n",
        "    u\":x\":\"Sealed lips or wearing braces or tongue-tied\",\n",
        "    u\":‑#\":\"Sealed lips or wearing braces or tongue-tied\",\n",
        "    u\":#\":\"Sealed lips or wearing braces or tongue-tied\",\n",
        "    u\":‑&\":\"Sealed lips or wearing braces or tongue-tied\",\n",
        "    u\":&\":\"Sealed lips or wearing braces or tongue-tied\",\n",
        "    u\"O:‑\\)\":\"Angel, saint or innocent\",\n",
        "    u\"O:\\)\":\"Angel, saint or innocent\",\n",
        "    u\"0:‑3\":\"Angel, saint or innocent\",\n",
        "    u\"0:3\":\"Angel, saint or innocent\",\n",
        "    u\"0:‑\\)\":\"Angel, saint or innocent\",\n",
        "    u\"0:\\)\":\"Angel, saint or innocent\",\n",
        "    u\":‑b\":\"Tongue sticking out, cheeky, playful or blowing a raspberry\",\n",
        "    u\"0;\\^\\)\":\"Angel, saint or innocent\",\n",
        "    u\">:‑\\)\":\"Evil or devilish\",\n",
        "    u\">:\\)\":\"Evil or devilish\",\n",
        "    u\"\\}:‑\\)\":\"Evil or devilish\",\n",
        "    u\"\\}:\\)\":\"Evil or devilish\",\n",
        "    u\"3:‑\\)\":\"Evil or devilish\",\n",
        "    u\"3:\\)\":\"Evil or devilish\",\n",
        "    u\">;\\)\":\"Evil or devilish\",\n",
        "    u\"\\|;‑\\)\":\"Cool\",\n",
        "    u\"\\|‑O\":\"Bored\",\n",
        "    u\":‑J\":\"Tongue-in-cheek\",\n",
        "    u\"#‑\\)\":\"Party all night\",\n",
        "    u\"%‑\\)\":\"Drunk or confused\",\n",
        "    u\"%\\)\":\"Drunk or confused\",\n",
        "    u\":-###..\":\"Being sick\",\n",
        "    u\":###..\":\"Being sick\",\n",
        "    u\"<:‑\\|\":\"Dump\",\n",
        "    u\"\\(>_<\\)\":\"Troubled\",\n",
        "    u\"\\(>_<\\)>\":\"Troubled\",\n",
        "    u\"\\(';'\\)\":\"Baby\",\n",
        "    u\"\\(\\^\\^>``\":\"Nervous or Embarrassed or Troubled or Shy or Sweat drop\",\n",
        "    u\"\\(\\^_\\^;\\)\":\"Nervous or Embarrassed or Troubled or Shy or Sweat drop\",\n",
        "    u\"\\(-_-;\\)\":\"Nervous or Embarrassed or Troubled or Shy or Sweat drop\",\n",
        "    u\"\\(~_~;\\) \\(・\\.・;\\)\":\"Nervous or Embarrassed or Troubled or Shy or Sweat drop\",\n",
        "    u\"\\(-_-\\)zzz\":\"Sleeping\",\n",
        "    u\"\\(\\^_-\\)\":\"Wink\",\n",
        "    u\"\\(\\(\\+_\\+\\)\\)\":\"Confused\",\n",
        "    u\"\\(\\+o\\+\\)\":\"Confused\",\n",
        "    u\"\\(o\\|o\\)\":\"Ultraman\",\n",
        "    u\"\\^_\\^\":\"Joyful\",\n",
        "    u\"\\(\\^_\\^\\)/\":\"Joyful\",\n",
        "    u\"\\(\\^O\\^\\)／\":\"Joyful\",\n",
        "    u\"\\(\\^o\\^\\)／\":\"Joyful\",\n",
        "    u\"\\(__\\)\":\"Kowtow as a sign of respect, or dogeza for apology\",\n",
        "    u\"_\\(\\._\\.\\)_\":\"Kowtow as a sign of respect, or dogeza for apology\",\n",
        "    u\"<\\(_ _\\)>\":\"Kowtow as a sign of respect, or dogeza for apology\",\n",
        "    u\"<m\\(__\\)m>\":\"Kowtow as a sign of respect, or dogeza for apology\",\n",
        "    u\"m\\(__\\)m\":\"Kowtow as a sign of respect, or dogeza for apology\",\n",
        "    u\"m\\(_ _\\)m\":\"Kowtow as a sign of respect, or dogeza for apology\",\n",
        "    u\"\\('_'\\)\":\"Sad or Crying\",\n",
        "    u\"\\(/_;\\)\":\"Sad or Crying\",\n",
        "    u\"\\(T_T\\) \\(;_;\\)\":\"Sad or Crying\",\n",
        "    u\"\\(;_;\":\"Sad of Crying\",\n",
        "    u\"\\(;_:\\)\":\"Sad or Crying\",\n",
        "    u\"\\(;O;\\)\":\"Sad or Crying\",\n",
        "    u\"\\(:_;\\)\":\"Sad or Crying\",\n",
        "    u\"\\(ToT\\)\":\"Sad or Crying\",\n",
        "    u\";_;\":\"Sad or Crying\",\n",
        "    u\";-;\":\"Sad or Crying\",\n",
        "    u\";n;\":\"Sad or Crying\",\n",
        "    u\";;\":\"Sad or Crying\",\n",
        "    u\"Q\\.Q\":\"Sad or Crying\",\n",
        "    u\"T\\.T\":\"Sad or Crying\",\n",
        "    u\"QQ\":\"Sad or Crying\",\n",
        "    u\"Q_Q\":\"Sad or Crying\",\n",
        "    u\"\\(-\\.-\\)\":\"Shame\",\n",
        "    u\"\\(-_-\\)\":\"Shame\",\n",
        "    u\"\\(一一\\)\":\"Shame\",\n",
        "    u\"\\(；一_一\\)\":\"Shame\",\n",
        "    u\"\\(=_=\\)\":\"Tired\",\n",
        "    u\"\\(=\\^\\·\\^=\\)\":\"cat\",\n",
        "    u\"\\(=\\^\\·\\·\\^=\\)\":\"cat\",\n",
        "    u\"=_\\^=\t\":\"cat\",\n",
        "    u\"\\(\\.\\.\\)\":\"Looking down\",\n",
        "    u\"\\(\\._\\.\\)\":\"Looking down\",\n",
        "    u\"\\^m\\^\":\"Giggling with hand covering mouth\",\n",
        "    u\"\\(\\・\\・?\":\"Confusion\",\n",
        "    u\"\\(?_?\\)\":\"Confusion\",\n",
        "    u\">\\^_\\^<\":\"Normal Laugh\",\n",
        "    u\"<\\^!\\^>\":\"Normal Laugh\",\n",
        "    u\"\\^/\\^\":\"Normal Laugh\",\n",
        "    u\"\\（\\*\\^_\\^\\*）\" :\"Normal Laugh\",\n",
        "    u\"\\(\\^<\\^\\) \\(\\^\\.\\^\\)\":\"Normal Laugh\",\n",
        "    u\"\\(^\\^\\)\":\"Normal Laugh\",\n",
        "    u\"\\(\\^\\.\\^\\)\":\"Normal Laugh\",\n",
        "    u\"\\(\\^_\\^\\.\\)\":\"Normal Laugh\",\n",
        "    u\"\\(\\^_\\^\\)\":\"Normal Laugh\",\n",
        "    u\"\\(\\^\\^\\)\":\"Normal Laugh\",\n",
        "    u\"\\(\\^J\\^\\)\":\"Normal Laugh\",\n",
        "    u\"\\(\\*\\^\\.\\^\\*\\)\":\"Normal Laugh\",\n",
        "    u\"\\(\\^—\\^\\）\":\"Normal Laugh\",\n",
        "    u\"\\(#\\^\\.\\^#\\)\":\"Normal Laugh\",\n",
        "    u\"\\（\\^—\\^\\）\":\"Waving\",\n",
        "    u\"\\(;_;\\)/~~~\":\"Waving\",\n",
        "    u\"\\(\\^\\.\\^\\)/~~~\":\"Waving\",\n",
        "    u\"\\(-_-\\)/~~~ \\($\\·\\·\\)/~~~\":\"Waving\",\n",
        "    u\"\\(T_T\\)/~~~\":\"Waving\",\n",
        "    u\"\\(ToT\\)/~~~\":\"Waving\",\n",
        "    u\"\\(\\*\\^0\\^\\*\\)\":\"Excited\",\n",
        "    u\"\\(\\*_\\*\\)\":\"Amazed\",\n",
        "    u\"\\(\\*_\\*;\":\"Amazed\",\n",
        "    u\"\\(\\+_\\+\\) \\(@_@\\)\":\"Amazed\",\n",
        "    u\"\\(\\*\\^\\^\\)v\":\"Laughing,Cheerful\",\n",
        "    u\"\\(\\^_\\^\\)v\":\"Laughing,Cheerful\",\n",
        "    u\"\\(\\(d[-_-]b\\)\\)\":\"Headphones,Listening to music\",\n",
        "    u'\\(-\"-\\)':\"Worried\",\n",
        "    u\"\\(ーー;\\)\":\"Worried\",\n",
        "    u\"\\(\\^0_0\\^\\)\":\"Eyeglasses\",\n",
        "    u\"\\(\\＾ｖ\\＾\\)\":\"Happy\",\n",
        "    u\"\\(\\＾ｕ\\＾\\)\":\"Happy\",\n",
        "    u\"\\(\\^\\)o\\(\\^\\)\":\"Happy\",\n",
        "    u\"\\(\\^O\\^\\)\":\"Happy\",\n",
        "    u\"\\(\\^o\\^\\)\":\"Happy\",\n",
        "    u\"\\)\\^o\\^\\(\":\"Happy\",\n",
        "    u\":O o_O\":\"Surprised\",\n",
        "    u\"o_0\":\"Surprised\",\n",
        "    u\"o\\.O\":\"Surpised\",\n",
        "    u\"\\(o\\.o\\)\":\"Surprised\",\n",
        "    u\"oO\":\"Surprised\",\n",
        "    u\"\\(\\*￣m￣\\)\":\"Dissatisfied\",\n",
        "    u\"\\(‘A`\\)\":\"Snubbed or Deflated\"\n",
        "}"
      ],
      "metadata": {
        "id": "ApFIQUxN1Wdz"
      },
      "execution_count": 19,
      "outputs": []
    },
    {
      "cell_type": "code",
      "source": [
        "def remove_emoticons(text):\n",
        "    emoticon_pattern = re.compile(u'(' + u'|'.join(k for k in EMOTICONS) + u')')\n",
        "    return emoticon_pattern.sub(r'', text)\n",
        "\n",
        "remove_emoticons(\"Hello :-)\")"
      ],
      "metadata": {
        "colab": {
          "base_uri": "https://localhost:8080/",
          "height": 36
        },
        "id": "RKnYk-XJ1sTy",
        "outputId": "b8927667-1799-4ff0-a6cb-7b73c17dc910"
      },
      "execution_count": 20,
      "outputs": [
        {
          "output_type": "execute_result",
          "data": {
            "text/plain": [
              "'Hello '"
            ],
            "application/vnd.google.colaboratory.intrinsic+json": {
              "type": "string"
            }
          },
          "metadata": {},
          "execution_count": 20
        }
      ]
    },
    {
      "cell_type": "code",
      "source": [
        "for a in range(len(df['processed_tweets'])):\n",
        "\n",
        "  result = remove_emoticons(df['processed_tweets'][a])\n",
        "  df['processed_tweets'][a]=result\n",
        "print(\"No Emoticons:\")\n",
        "print(result)"
      ],
      "metadata": {
        "colab": {
          "base_uri": "https://localhost:8080/"
        },
        "id": "gcuABcoY1tdL",
        "outputId": "c4361b23-f8e1-4f58-e6ae-b24b50fa4296"
      },
      "execution_count": 21,
      "outputs": [
        {
          "output_type": "stream",
          "name": "stderr",
          "text": [
            "<ipython-input-21-5918f88f12da>:4: SettingWithCopyWarning: \n",
            "A value is trying to be set on a copy of a slice from a DataFrame\n",
            "\n",
            "See the caveats in the documentation: https://pandas.pydata.org/pandas-docs/stable/user_guide/indexing.html#returning-a-view-versus-a-copy\n",
            "  df['processed_tweets'][a]=result\n"
          ]
        },
        {
          "output_type": "stream",
          "name": "stdout",
          "text": [
            "No Emoticons:\n",
            "good morning everyone welcome to my new followers and    big hug    to everyone  hope your monday morning is moving along spectacularly \n"
          ]
        }
      ]
    },
    {
      "cell_type": "code",
      "source": [
        "df.head()"
      ],
      "metadata": {
        "colab": {
          "base_uri": "https://localhost:8080/",
          "height": 337
        },
        "id": "ZGMdY4801umr",
        "outputId": "cd77b654-676f-4114-ea36-9ea27a7ac48f"
      },
      "execution_count": 22,
      "outputs": [
        {
          "output_type": "execute_result",
          "data": {
            "text/plain": [
              "   target                                              tweet  \\\n",
              "0       0  @switchfoot http://twitpic.com/2y1zl - Awww, t...   \n",
              "1       0  is upset that he can't update his Facebook by ...   \n",
              "2       0  @Kenichan I dived many times for the ball. Man...   \n",
              "3       0    my whole body feels itchy and like its on fire    \n",
              "4       0  @nationwideclass no, it's not behaving at all....   \n",
              "\n",
              "                                    processed_tweets  \n",
              "0    awww  thats a bummer  you shoulda got david ...  \n",
              "1  is upset that he cant update his facebook by t...  \n",
              "2  i dived many times for the ball  managed to sa...  \n",
              "3     my whole body feels itchy and like its on fire  \n",
              "4  no  its not behaving at all  im mad  why am i ...  "
            ],
            "text/html": [
              "\n",
              "  <div id=\"df-7e43225b-af4b-4ab7-89ab-50074e3e8b8b\">\n",
              "    <div class=\"colab-df-container\">\n",
              "      <div>\n",
              "<style scoped>\n",
              "    .dataframe tbody tr th:only-of-type {\n",
              "        vertical-align: middle;\n",
              "    }\n",
              "\n",
              "    .dataframe tbody tr th {\n",
              "        vertical-align: top;\n",
              "    }\n",
              "\n",
              "    .dataframe thead th {\n",
              "        text-align: right;\n",
              "    }\n",
              "</style>\n",
              "<table border=\"1\" class=\"dataframe\">\n",
              "  <thead>\n",
              "    <tr style=\"text-align: right;\">\n",
              "      <th></th>\n",
              "      <th>target</th>\n",
              "      <th>tweet</th>\n",
              "      <th>processed_tweets</th>\n",
              "    </tr>\n",
              "  </thead>\n",
              "  <tbody>\n",
              "    <tr>\n",
              "      <th>0</th>\n",
              "      <td>0</td>\n",
              "      <td>@switchfoot http://twitpic.com/2y1zl - Awww, t...</td>\n",
              "      <td>awww  thats a bummer  you shoulda got david ...</td>\n",
              "    </tr>\n",
              "    <tr>\n",
              "      <th>1</th>\n",
              "      <td>0</td>\n",
              "      <td>is upset that he can't update his Facebook by ...</td>\n",
              "      <td>is upset that he cant update his facebook by t...</td>\n",
              "    </tr>\n",
              "    <tr>\n",
              "      <th>2</th>\n",
              "      <td>0</td>\n",
              "      <td>@Kenichan I dived many times for the ball. Man...</td>\n",
              "      <td>i dived many times for the ball  managed to sa...</td>\n",
              "    </tr>\n",
              "    <tr>\n",
              "      <th>3</th>\n",
              "      <td>0</td>\n",
              "      <td>my whole body feels itchy and like its on fire</td>\n",
              "      <td>my whole body feels itchy and like its on fire</td>\n",
              "    </tr>\n",
              "    <tr>\n",
              "      <th>4</th>\n",
              "      <td>0</td>\n",
              "      <td>@nationwideclass no, it's not behaving at all....</td>\n",
              "      <td>no  its not behaving at all  im mad  why am i ...</td>\n",
              "    </tr>\n",
              "  </tbody>\n",
              "</table>\n",
              "</div>\n",
              "      <button class=\"colab-df-convert\" onclick=\"convertToInteractive('df-7e43225b-af4b-4ab7-89ab-50074e3e8b8b')\"\n",
              "              title=\"Convert this dataframe to an interactive table.\"\n",
              "              style=\"display:none;\">\n",
              "        \n",
              "  <svg xmlns=\"http://www.w3.org/2000/svg\" height=\"24px\"viewBox=\"0 0 24 24\"\n",
              "       width=\"24px\">\n",
              "    <path d=\"M0 0h24v24H0V0z\" fill=\"none\"/>\n",
              "    <path d=\"M18.56 5.44l.94 2.06.94-2.06 2.06-.94-2.06-.94-.94-2.06-.94 2.06-2.06.94zm-11 1L8.5 8.5l.94-2.06 2.06-.94-2.06-.94L8.5 2.5l-.94 2.06-2.06.94zm10 10l.94 2.06.94-2.06 2.06-.94-2.06-.94-.94-2.06-.94 2.06-2.06.94z\"/><path d=\"M17.41 7.96l-1.37-1.37c-.4-.4-.92-.59-1.43-.59-.52 0-1.04.2-1.43.59L10.3 9.45l-7.72 7.72c-.78.78-.78 2.05 0 2.83L4 21.41c.39.39.9.59 1.41.59.51 0 1.02-.2 1.41-.59l7.78-7.78 2.81-2.81c.8-.78.8-2.07 0-2.86zM5.41 20L4 18.59l7.72-7.72 1.47 1.35L5.41 20z\"/>\n",
              "  </svg>\n",
              "      </button>\n",
              "      \n",
              "  <style>\n",
              "    .colab-df-container {\n",
              "      display:flex;\n",
              "      flex-wrap:wrap;\n",
              "      gap: 12px;\n",
              "    }\n",
              "\n",
              "    .colab-df-convert {\n",
              "      background-color: #E8F0FE;\n",
              "      border: none;\n",
              "      border-radius: 50%;\n",
              "      cursor: pointer;\n",
              "      display: none;\n",
              "      fill: #1967D2;\n",
              "      height: 32px;\n",
              "      padding: 0 0 0 0;\n",
              "      width: 32px;\n",
              "    }\n",
              "\n",
              "    .colab-df-convert:hover {\n",
              "      background-color: #E2EBFA;\n",
              "      box-shadow: 0px 1px 2px rgba(60, 64, 67, 0.3), 0px 1px 3px 1px rgba(60, 64, 67, 0.15);\n",
              "      fill: #174EA6;\n",
              "    }\n",
              "\n",
              "    [theme=dark] .colab-df-convert {\n",
              "      background-color: #3B4455;\n",
              "      fill: #D2E3FC;\n",
              "    }\n",
              "\n",
              "    [theme=dark] .colab-df-convert:hover {\n",
              "      background-color: #434B5C;\n",
              "      box-shadow: 0px 1px 3px 1px rgba(0, 0, 0, 0.15);\n",
              "      filter: drop-shadow(0px 1px 2px rgba(0, 0, 0, 0.3));\n",
              "      fill: #FFFFFF;\n",
              "    }\n",
              "  </style>\n",
              "\n",
              "      <script>\n",
              "        const buttonEl =\n",
              "          document.querySelector('#df-7e43225b-af4b-4ab7-89ab-50074e3e8b8b button.colab-df-convert');\n",
              "        buttonEl.style.display =\n",
              "          google.colab.kernel.accessAllowed ? 'block' : 'none';\n",
              "\n",
              "        async function convertToInteractive(key) {\n",
              "          const element = document.querySelector('#df-7e43225b-af4b-4ab7-89ab-50074e3e8b8b');\n",
              "          const dataTable =\n",
              "            await google.colab.kernel.invokeFunction('convertToInteractive',\n",
              "                                                     [key], {});\n",
              "          if (!dataTable) return;\n",
              "\n",
              "          const docLinkHtml = 'Like what you see? Visit the ' +\n",
              "            '<a target=\"_blank\" href=https://colab.research.google.com/notebooks/data_table.ipynb>data table notebook</a>'\n",
              "            + ' to learn more about interactive tables.';\n",
              "          element.innerHTML = '';\n",
              "          dataTable['output_type'] = 'display_data';\n",
              "          await google.colab.output.renderOutput(dataTable, element);\n",
              "          const docLink = document.createElement('div');\n",
              "          docLink.innerHTML = docLinkHtml;\n",
              "          element.appendChild(docLink);\n",
              "        }\n",
              "      </script>\n",
              "    </div>\n",
              "  </div>\n",
              "  "
            ]
          },
          "metadata": {},
          "execution_count": 22
        }
      ]
    },
    {
      "cell_type": "code",
      "source": [
        "df.isna().sum()"
      ],
      "metadata": {
        "colab": {
          "base_uri": "https://localhost:8080/"
        },
        "id": "VO8u9rXZ1v7D",
        "outputId": "7b9fd142-7d81-443d-b41e-fe239e851b0d"
      },
      "execution_count": 23,
      "outputs": [
        {
          "output_type": "execute_result",
          "data": {
            "text/plain": [
              "target              0\n",
              "tweet               0\n",
              "processed_tweets    0\n",
              "dtype: int64"
            ]
          },
          "metadata": {},
          "execution_count": 23
        }
      ]
    },
    {
      "cell_type": "markdown",
      "source": [
        "**Labeling the target fields**"
      ],
      "metadata": {
        "id": "pt0bdl3_2EgP"
      }
    },
    {
      "cell_type": "code",
      "source": [
        "df['target'].value_counts()"
      ],
      "metadata": {
        "colab": {
          "base_uri": "https://localhost:8080/"
        },
        "id": "7f7IMoIR1x4T",
        "outputId": "e16d321e-aa7d-4d69-fae5-12bfef936fe8"
      },
      "execution_count": 24,
      "outputs": [
        {
          "output_type": "execute_result",
          "data": {
            "text/plain": [
              "4    51150\n",
              "0    50009\n",
              "Name: target, dtype: int64"
            ]
          },
          "metadata": {},
          "execution_count": 24
        }
      ]
    },
    {
      "cell_type": "code",
      "source": [
        "df['Target']=df['target'].replace(4,1)\n",
        "df['Target'].value_counts()"
      ],
      "metadata": {
        "colab": {
          "base_uri": "https://localhost:8080/"
        },
        "id": "jXoB5TZx2WAb",
        "outputId": "6c0731bc-1379-4d32-d90a-aae67636ff6c"
      },
      "execution_count": 25,
      "outputs": [
        {
          "output_type": "execute_result",
          "data": {
            "text/plain": [
              "1    51150\n",
              "0    50009\n",
              "Name: Target, dtype: int64"
            ]
          },
          "metadata": {},
          "execution_count": 25
        }
      ]
    },
    {
      "cell_type": "code",
      "source": [],
      "metadata": {
        "id": "xyYcHrwl2XMD"
      },
      "execution_count": 25,
      "outputs": []
    },
    {
      "cell_type": "code",
      "source": [
        "import os\n",
        "import re\n",
        "\n",
        "import numpy as np\n",
        "import tensorflow as tf\n",
        "\n",
        "# np.random.seed(1)\n",
        "# tf.set_random_seed(2)\n",
        "\n",
        "import pandas as pd\n",
        "import keras\n",
        "# from tqdm import tqdm\n",
        "from tqdm import tqdm_notebook as tqdm\n",
        "from sklearn.model_selection import train_test_split\n",
        "from sklearn.preprocessing import LabelEncoder\n",
        "from sklearn.utils import class_weight\n",
        "from sklearn.metrics import f1_score, classification_report, log_loss\n",
        "\n",
        "from keras.preprocessing.text import Tokenizer\n",
        "from keras_preprocessing.sequence import pad_sequences\n",
        "# from keras.utils import to_categorical\n",
        "from tensorflow.keras.utils import to_categorical\n",
        "\n",
        "from keras.models import Sequential\n",
        "from keras.layers import Embedding, LSTM, Dense, SpatialDropout1D, Bidirectional, Flatten\n",
        "from keras.layers import Dropout, Conv1D, GlobalMaxPool1D, GRU, GlobalAvgPool1D\n",
        "# from keras.optimizers import Adam\n",
        "from keras.callbacks import ModelCheckpoint, EarlyStopping"
      ],
      "metadata": {
        "id": "cZ4AOjKU2bV_"
      },
      "execution_count": 26,
      "outputs": []
    },
    {
      "cell_type": "markdown",
      "source": [
        "**Stop Words**"
      ],
      "metadata": {
        "id": "743RkaNL2poX"
      }
    },
    {
      "cell_type": "code",
      "source": [
        "stopwordlist = ['a', 'about', 'above', 'after', 'again', 'ain', 'all', 'am', 'an',\n",
        "             'and','any','are', 'as', 'at', 'be', 'because', 'been', 'before',\n",
        "             'being', 'below', 'between','both', 'by', 'can', 'd', 'did', 'do',\n",
        "             'does', 'doing', 'down', 'during', 'each','few', 'for', 'from',\n",
        "             'further', 'had', 'has', 'have', 'having', 'he', 'her', 'here',\n",
        "             'hers', 'herself', 'him', 'himself', 'his', 'how', 'i', 'if', 'in',\n",
        "             'into','is', 'it', 'its', 'itself', 'just', 'll', 'm', 'ma',\n",
        "             'me', 'more', 'most','my', 'myself', 'now', 'o', 'of', 'on', 'once',\n",
        "             'only', 'or', 'other', 'our', 'ours','ourselves', 'out', 'own', 're','s', 'same', 'she', \"shes\", 'should', \"shouldve\",'so', 'some', 'such',\n",
        "             't', 'than', 'that', \"thatll\", 'the', 'their', 'theirs', 'them',\n",
        "             'themselves', 'then', 'there', 'these', 'they', 'this', 'those',\n",
        "             'through', 'to', 'too','under', 'until', 'up', 've', 'very', 'was',\n",
        "             'we', 'were', 'what', 'when', 'where','which','while', 'who', 'whom',\n",
        "             'why', 'will', 'with', 'won', 'y', 'you', \"youd\",\"youll\", \"youre\",\n",
        "             \"youve\", 'your', 'yours', 'yourself', 'yourselves']"
      ],
      "metadata": {
        "id": "ioCfaUPC2b5j"
      },
      "execution_count": 27,
      "outputs": []
    },
    {
      "cell_type": "code",
      "source": [
        "STOPWORDS = set(stopwordlist)\n",
        "def cleaning_stopwords(text):\n",
        "    return \" \".join([word for word in str(text).split() if word not in STOPWORDS])\n",
        "\n",
        "\n",
        " #apply function   \n",
        "df['processed_tweets'] = df['processed_tweets'].apply(lambda text: cleaning_stopwords(text))\n",
        "df['processed_tweets'].head()"
      ],
      "metadata": {
        "colab": {
          "base_uri": "https://localhost:8080/"
        },
        "id": "WsGW46xK2tUD",
        "outputId": "dcddda63-f396-455a-d183-ed4ad2db43c1"
      },
      "execution_count": 28,
      "outputs": [
        {
          "output_type": "execute_result",
          "data": {
            "text/plain": [
              "0    awww thats bummer shoulda got david carr third...\n",
              "1    upset cant update facebook texting might cry r...\n",
              "2    dived many times ball managed save 50 rest go ...\n",
              "3                     whole body feels itchy like fire\n",
              "4                 no not behaving im mad cant see over\n",
              "Name: processed_tweets, dtype: object"
            ]
          },
          "metadata": {},
          "execution_count": 28
        }
      ]
    },
    {
      "cell_type": "code",
      "source": [
        "dataset = df.drop('tweet',axis=1)\n",
        "dataset"
      ],
      "metadata": {
        "colab": {
          "base_uri": "https://localhost:8080/",
          "height": 423
        },
        "id": "Ya4EW3G_2vOr",
        "outputId": "3d3365ab-78df-4a0b-ca67-40a59ac1097b"
      },
      "execution_count": 29,
      "outputs": [
        {
          "output_type": "execute_result",
          "data": {
            "text/plain": [
              "        target                                   processed_tweets  Target\n",
              "0            0  awww thats bummer shoulda got david carr third...       0\n",
              "1            0  upset cant update facebook texting might cry r...       0\n",
              "2            0  dived many times ball managed save 50 rest go ...       0\n",
              "3            0                   whole body feels itchy like fire       0\n",
              "4            0               no not behaving im mad cant see over       0\n",
              "...        ...                                                ...     ...\n",
              "101154       4                                 congrats followers       1\n",
              "101155       4                          back dat ass full service       1\n",
              "101156       4                school 12 minutes get picked morgan       1\n",
              "101157       4                                         sounds fun       1\n",
              "101158       4  good morning everyone welcome new followers bi...       1\n",
              "\n",
              "[101159 rows x 3 columns]"
            ],
            "text/html": [
              "\n",
              "  <div id=\"df-67c66980-ed74-4c6b-b1f4-2cafbcb80665\">\n",
              "    <div class=\"colab-df-container\">\n",
              "      <div>\n",
              "<style scoped>\n",
              "    .dataframe tbody tr th:only-of-type {\n",
              "        vertical-align: middle;\n",
              "    }\n",
              "\n",
              "    .dataframe tbody tr th {\n",
              "        vertical-align: top;\n",
              "    }\n",
              "\n",
              "    .dataframe thead th {\n",
              "        text-align: right;\n",
              "    }\n",
              "</style>\n",
              "<table border=\"1\" class=\"dataframe\">\n",
              "  <thead>\n",
              "    <tr style=\"text-align: right;\">\n",
              "      <th></th>\n",
              "      <th>target</th>\n",
              "      <th>processed_tweets</th>\n",
              "      <th>Target</th>\n",
              "    </tr>\n",
              "  </thead>\n",
              "  <tbody>\n",
              "    <tr>\n",
              "      <th>0</th>\n",
              "      <td>0</td>\n",
              "      <td>awww thats bummer shoulda got david carr third...</td>\n",
              "      <td>0</td>\n",
              "    </tr>\n",
              "    <tr>\n",
              "      <th>1</th>\n",
              "      <td>0</td>\n",
              "      <td>upset cant update facebook texting might cry r...</td>\n",
              "      <td>0</td>\n",
              "    </tr>\n",
              "    <tr>\n",
              "      <th>2</th>\n",
              "      <td>0</td>\n",
              "      <td>dived many times ball managed save 50 rest go ...</td>\n",
              "      <td>0</td>\n",
              "    </tr>\n",
              "    <tr>\n",
              "      <th>3</th>\n",
              "      <td>0</td>\n",
              "      <td>whole body feels itchy like fire</td>\n",
              "      <td>0</td>\n",
              "    </tr>\n",
              "    <tr>\n",
              "      <th>4</th>\n",
              "      <td>0</td>\n",
              "      <td>no not behaving im mad cant see over</td>\n",
              "      <td>0</td>\n",
              "    </tr>\n",
              "    <tr>\n",
              "      <th>...</th>\n",
              "      <td>...</td>\n",
              "      <td>...</td>\n",
              "      <td>...</td>\n",
              "    </tr>\n",
              "    <tr>\n",
              "      <th>101154</th>\n",
              "      <td>4</td>\n",
              "      <td>congrats followers</td>\n",
              "      <td>1</td>\n",
              "    </tr>\n",
              "    <tr>\n",
              "      <th>101155</th>\n",
              "      <td>4</td>\n",
              "      <td>back dat ass full service</td>\n",
              "      <td>1</td>\n",
              "    </tr>\n",
              "    <tr>\n",
              "      <th>101156</th>\n",
              "      <td>4</td>\n",
              "      <td>school 12 minutes get picked morgan</td>\n",
              "      <td>1</td>\n",
              "    </tr>\n",
              "    <tr>\n",
              "      <th>101157</th>\n",
              "      <td>4</td>\n",
              "      <td>sounds fun</td>\n",
              "      <td>1</td>\n",
              "    </tr>\n",
              "    <tr>\n",
              "      <th>101158</th>\n",
              "      <td>4</td>\n",
              "      <td>good morning everyone welcome new followers bi...</td>\n",
              "      <td>1</td>\n",
              "    </tr>\n",
              "  </tbody>\n",
              "</table>\n",
              "<p>101159 rows × 3 columns</p>\n",
              "</div>\n",
              "      <button class=\"colab-df-convert\" onclick=\"convertToInteractive('df-67c66980-ed74-4c6b-b1f4-2cafbcb80665')\"\n",
              "              title=\"Convert this dataframe to an interactive table.\"\n",
              "              style=\"display:none;\">\n",
              "        \n",
              "  <svg xmlns=\"http://www.w3.org/2000/svg\" height=\"24px\"viewBox=\"0 0 24 24\"\n",
              "       width=\"24px\">\n",
              "    <path d=\"M0 0h24v24H0V0z\" fill=\"none\"/>\n",
              "    <path d=\"M18.56 5.44l.94 2.06.94-2.06 2.06-.94-2.06-.94-.94-2.06-.94 2.06-2.06.94zm-11 1L8.5 8.5l.94-2.06 2.06-.94-2.06-.94L8.5 2.5l-.94 2.06-2.06.94zm10 10l.94 2.06.94-2.06 2.06-.94-2.06-.94-.94-2.06-.94 2.06-2.06.94z\"/><path d=\"M17.41 7.96l-1.37-1.37c-.4-.4-.92-.59-1.43-.59-.52 0-1.04.2-1.43.59L10.3 9.45l-7.72 7.72c-.78.78-.78 2.05 0 2.83L4 21.41c.39.39.9.59 1.41.59.51 0 1.02-.2 1.41-.59l7.78-7.78 2.81-2.81c.8-.78.8-2.07 0-2.86zM5.41 20L4 18.59l7.72-7.72 1.47 1.35L5.41 20z\"/>\n",
              "  </svg>\n",
              "      </button>\n",
              "      \n",
              "  <style>\n",
              "    .colab-df-container {\n",
              "      display:flex;\n",
              "      flex-wrap:wrap;\n",
              "      gap: 12px;\n",
              "    }\n",
              "\n",
              "    .colab-df-convert {\n",
              "      background-color: #E8F0FE;\n",
              "      border: none;\n",
              "      border-radius: 50%;\n",
              "      cursor: pointer;\n",
              "      display: none;\n",
              "      fill: #1967D2;\n",
              "      height: 32px;\n",
              "      padding: 0 0 0 0;\n",
              "      width: 32px;\n",
              "    }\n",
              "\n",
              "    .colab-df-convert:hover {\n",
              "      background-color: #E2EBFA;\n",
              "      box-shadow: 0px 1px 2px rgba(60, 64, 67, 0.3), 0px 1px 3px 1px rgba(60, 64, 67, 0.15);\n",
              "      fill: #174EA6;\n",
              "    }\n",
              "\n",
              "    [theme=dark] .colab-df-convert {\n",
              "      background-color: #3B4455;\n",
              "      fill: #D2E3FC;\n",
              "    }\n",
              "\n",
              "    [theme=dark] .colab-df-convert:hover {\n",
              "      background-color: #434B5C;\n",
              "      box-shadow: 0px 1px 3px 1px rgba(0, 0, 0, 0.15);\n",
              "      filter: drop-shadow(0px 1px 2px rgba(0, 0, 0, 0.3));\n",
              "      fill: #FFFFFF;\n",
              "    }\n",
              "  </style>\n",
              "\n",
              "      <script>\n",
              "        const buttonEl =\n",
              "          document.querySelector('#df-67c66980-ed74-4c6b-b1f4-2cafbcb80665 button.colab-df-convert');\n",
              "        buttonEl.style.display =\n",
              "          google.colab.kernel.accessAllowed ? 'block' : 'none';\n",
              "\n",
              "        async function convertToInteractive(key) {\n",
              "          const element = document.querySelector('#df-67c66980-ed74-4c6b-b1f4-2cafbcb80665');\n",
              "          const dataTable =\n",
              "            await google.colab.kernel.invokeFunction('convertToInteractive',\n",
              "                                                     [key], {});\n",
              "          if (!dataTable) return;\n",
              "\n",
              "          const docLinkHtml = 'Like what you see? Visit the ' +\n",
              "            '<a target=\"_blank\" href=https://colab.research.google.com/notebooks/data_table.ipynb>data table notebook</a>'\n",
              "            + ' to learn more about interactive tables.';\n",
              "          element.innerHTML = '';\n",
              "          dataTable['output_type'] = 'display_data';\n",
              "          await google.colab.output.renderOutput(dataTable, element);\n",
              "          const docLink = document.createElement('div');\n",
              "          docLink.innerHTML = docLinkHtml;\n",
              "          element.appendChild(docLink);\n",
              "        }\n",
              "      </script>\n",
              "    </div>\n",
              "  </div>\n",
              "  "
            ]
          },
          "metadata": {},
          "execution_count": 29
        }
      ]
    },
    {
      "cell_type": "markdown",
      "source": [
        "**Stemming**"
      ],
      "metadata": {
        "id": "AcV-LXlH3CvY"
      }
    },
    {
      "cell_type": "code",
      "source": [
        "# import nltk\n",
        "# st = nltk.PorterStemmer()\n",
        "# def stemming_on_text(data):\n",
        "#     text = [st.stem(word) for word in data]\n",
        "#     return data\n",
        "# df['processed_tweets']= df['processed_tweets'].apply(lambda x: stemming_on_text(x))\n",
        "# df['processed_tweets'].head()"
      ],
      "metadata": {
        "id": "O8qJKpvD2yrr"
      },
      "execution_count": 30,
      "outputs": []
    },
    {
      "cell_type": "markdown",
      "source": [
        "**Lemmentization**"
      ],
      "metadata": {
        "id": "VTHIuFTA3F2g"
      }
    },
    {
      "cell_type": "code",
      "source": [
        "import nltk\n",
        "nltk.download('wordnet')\n",
        "nltk.download('omw-1.4')\n",
        "\n",
        "lm = nltk.WordNetLemmatizer()\n",
        "def lemmatizer_on_text(data):\n",
        "    text = [lm.lemmatize(word) for word in data]\n",
        "    return data\n",
        "df['processed_tweets'] = df['processed_tweets'].apply(lambda x: lemmatizer_on_text(x))\n",
        "df['processed_tweets'].head()"
      ],
      "metadata": {
        "colab": {
          "base_uri": "https://localhost:8080/"
        },
        "id": "2458wLdV3E2T",
        "outputId": "31e0c989-c40f-4eda-c775-6b6cc49ce630"
      },
      "execution_count": 31,
      "outputs": [
        {
          "output_type": "stream",
          "name": "stderr",
          "text": [
            "[nltk_data] Downloading package wordnet to /root/nltk_data...\n",
            "[nltk_data] Downloading package omw-1.4 to /root/nltk_data...\n"
          ]
        },
        {
          "output_type": "execute_result",
          "data": {
            "text/plain": [
              "0    awww thats bummer shoulda got david carr third...\n",
              "1    upset cant update facebook texting might cry r...\n",
              "2    dived many times ball managed save 50 rest go ...\n",
              "3                     whole body feels itchy like fire\n",
              "4                 no not behaving im mad cant see over\n",
              "Name: processed_tweets, dtype: object"
            ]
          },
          "metadata": {},
          "execution_count": 31
        }
      ]
    },
    {
      "cell_type": "code",
      "source": [
        "X = df['processed_tweets']\n",
        "y = df['Target']"
      ],
      "metadata": {
        "id": "LQMN3W933Jfb"
      },
      "execution_count": 32,
      "outputs": []
    },
    {
      "cell_type": "code",
      "source": [
        "from sklearn.model_selection import train_test_split\n",
        "\n",
        "X_train, X_test,y_train,y_test = train_test_split(X, y,random_state = 42, test_size=0.1)\n",
        "print(X_train.shape)\n",
        "print(X_test.shape)"
      ],
      "metadata": {
        "colab": {
          "base_uri": "https://localhost:8080/"
        },
        "id": "BRSdq1GJ3VrS",
        "outputId": "a4ad06c8-e962-4d91-e3b0-bc2af8304196"
      },
      "execution_count": 33,
      "outputs": [
        {
          "output_type": "stream",
          "name": "stdout",
          "text": [
            "(91043,)\n",
            "(10116,)\n"
          ]
        }
      ]
    },
    {
      "cell_type": "code",
      "source": [
        "print(y_train.shape)\n",
        "print(y_test.shape)"
      ],
      "metadata": {
        "colab": {
          "base_uri": "https://localhost:8080/"
        },
        "id": "Al9YEtnb3W1D",
        "outputId": "199ca2ba-51d6-4d65-ada2-edffda51e099"
      },
      "execution_count": 34,
      "outputs": [
        {
          "output_type": "stream",
          "name": "stdout",
          "text": [
            "(91043,)\n",
            "(10116,)\n"
          ]
        }
      ]
    },
    {
      "cell_type": "code",
      "source": [
        "X_test"
      ],
      "metadata": {
        "colab": {
          "base_uri": "https://localhost:8080/"
        },
        "id": "x5svNDNe3X6y",
        "outputId": "84fda08f-b7aa-4a98-ee41-02bc1b7260ff"
      },
      "execution_count": 35,
      "outputs": [
        {
          "output_type": "execute_result",
          "data": {
            "text/plain": [
              "10538                                     ummmm wanna come\n",
              "89283    lol aww celebrate earlier get loads complitmen...\n",
              "40354             downloading 22nd episode heroes season 3\n",
              "11834                                 going sleep im tired\n",
              "585      cant set feet ground missing eyelid people mig...\n",
              "                               ...                        \n",
              "77266         oop hick ups oop nope awwwww wanted hick ups\n",
              "51995    back 2 mile walk woobie doggie yet another stu...\n",
              "22770              noooooo boo computer problems empathise\n",
              "61798    hrm guess hit sack work 6 hours 9 hours later ...\n",
              "36296                home justins farewell dinner dont die\n",
              "Name: processed_tweets, Length: 10116, dtype: object"
            ]
          },
          "metadata": {},
          "execution_count": 35
        }
      ]
    },
    {
      "cell_type": "markdown",
      "source": [
        "**Text Sequencing**"
      ],
      "metadata": {
        "id": "5oVtR5XG3aQY"
      }
    },
    {
      "cell_type": "code",
      "source": [
        "from keras.preprocessing.text import Tokenizer\n",
        "\n",
        "tokenizer = Tokenizer(lower = False)\n",
        "tokenizer.fit_on_texts(X_train)\n",
        "train_text_vec = tokenizer.texts_to_sequences(X_train)\n",
        "tokenizer.fit_on_texts(X_test)\n",
        "test_text_vec = tokenizer.texts_to_sequences(X_test)\n",
        "test_text_vec"
      ],
      "metadata": {
        "colab": {
          "base_uri": "https://localhost:8080/"
        },
        "id": "INg75aav3ZN6",
        "outputId": "f5b4dc61-7807-4041-9d23-d3442202c339"
      },
      "execution_count": 38,
      "outputs": [
        {
          "output_type": "execute_result",
          "data": {
            "text/plain": [
              "[[7002, 108, 68],\n",
              " [20, 307, 1608, 735, 6, 991, 52122, 308, 586, 852],\n",
              " [1728, 5511, 713, 2173, 517, 53],\n",
              " [12, 44, 1, 90],\n",
              " [15, 464, 848, 2085, 238, 15458, 75, 218, 6],\n",
              " [76, 99, 95, 264, 635, 9, 301, 10, 43, 5, 43, 758, 63, 16, 395, 1380, 53, 8],\n",
              " [33, 128, 23, 147, 252, 52123, 665, 95],\n",
              " [56, 103, 7, 8, 35, 23, 274, 301, 1304, 574, 194],\n",
              " [1008, 49, 12, 37, 70, 233, 4892, 182, 86, 311],\n",
              " [2860, 75, 142, 1547, 1611],\n",
              " [23, 133, 813, 1, 96, 1868, 816, 63, 6018, 658, 7496, 22710, 10076, 11, 4362],\n",
              " [364, 381, 34, 11, 142, 8, 5],\n",
              " [20, 13956, 503, 30, 1978, 9745],\n",
              " [68, 1639, 52124, 949, 79, 714],\n",
              " [106, 4, 3855, 21743, 19, 202, 1095, 2707, 180, 284, 72],\n",
              " [2548,\n",
              "  226,\n",
              "  8539,\n",
              "  11,\n",
              "  3229,\n",
              "  2045,\n",
              "  244,\n",
              "  98,\n",
              "  449,\n",
              "  1,\n",
              "  441,\n",
              "  1440,\n",
              "  3,\n",
              "  13015,\n",
              "  118,\n",
              "  940],\n",
              " [10706, 2828, 48],\n",
              " [35, 227, 52125, 648, 215, 7, 2428, 325, 154, 99, 101, 648, 52126],\n",
              " [102, 1331, 246],\n",
              " [4, 267],\n",
              " [10, 187, 107],\n",
              " [985, 807, 639, 4, 125, 5002, 511, 579],\n",
              " [1173, 4731, 4410, 2717, 227, 2458, 916, 12, 228, 7751, 847, 625, 3424],\n",
              " [5632, 55, 19403, 3, 1129, 14, 30, 75, 22, 243, 1172, 3356],\n",
              " [65, 34],\n",
              " [233, 21004, 199, 7, 5297],\n",
              " [30, 28, 1031, 60, 2, 1, 76, 10844, 413, 9, 101, 596, 952, 10, 314, 15033],\n",
              " [1011, 218, 172, 33, 5234, 2127],\n",
              " [199, 663, 6, 343, 14948],\n",
              " [14, 108, 1157, 2, 10, 1322, 157, 805],\n",
              " [263, 6616, 2, 82, 76, 50, 1281],\n",
              " [1, 96, 67, 1479, 151],\n",
              " [188, 10, 1698, 470, 37, 11, 48, 5],\n",
              " [21, 60, 11469, 1349],\n",
              " [4159, 468, 98, 14796],\n",
              " [270, 2488, 381, 5, 230, 87],\n",
              " [666, 1, 129, 850, 435, 2, 190, 87],\n",
              " [1516,\n",
              "  29,\n",
              "  1712,\n",
              "  1094,\n",
              "  3590,\n",
              "  632,\n",
              "  19,\n",
              "  101,\n",
              "  322,\n",
              "  80,\n",
              "  81,\n",
              "  9030,\n",
              "  6458,\n",
              "  52127,\n",
              "  19,\n",
              "  64],\n",
              " [2957,\n",
              "  13396,\n",
              "  2132,\n",
              "  1179,\n",
              "  2030,\n",
              "  684,\n",
              "  265,\n",
              "  145,\n",
              "  744,\n",
              "  639,\n",
              "  4861,\n",
              "  2575,\n",
              "  54,\n",
              "  1046],\n",
              " [460, 170, 301, 169, 4, 117, 334],\n",
              " [1035, 56, 103, 285, 4001, 5996, 43, 14, 30, 7, 34],\n",
              " [304, 106, 434],\n",
              " [598, 5],\n",
              " [54, 9, 186, 2649, 7207],\n",
              " [52128,\n",
              "  608,\n",
              "  270,\n",
              "  113,\n",
              "  72,\n",
              "  2226,\n",
              "  442,\n",
              "  52129,\n",
              "  431,\n",
              "  52130,\n",
              "  1067,\n",
              "  68,\n",
              "  837,\n",
              "  21,\n",
              "  92,\n",
              "  715,\n",
              "  507],\n",
              " [133, 813, 5596, 248, 163, 9, 232, 5],\n",
              " [502, 40, 7, 1270, 1, 3, 1526, 1124],\n",
              " [15, 816, 884, 425, 5385],\n",
              " [1443, 2881, 226, 84, 12880, 516, 95, 462, 12314, 2, 10, 589],\n",
              " [216, 47, 41, 24],\n",
              " [12, 61, 285, 164, 9902, 814, 17672, 93, 1610, 3283],\n",
              " [1100, 3259, 1186, 42, 54, 70, 310, 89, 12, 50, 72, 57, 4410, 847],\n",
              " [33],\n",
              " [4253, 12521, 1653, 4047, 1271, 7135, 1524, 592, 201, 14195, 381, 1666],\n",
              " [46, 178, 2, 312, 202, 116],\n",
              " [66, 13880, 137, 12, 8297, 36, 1394, 3353],\n",
              " [15, 5448, 34, 618, 109, 1093, 11, 808, 507, 3413],\n",
              " [52131, 263, 15233, 2213, 11170, 5874, 46, 15233, 20],\n",
              " [38, 5],\n",
              " [76],\n",
              " [73, 5456],\n",
              " [1, 97, 88, 5, 279, 579, 10, 1006, 37, 571, 16, 59, 82, 96, 5383, 45, 6469],\n",
              " [7079, 2797, 143, 58, 22, 2010, 1039],\n",
              " [721, 18, 187, 18, 4926, 4144, 795],\n",
              " [293],\n",
              " [438, 38, 52132, 4, 276, 321],\n",
              " [1883, 162, 5137, 198, 18],\n",
              " [325, 2133, 2582, 21197, 521, 1006, 1015, 255],\n",
              " [8467, 8823],\n",
              " [358],\n",
              " [199, 157, 251, 13, 57, 1, 426, 75, 6, 169, 13, 3, 21, 116, 47],\n",
              " [338, 52133, 1149, 1650, 43, 42, 127, 8977, 6521, 1317],\n",
              " [31, 29, 901, 105, 6900, 518, 52134, 7537, 1597],\n",
              " [306, 70, 1916, 3436],\n",
              " [52, 99, 66, 112, 37, 14, 6, 44, 346, 27, 52, 8, 23],\n",
              " [223, 1024],\n",
              " [13, 1181, 2619, 286, 2, 60],\n",
              " [111, 52135, 818, 7142, 22, 3, 95, 401],\n",
              " [4, 1429],\n",
              " [533, 136, 1269],\n",
              " [2426, 9, 15852, 3540, 886, 898],\n",
              " [52136, 26, 18],\n",
              " [35, 18, 168, 298, 4463, 17, 63, 326, 2177, 305, 17],\n",
              " [338, 706, 223],\n",
              " [185, 22711, 110, 14, 778, 219, 981, 118],\n",
              " [151, 6494, 278, 3377, 303, 205],\n",
              " [1, 479, 201, 8035, 3942, 23, 141, 3, 21, 2, 477, 30, 2, 136, 1884, 1376],\n",
              " [52137, 525, 29, 654],\n",
              " [189, 14, 22, 75, 3337, 1036, 279, 9045, 52138, 34],\n",
              " [52139, 135, 23, 2, 1, 397, 88, 309, 79],\n",
              " [62, 214],\n",
              " [27, 90, 1930, 347, 125, 41, 24, 124],\n",
              " [35, 140, 340, 288, 1521, 692, 8146, 21861],\n",
              " [47, 860, 1986, 21129, 8970, 372, 206, 131, 9, 137],\n",
              " [16, 471, 920, 1126, 72, 37, 1549, 15, 960, 584, 2197, 12],\n",
              " [24, 216, 70, 5],\n",
              " [7976, 293, 247, 5898, 16918, 2345, 1330, 1697, 159, 6, 347, 3196],\n",
              " [1, 76, 152, 13, 37, 7983, 149],\n",
              " [65, 15173, 958, 9205, 1956, 68, 89],\n",
              " [185, 185, 124],\n",
              " [120, 449, 15, 78],\n",
              " [1133, 10120, 1, 67, 202, 363, 4902, 1759, 100],\n",
              " [55, 183, 2, 31, 888, 926, 66],\n",
              " [102, 48, 138, 367, 383, 659, 3, 1435, 6310],\n",
              " [226, 33, 3, 14672, 571, 66, 41, 24, 35, 78],\n",
              " [3460, 1691, 656, 2031, 859, 3611, 9403, 1016],\n",
              " [133, 1072, 920, 65, 17, 1337, 52140],\n",
              " [35, 83, 98, 52141, 93],\n",
              " [2504, 77, 170, 1804, 18],\n",
              " [52142, 140, 99, 435, 419, 2016, 18, 26, 803, 50, 26],\n",
              " [3, 7, 700, 1002, 423, 1674, 2000, 265, 417, 171],\n",
              " [546, 14, 18, 18, 79, 33, 378, 336],\n",
              " [22065,\n",
              "  7418,\n",
              "  2212,\n",
              "  464,\n",
              "  100,\n",
              "  511,\n",
              "  1654,\n",
              "  5005,\n",
              "  3142,\n",
              "  10564,\n",
              "  8333,\n",
              "  1345,\n",
              "  146,\n",
              "  1282,\n",
              "  69],\n",
              " [94, 249, 21, 3466, 106, 200, 288],\n",
              " [52143, 7, 631, 141, 2212, 3646, 28, 225, 359],\n",
              " [449, 40, 19, 372, 4488],\n",
              " [46, 777, 65, 147, 4, 8],\n",
              " [4538],\n",
              " [5122,\n",
              "  145,\n",
              "  508,\n",
              "  1020,\n",
              "  497,\n",
              "  485,\n",
              "  136,\n",
              "  2280,\n",
              "  2632,\n",
              "  52144,\n",
              "  52145,\n",
              "  52146,\n",
              "  10284,\n",
              "  216,\n",
              "  6484,\n",
              "  7294],\n",
              " [160, 111, 807, 85],\n",
              " [35, 127, 495, 4],\n",
              " [393, 3807, 204, 43],\n",
              " [1179, 84, 1729, 897, 807, 2403, 146, 6611, 184, 10625],\n",
              " [5138, 508, 348, 17346, 31],\n",
              " [525, 4498, 52147, 835, 7204, 46, 313],\n",
              " [1, 106, 187, 4204, 171],\n",
              " [3131, 1969, 4958, 52148, 1284],\n",
              " [233, 9, 219, 20392, 2, 3, 270],\n",
              " [224, 874, 40, 6, 40, 452, 40, 29, 2580, 29, 11234],\n",
              " [3, 4, 42, 4167, 427, 23],\n",
              " [2209, 35, 23, 45, 5865, 52149, 4110, 1172],\n",
              " [3507, 1919, 1542, 52150, 22352, 486, 558, 1321, 898, 819],\n",
              " [160, 46, 348, 5],\n",
              " [355, 201, 277, 24, 1599, 312, 7, 802, 15858],\n",
              " [581, 24, 20, 74, 52, 52151, 728, 327, 1137, 1459, 52152, 108, 744, 55],\n",
              " [48, 93, 58, 37, 33, 1127, 93, 3748, 42],\n",
              " [22, 57, 190, 14148, 962, 6619, 271],\n",
              " [223, 301, 111, 328, 12],\n",
              " [212, 4949, 1897],\n",
              " [389, 209, 79, 139],\n",
              " [660, 291, 5, 1109, 62],\n",
              " [662, 150, 4235, 318, 11391, 1270, 3, 4235, 559, 757],\n",
              " [875, 945, 233, 2446, 420, 692],\n",
              " [2577, 77, 8, 4, 1092, 328, 328, 16, 8, 13420, 47, 47, 323, 1353, 52153, 323],\n",
              " [6, 501, 849, 5, 878, 1495, 6550, 139],\n",
              " [156, 196, 446, 690, 9857, 489, 3404, 8913],\n",
              " [315, 224, 14, 9, 3457],\n",
              " [52154, 80, 81, 10273, 52155, 1300, 15678],\n",
              " [21705, 79, 148, 87, 20, 1157, 681],\n",
              " [668, 269, 3639, 13856, 241],\n",
              " [223, 224, 32, 361, 6, 323],\n",
              " [307, 50, 1757],\n",
              " [55, 3, 21, 12, 562, 88, 277, 114, 2015, 669, 134, 43],\n",
              " [100, 885, 100, 431, 92, 110, 387, 104],\n",
              " [106, 1788, 465, 4502, 20602],\n",
              " [135, 86, 310, 563, 517, 423, 7704, 795],\n",
              " [130, 634, 5, 8],\n",
              " [74, 9320, 774, 976, 11444, 13638, 168],\n",
              " [31, 17, 29, 1366, 2205, 319, 1352, 2012],\n",
              " [320, 85, 603, 173, 23, 3, 76, 69, 150, 26, 27, 3002, 16044],\n",
              " [20, 5609, 13051, 80, 81, 8262, 1752, 2, 1130, 420, 576, 836],\n",
              " [8, 2, 749, 133, 48, 138, 42, 699, 1187, 23],\n",
              " [1807, 52156, 608, 1092, 4, 3, 4, 58, 1845, 6, 685, 310, 61, 57],\n",
              " [84, 1255],\n",
              " [12608, 11079, 5328, 37, 1138, 5337, 52157, 861, 309, 1143, 145, 412, 70, 57],\n",
              " [211, 2528, 2710, 204, 21, 4482],\n",
              " [471, 3144, 204],\n",
              " [175, 1583, 345, 122],\n",
              " [52158, 6998, 21188, 8411, 529, 534],\n",
              " [602,\n",
              "  11518,\n",
              "  3589,\n",
              "  21324,\n",
              "  6,\n",
              "  3928,\n",
              "  3911,\n",
              "  14,\n",
              "  263,\n",
              "  347,\n",
              "  52159,\n",
              "  8189,\n",
              "  1613,\n",
              "  52160,\n",
              "  2170,\n",
              "  52161],\n",
              " [19567, 248],\n",
              " [337, 259, 1, 12, 13, 52, 2135],\n",
              " [14, 1459, 28, 1101, 514, 2599, 251, 793, 31],\n",
              " [56, 2976, 411, 21, 48],\n",
              " [247, 15708],\n",
              " [468, 236],\n",
              " [87, 21, 60, 358],\n",
              " [153, 6, 44],\n",
              " [4, 25],\n",
              " [304, 2478],\n",
              " [91, 11651, 21086, 1012, 14, 54, 60, 298, 10, 2166],\n",
              " [14, 22],\n",
              " [399, 18, 8265, 750, 5493, 7280, 52162],\n",
              " [597, 18, 133, 991],\n",
              " [213, 41, 24, 1207],\n",
              " [12, 187, 18, 187],\n",
              " [10, 52163, 1901, 14563, 1065, 6105, 740, 4, 145, 1916, 484],\n",
              " [27, 355, 291, 327, 5616, 562, 9942, 264, 17],\n",
              " [1678, 59, 1990, 29, 1221],\n",
              " [32, 742, 119],\n",
              " [52164, 270, 701, 270, 49, 21, 155, 73, 2118, 680],\n",
              " [376, 52165, 52166, 1125, 76, 95, 5],\n",
              " [49, 104, 241, 104, 664],\n",
              " [31, 4, 662, 3829, 2429, 52167, 66, 58, 82, 2971, 258],\n",
              " [25, 1279, 233, 9, 424, 118, 482, 2, 161],\n",
              " [12114, 420, 182, 77, 27, 11584, 649, 2, 22, 622, 154, 73],\n",
              " [65, 37],\n",
              " [4386, 446, 1579, 1708],\n",
              " [1114, 117, 728, 2, 1, 12, 11108, 89, 503, 6, 13, 2410, 2327, 13268],\n",
              " [26,\n",
              "  6,\n",
              "  328,\n",
              "  8263,\n",
              "  75,\n",
              "  3068,\n",
              "  13506,\n",
              "  26,\n",
              "  1108,\n",
              "  52168,\n",
              "  799,\n",
              "  60,\n",
              "  9,\n",
              "  26,\n",
              "  18379,\n",
              "  2033,\n",
              "  2006,\n",
              "  124],\n",
              " [177, 90, 52, 4732, 52169, 29, 318, 636],\n",
              " [1243, 1443, 4485, 582, 52170, 176, 2, 118, 333, 363, 7, 1589],\n",
              " [190, 1692, 111, 7835, 746, 52171, 6, 38, 52172, 14],\n",
              " [36, 123, 6293, 1188, 3016, 42, 4],\n",
              " [6646, 18, 1247],\n",
              " [22, 11992, 226, 219, 2371, 9, 297, 4587, 472, 3351],\n",
              " [1, 74, 10312, 1746, 7467, 18, 168],\n",
              " [84, 176, 2648, 10351, 11, 6214],\n",
              " [319, 5802, 6],\n",
              " [251, 32],\n",
              " [12, 68, 13, 1609],\n",
              " [90, 34, 51, 73, 984, 24, 64, 52173, 43],\n",
              " [52174, 99, 655, 245, 4527, 195, 497, 52175, 1061, 5],\n",
              " [398, 59, 441, 48, 815, 5, 43],\n",
              " [143, 13967, 3291, 98, 134, 2, 300, 5],\n",
              " [164, 5, 11, 6678, 9798, 8969, 710, 2831, 17, 11410],\n",
              " [111, 966, 556],\n",
              " [477, 14, 31, 690, 142, 123, 3464, 725, 52176, 12700],\n",
              " [185, 872, 358],\n",
              " [83, 1, 170, 54, 61, 3051],\n",
              " [372, 7476, 20, 52177, 2541],\n",
              " [307, 14, 2936, 18231, 49, 709],\n",
              " [83, 189, 9316, 4474, 52178, 18, 269, 202, 263, 2596],\n",
              " [354, 14581, 36, 264],\n",
              " [502, 26, 1949, 1512, 8620, 38, 91, 7, 1419, 14, 644, 1642, 64],\n",
              " [130, 52179, 8794, 543],\n",
              " [12, 13, 34],\n",
              " [388, 156, 1205, 599, 71, 66, 89, 215, 1044, 257, 52180, 8, 86, 271],\n",
              " [1, 103, 15110, 1946, 3526, 19415, 970, 99, 95, 9327, 1198, 12, 7192, 1772],\n",
              " [52181, 18, 6096, 6504, 2, 299, 3056, 385],\n",
              " [10282, 243, 21, 14, 7, 15466, 331, 8],\n",
              " [108, 68],\n",
              " [327, 9903, 137, 398, 13, 8175],\n",
              " [85, 5048, 22618],\n",
              " [561, 26, 1790, 162, 4957, 58, 26],\n",
              " [347,\n",
              "  1093,\n",
              "  2328,\n",
              "  176,\n",
              "  172,\n",
              "  7500,\n",
              "  1062,\n",
              "  11,\n",
              "  2,\n",
              "  52182,\n",
              "  163,\n",
              "  4,\n",
              "  417,\n",
              "  179,\n",
              "  417,\n",
              "  417],\n",
              " [105, 7, 140, 395, 161, 22, 5801, 20, 1, 458, 22315, 11664, 1464, 1750],\n",
              " [3512, 5028, 3251, 2341, 18, 182],\n",
              " [33, 52183, 1810, 18, 57, 13, 225],\n",
              " [4, 19095, 1757, 111, 22271, 1799, 20713, 111, 54, 172],\n",
              " [1, 98, 61, 114, 846, 522, 10, 717, 5601, 7530],\n",
              " [732, 1582, 1448, 14, 4149],\n",
              " [5899, 1295, 3111, 3544, 36, 311, 25, 570, 5899, 773, 3437, 34, 52184],\n",
              " [650, 44, 94, 1288, 7525, 18],\n",
              " [299, 8, 407, 2238, 51, 926, 369],\n",
              " [4, 217, 2009, 339, 2766, 6363, 15, 78, 118, 5945],\n",
              " [27, 2994, 295, 1627, 294, 294, 34],\n",
              " [229, 8665, 11, 121, 62],\n",
              " [1439, 1829, 31, 143, 3482, 172, 1505, 1112, 3, 1223, 64],\n",
              " [12, 705, 15, 78],\n",
              " [3, 417, 60, 263, 1032, 105, 20],\n",
              " [2850, 445, 236, 18, 52185, 73, 2248, 171],\n",
              " [46, 57, 58, 7, 337, 665, 2, 1, 12, 329, 19, 384, 45, 6, 196],\n",
              " [7737, 11827, 5639, 1390, 1196],\n",
              " [6253, 522, 541, 156, 28, 1, 3, 60, 370, 2031, 11],\n",
              " [56, 103, 3781, 614, 494, 3781, 3922, 472, 3922, 161, 1361, 1385, 1695],\n",
              " [307, 244, 3107, 54, 60, 82, 64, 58, 255],\n",
              " [1538, 245, 1890, 4718, 245, 52186],\n",
              " [266, 52187, 2977, 229, 3081],\n",
              " [10654, 128, 15, 281, 277, 68, 235, 52, 194],\n",
              " [307, 128, 58, 68, 425],\n",
              " [4765, 288, 11, 700, 6, 43],\n",
              " [18173, 25],\n",
              " [552, 32, 313, 57, 6530, 15239],\n",
              " [170, 8],\n",
              " [3774, 58, 571, 7, 1391, 52188, 1473],\n",
              " [35, 105, 206, 1228, 120],\n",
              " [130, 20, 507, 174, 7, 614, 3098, 4758, 463, 5489, 6911],\n",
              " [799, 139, 229, 63, 247, 1090, 3321, 5248, 221],\n",
              " [35, 23, 18228, 147],\n",
              " [164, 5, 385, 4, 5, 3368, 9058, 2, 27, 98, 151, 2, 3, 114, 47],\n",
              " [22, 163, 9, 1, 2065, 193, 2573, 35, 10, 3463],\n",
              " [1182, 3238, 350, 671, 328, 671],\n",
              " [167, 49, 67],\n",
              " [84, 1357, 296, 134, 22, 6, 45, 90, 171, 2, 15, 615, 13, 422],\n",
              " [129, 2223, 781, 27, 299, 863, 9029],\n",
              " [307, 1522, 16, 898, 2754, 41, 2321, 571, 2839, 52189],\n",
              " [6292, 15, 281, 4984, 400, 213, 183, 160, 14994, 4378, 285, 416],\n",
              " [1701,\n",
              "  52190,\n",
              "  52191,\n",
              "  10896,\n",
              "  365,\n",
              "  1327,\n",
              "  4534,\n",
              "  356,\n",
              "  436,\n",
              "  1701,\n",
              "  52192,\n",
              "  4780,\n",
              "  52193,\n",
              "  52194],\n",
              " [524, 34],\n",
              " [1, 179, 247, 19831, 874, 57],\n",
              " [8273, 8273, 8273, 2789, 2789, 2789],\n",
              " [1082, 2600, 52195, 2258, 837, 18124, 5985, 515, 1106, 1768, 662, 2803],\n",
              " [382, 52196, 10674, 41, 24, 1820, 617, 3, 168, 52197, 853, 310, 5323],\n",
              " [18, 12, 931, 10, 150, 111, 37, 47, 15, 78, 7, 52198, 284, 362, 6339, 15, 78],\n",
              " [55, 445],\n",
              " [14, 31, 63, 3624, 9, 515, 8, 37, 625, 298, 332],\n",
              " [23,\n",
              "  526,\n",
              "  1528,\n",
              "  2663,\n",
              "  1338,\n",
              "  22,\n",
              "  208,\n",
              "  599,\n",
              "  2,\n",
              "  57,\n",
              "  1338,\n",
              "  52199,\n",
              "  2329,\n",
              "  241,\n",
              "  15125,\n",
              "  1528],\n",
              " [36, 13923, 137, 187],\n",
              " [18, 236],\n",
              " [25, 21991, 58, 6, 59, 1944, 176, 1055, 1850, 39, 282, 193, 485, 1533, 59],\n",
              " [20, 22, 2, 797, 197, 145, 2174, 21805, 12, 631, 534, 4],\n",
              " [1082, 11368, 1343, 127, 52200, 13948, 835],\n",
              " [169, 622, 52201, 6120],\n",
              " [35, 3729, 760, 9, 886, 6295, 3729, 3, 3103, 137, 58, 30, 6953, 258],\n",
              " [464, 948, 11970, 22290, 165, 1428, 2027, 133, 15600, 15, 272, 28, 22291],\n",
              " [349, 2176, 194, 25, 133, 15, 78, 329],\n",
              " [97, 34, 659, 415, 15, 82, 193, 876, 1386, 224, 529, 112, 205],\n",
              " [50, 52202, 52203],\n",
              " [30, 11429],\n",
              " [313, 60, 370, 8599],\n",
              " [108, 7, 385, 2, 187, 770, 313],\n",
              " [20,\n",
              "  918,\n",
              "  1,\n",
              "  940,\n",
              "  1714,\n",
              "  7594,\n",
              "  52204,\n",
              "  127,\n",
              "  266,\n",
              "  724,\n",
              "  41,\n",
              "  717,\n",
              "  1,\n",
              "  530,\n",
              "  76,\n",
              "  242,\n",
              "  39,\n",
              "  631,\n",
              "  2332],\n",
              " [60, 96, 724, 10391, 52205, 2779],\n",
              " [12751, 122, 968, 797, 597],\n",
              " [650, 8],\n",
              " [11, 45, 9, 305, 1747, 459],\n",
              " [14, 1310, 9, 4, 154],\n",
              " [27, 678, 358, 2, 15, 44],\n",
              " [6560, 1, 106, 56, 2312, 168, 685, 2652, 1540, 758, 2344, 828],\n",
              " [259, 1677, 1661, 1762, 40, 148, 9293, 581, 944],\n",
              " [67, 291, 5, 310, 30, 263, 3510, 1546, 396, 161, 22],\n",
              " [384, 22, 96, 41, 17, 852, 41, 24, 131, 11, 797, 184, 246, 139, 374],\n",
              " [396, 103, 490, 1607, 250, 39, 351, 91, 16, 377],\n",
              " [84, 104, 2, 22528, 4301, 16, 352, 7081, 1000, 1, 1082, 12252, 64],\n",
              " [127, 22, 452, 730, 2, 14, 22, 5808, 54, 1418, 303, 52206],\n",
              " [2973, 52207, 15832, 854],\n",
              " [413, 8148, 693, 283],\n",
              " [624, 808, 52208, 137, 17201],\n",
              " [41, 5, 1837, 132, 4, 51, 73, 326, 1725, 64, 43, 10646],\n",
              " [10, 10347, 21455, 166, 4693, 3665, 2005],\n",
              " [26,\n",
              "  4686,\n",
              "  1880,\n",
              "  1406,\n",
              "  26,\n",
              "  273,\n",
              "  22712,\n",
              "  4427,\n",
              "  52209,\n",
              "  5948,\n",
              "  1602,\n",
              "  2402,\n",
              "  163,\n",
              "  9,\n",
              "  5392,\n",
              "  26,\n",
              "  9212,\n",
              "  611,\n",
              "  37,\n",
              "  70,\n",
              "  124],\n",
              " [27, 3, 96, 38, 11],\n",
              " [17505, 6744, 382, 788, 2204, 13292, 59, 46, 17506],\n",
              " [1055, 542, 136, 161, 833, 429, 10194, 416, 2, 169],\n",
              " [1049, 8485, 428],\n",
              " [49, 18, 7, 191, 2, 299, 293, 15, 78, 43, 24],\n",
              " [88, 19, 83, 4908, 1139, 52210, 4119, 2201, 48, 1, 476, 2826],\n",
              " [31, 1595, 1010, 10037, 636, 20, 156, 764, 228, 52211, 32, 3474],\n",
              " [52212,\n",
              "  80,\n",
              "  81,\n",
              "  148,\n",
              "  5886,\n",
              "  322,\n",
              "  80,\n",
              "  81,\n",
              "  198,\n",
              "  2705,\n",
              "  1715,\n",
              "  52213,\n",
              "  9603,\n",
              "  116,\n",
              "  218,\n",
              "  1248,\n",
              "  2126,\n",
              "  119,\n",
              "  52214],\n",
              " [160, 6861, 6917, 20, 486, 119, 235, 168],\n",
              " [3, 231, 1035, 66, 1009, 157, 5479, 311],\n",
              " [14141, 177, 46, 2874],\n",
              " [597, 4, 42, 1365, 195, 49, 4925],\n",
              " [22, 464, 12589, 793, 534, 20, 6, 1654, 4519, 29, 276],\n",
              " [976, 30, 68],\n",
              " [133, 813, 1, 299, 8, 3, 47],\n",
              " [67, 1152],\n",
              " [316, 16216, 51, 52215, 11],\n",
              " [3220, 50, 74, 2804, 912, 606, 1999, 117, 18, 745, 20],\n",
              " [797, 867, 31, 1, 12, 59, 16, 8, 43],\n",
              " [38, 32, 4284, 141, 746, 117, 4, 354],\n",
              " [1, 116, 212, 551, 117, 52216, 7104],\n",
              " [9465, 19, 102, 15814, 174, 19, 659, 584, 3, 5541, 255, 13855, 595],\n",
              " [8570, 127],\n",
              " [7614, 1, 527, 55, 919],\n",
              " [40, 101, 571, 1239, 1378, 248],\n",
              " [4270, 1185, 592, 120],\n",
              " [880, 880, 880, 4494, 511, 52217, 354, 111, 1876, 316, 333],\n",
              " [52, 89, 511, 5086, 1325, 2844, 7367, 66, 72],\n",
              " [20, 253, 29, 253, 52218, 129, 316, 2420, 129, 2118],\n",
              " [13, 375, 52, 770, 2188, 27, 97, 618, 368, 24, 52219, 2437, 1001],\n",
              " [238, 1222, 842, 548, 5, 12, 1, 2738, 1286, 161, 22, 243, 12],\n",
              " [7853, 102, 1867, 52220, 190, 4939, 102, 55, 521, 281, 6601, 2, 73, 405],\n",
              " [742, 2084, 483],\n",
              " [49, 2040, 1348, 14, 22, 14, 1622, 868],\n",
              " [14, 419, 2961],\n",
              " [259, 2532, 459, 1278],\n",
              " [277, 291, 10, 4],\n",
              " [12, 145, 52, 252, 407, 4535, 904],\n",
              " [27, 8],\n",
              " [586, 144, 1, 8],\n",
              " [52221, 52222, 52223, 52224, 52225, 836, 6160],\n",
              " [531, 46, 1260, 221, 176],\n",
              " [83,\n",
              "  3,\n",
              "  99,\n",
              "  1788,\n",
              "  1319,\n",
              "  52226,\n",
              "  1978,\n",
              "  339,\n",
              "  222,\n",
              "  110,\n",
              "  241,\n",
              "  52227,\n",
              "  6651,\n",
              "  6258,\n",
              "  52228,\n",
              "  6651],\n",
              " [12, 9102, 14130, 209, 79, 130],\n",
              " [293],\n",
              " [22067, 1392, 729, 14, 778],\n",
              " [37, 71],\n",
              " [3, 106, 200, 5299, 295, 11],\n",
              " [4644, 52229, 272, 290, 3080, 427, 7476, 20, 167, 15718, 21281],\n",
              " [438, 14, 452, 824],\n",
              " [21, 4, 2043, 24, 51, 451, 2577, 24, 252, 57, 13, 107, 5285],\n",
              " [1155, 768, 5149, 41, 197, 136, 13, 197],\n",
              " [87, 543, 584, 505, 22318],\n",
              " [2753, 1206, 932, 7],\n",
              " [190, 21],\n",
              " [35, 527, 52230, 52231, 20486, 172, 819],\n",
              " [1,\n",
              "  91,\n",
              "  6657,\n",
              "  387,\n",
              "  237,\n",
              "  82,\n",
              "  64,\n",
              "  10,\n",
              "  683,\n",
              "  56,\n",
              "  145,\n",
              "  119,\n",
              "  13,\n",
              "  107,\n",
              "  14,\n",
              "  2061,\n",
              "  139,\n",
              "  346],\n",
              " [129, 3663, 2, 58, 21, 31, 12, 99, 95, 52232, 12607],\n",
              " [582, 79, 1246, 52233, 10, 44, 148, 423, 7484, 1, 851],\n",
              " [5623, 91, 1843, 8019, 52234, 375, 77, 1, 1001, 1004, 412, 91, 1001, 57],\n",
              " [50, 328, 328, 205, 22273, 2589],\n",
              " [85, 75, 1, 296, 90, 52235, 3689],\n",
              " [90,\n",
              "  170,\n",
              "  9114,\n",
              "  2206,\n",
              "  1058,\n",
              "  866,\n",
              "  952,\n",
              "  245,\n",
              "  52236,\n",
              "  59,\n",
              "  12,\n",
              "  2059,\n",
              "  1674,\n",
              "  52237,\n",
              "  7861,\n",
              "  22713,\n",
              "  653],\n",
              " [13499, 52238, 26, 215, 147, 119, 4668, 55, 654, 8350, 2884, 104, 15, 78, 68],\n",
              " [52239, 195, 3584, 5205, 7758, 20429],\n",
              " [1503, 208, 964, 399, 28, 26, 6, 328, 339, 17413, 182, 111, 440],\n",
              " [1450],\n",
              " [734, 52240, 5410],\n",
              " [347, 52241, 41, 595, 43, 12, 3083, 5, 52242],\n",
              " [232, 51],\n",
              " [374, 434],\n",
              " [2401, 207, 3926, 303, 3808, 3146, 9, 684],\n",
              " [9510, 338, 83, 1875, 1812, 89, 37, 683, 114, 369, 301, 10, 18496, 10280],\n",
              " [170, 375],\n",
              " [583, 19, 1555, 1702, 982, 1808, 321, 1009, 20694, 242],\n",
              " [33, 1130, 23, 518, 1529, 52243, 40, 6, 19, 57, 75, 86],\n",
              " [96, 165, 70, 11, 274, 391, 10, 314, 594, 176, 65, 52, 211],\n",
              " [68, 66, 949, 17035, 569, 286, 1621],\n",
              " [660, 263, 52244, 15440, 4048, 490, 52245, 6, 13, 52246],\n",
              " [21280, 298, 102, 3937, 715, 590, 69, 37, 1228],\n",
              " [17, 6, 53, 512, 52, 89, 68, 13, 261, 35, 4456, 52247],\n",
              " [2504, 190, 87, 42, 121, 51, 3409, 157, 68, 66, 43, 20],\n",
              " [4, 25, 956, 68, 10488, 7, 693, 2, 1206, 7, 588],\n",
              " [784, 52248, 97, 342, 34, 582, 8061, 79, 8, 13, 574, 321],\n",
              " [69, 3006, 573, 750],\n",
              " [654],\n",
              " [15, 78, 28, 4, 270, 11715, 447, 656, 52249, 29, 20002],\n",
              " [10, 1006, 4307, 111, 311, 510],\n",
              " [6525, 3179],\n",
              " [1, 67, 1168, 915, 380, 41, 24, 1310, 3802],\n",
              " [9, 506, 216, 179, 1, 165, 14194, 52250],\n",
              " [3, 47, 844, 162, 583, 93, 97, 931],\n",
              " [374, 164, 138, 19, 71, 462, 1102, 93],\n",
              " [963, 784, 52251, 736, 50, 126],\n",
              " [437, 20310, 10, 3891, 3962, 1477, 37, 6134, 4740],\n",
              " [32, 8, 52252, 570, 328, 124, 2, 15, 28, 120, 425, 64],\n",
              " [388, 5596, 11, 6234, 867, 3, 203],\n",
              " [2391, 19281, 52253, 1594, 2481, 1554, 651, 1916, 834, 7142],\n",
              " [16, 1867, 276, 178, 1401, 804],\n",
              " [228, 27, 7, 52254],\n",
              " [121, 745, 1028, 236, 1028, 1136, 1349, 745, 13],\n",
              " [85, 925, 95, 147, 1575, 5953],\n",
              " [21, 1624, 187, 550, 52255, 1427, 5543],\n",
              " [74, 9248, 12039, 334, 50, 12039, 517],\n",
              " [33, 9111, 3801, 205, 390],\n",
              " [195, 117, 1806, 3350, 182, 212, 145, 7354, 248, 42, 15607, 260, 89],\n",
              " [965, 800],\n",
              " [4312, 84, 2097, 16, 8461, 11, 1147, 349, 211, 189, 278, 7, 61, 2854],\n",
              " [22, 49, 46, 1698],\n",
              " [63, 24, 498, 312, 44, 1, 1217, 90],\n",
              " [18, 236],\n",
              " [223, 13, 10640, 960, 71, 38],\n",
              " [13, 1665, 398, 1271, 14243, 1277, 6455, 1447, 280, 11233, 1665],\n",
              " [208, 3992, 1605, 540, 440],\n",
              " [9300, 1, 1164, 922, 705, 105, 320],\n",
              " [199, 463, 68, 28, 569, 6824, 25, 253, 474, 569, 2, 257, 14937, 18839, 37],\n",
              " [12, 41, 5, 86, 2797, 291, 61],\n",
              " [2287, 56, 22166, 3234, 3622, 250, 1185, 98, 21256, 3, 106, 4],\n",
              " [3687],\n",
              " [3090, 916, 1798, 14, 3207],\n",
              " [410, 1669, 371, 7159],\n",
              " [17, 479],\n",
              " [27, 7177, 1195, 1789, 1152, 22521, 2, 4, 28, 16806, 6, 11, 38, 204],\n",
              " [738],\n",
              " [742, 12586, 1304, 3, 387, 6, 505, 542, 2641, 93],\n",
              " [35, 1, 67, 22, 126, 13951, 6579, 6101, 266],\n",
              " [52256, 22, 845, 111, 845, 65, 3529],\n",
              " [18360, 23, 2319, 3984, 832, 7971, 52257],\n",
              " [12, 148, 551, 18, 298, 3, 42, 3697, 1229, 5],\n",
              " [438, 52258, 3, 814],\n",
              " [213, 1109, 24],\n",
              " [159],\n",
              " [502, 37, 1229, 279, 32],\n",
              " [429, 4570, 5223, 2, 58, 8, 221, 2800, 2057, 9622, 191, 34, 4, 217, 428],\n",
              " [16, 170, 74, 334],\n",
              " [121, 761, 404, 5143, 3161, 14839, 1925, 3110, 45, 494, 88, 808],\n",
              " [26, 22, 134, 153, 647, 52259, 3971, 2337, 3454, 129, 104, 52260, 3971],\n",
              " [388, 799, 193, 230, 27, 915, 8661, 88, 7387, 64],\n",
              " [52261, 4422, 12668, 551, 255, 369, 15, 69, 531],\n",
              " [159, 63, 445, 157, 179, 219, 532],\n",
              " [840, 840, 712, 132, 120, 26, 491, 400, 42, 3697, 23, 731, 9282],\n",
              " [501, 136, 914, 194, 1, 454, 52262, 18336],\n",
              " [52263,\n",
              "  52264,\n",
              "  77,\n",
              "  790,\n",
              "  22714,\n",
              "  23,\n",
              "  343,\n",
              "  52265,\n",
              "  53,\n",
              "  267,\n",
              "  13736,\n",
              "  22714,\n",
              "  10290,\n",
              "  2312,\n",
              "  124],\n",
              " [60, 5, 3424, 3138, 2404],\n",
              " [254, 16, 1298, 3563, 38, 157, 99, 34],\n",
              " [52266],\n",
              " [253, 1195, 253, 3, 12, 3305, 190, 7, 52267, 10265, 20],\n",
              " [248, 1974, 16, 8086, 1711, 114, 783, 12932],\n",
              " [177, 1770, 29, 5],\n",
              " [9, 308],\n",
              " [135, 1420, 1512, 8237, 280, 234, 1308, 644, 52268, 9367],\n",
              " [4, 217, 162, 1008, 772, 927, 14, 13536, 414],\n",
              " [6785, 52269, 52270],\n",
              " [179,\n",
              "  30,\n",
              "  52271,\n",
              "  3315,\n",
              "  988,\n",
              "  146,\n",
              "  6346,\n",
              "  252,\n",
              "  18079,\n",
              "  4182,\n",
              "  181,\n",
              "  394,\n",
              "  1207,\n",
              "  15147],\n",
              " [11515,\n",
              "  10308,\n",
              "  1172,\n",
              "  3104,\n",
              "  1992,\n",
              "  21873,\n",
              "  1297,\n",
              "  11,\n",
              "  235,\n",
              "  213,\n",
              "  764,\n",
              "  1296,\n",
              "  3104,\n",
              "  1992,\n",
              "  284],\n",
              " [33, 45, 173, 124],\n",
              " [21, 40, 44, 735, 331, 63, 915, 814, 296, 2044, 1414, 3892, 154, 35, 23],\n",
              " [14, 30, 1690, 30, 11956, 6992, 29, 418, 2863],\n",
              " [52272, 93, 2, 5471, 1176, 1218, 2321, 14000],\n",
              " [694, 115, 1523, 1690, 1462, 7848, 3160, 1236],\n",
              " [1511, 5167, 2957, 253, 1628],\n",
              " [96, 9, 15, 44, 331, 242, 689, 433, 393, 60, 3225],\n",
              " [2050, 4, 1930, 7, 8, 52273, 76, 123, 657, 20],\n",
              " [5245, 512, 52274, 558, 73, 408, 330, 22260, 52275],\n",
              " [249, 71, 101, 9154, 1304, 8639, 1485, 109, 4294, 79, 8639, 1935, 353, 10],\n",
              " [845, 109, 262, 513, 946, 125, 1, 13, 909, 8852, 388, 14927],\n",
              " [96,\n",
              "  560,\n",
              "  322,\n",
              "  80,\n",
              "  81,\n",
              "  322,\n",
              "  80,\n",
              "  81,\n",
              "  322,\n",
              "  80,\n",
              "  81,\n",
              "  52276,\n",
              "  52277,\n",
              "  322,\n",
              "  80,\n",
              "  81,\n",
              "  322,\n",
              "  80,\n",
              "  81,\n",
              "  52278,\n",
              "  15280,\n",
              "  35,\n",
              "  23],\n",
              " [1280, 266, 52279, 52280, 5491],\n",
              " [639, 775, 4258, 4145],\n",
              " [374, 133, 4021, 52281, 208, 52282, 52283],\n",
              " [721, 301, 656, 2888, 819, 14, 30, 494],\n",
              " [101, 300, 62, 5, 506, 3050],\n",
              " [96,\n",
              "  132,\n",
              "  48,\n",
              "  11,\n",
              "  12,\n",
              "  343,\n",
              "  203,\n",
              "  391,\n",
              "  766,\n",
              "  102,\n",
              "  385,\n",
              "  224,\n",
              "  17062,\n",
              "  1158,\n",
              "  715,\n",
              "  1158,\n",
              "  171],\n",
              " [132, 37, 10, 2477, 19, 216, 1742, 152, 2229],\n",
              " [186, 2073, 4873],\n",
              " [191, 174, 1712, 921, 198, 174, 52284, 784, 68, 66, 104, 1007],\n",
              " [60, 151, 138, 135, 605, 151, 1036, 89, 54],\n",
              " [63, 16, 8],\n",
              " [33, 467, 45, 173, 2749, 165],\n",
              " [597, 46, 11999],\n",
              " [109, 21, 59, 2, 1, 74, 6149, 7187, 759, 53, 1, 2167, 242, 1136],\n",
              " [68, 1283, 10185],\n",
              " [14, 54, 17657, 996, 119, 1861, 419, 13, 62, 387, 555, 251],\n",
              " [61, 58, 842, 292, 321, 5063, 1136, 6223, 167, 183, 348, 197, 271],\n",
              " [23, 4695, 1933, 14, 9, 1730, 10, 883, 5938, 86, 165, 2975],\n",
              " [1, 21, 170, 291, 52285],\n",
              " [33, 1202, 493, 26, 131, 132],\n",
              " [3, 6, 4097, 7, 557],\n",
              " [52286, 15, 281, 963, 114],\n",
              " [13, 1063, 138, 151, 1096],\n",
              " [50, 5224, 51, 385, 163, 164],\n",
              " [1557, 12711, 2265, 246, 38, 3098, 2505],\n",
              " [121, 292, 606, 1303, 602, 1111, 7],\n",
              " [16, 29, 2334, 26, 357, 2014, 127, 8, 1214],\n",
              " [21, 488, 1320],\n",
              " [585, 1445, 164, 5, 9, 225, 621, 147, 65, 3094, 147, 20],\n",
              " [1182],\n",
              " [695, 46, 20717, 9, 109, 11061, 249, 52287],\n",
              " [150, 1111, 153],\n",
              " [557, 5003, 13955],\n",
              " [129, 475, 41, 843, 293, 14603, 1056, 337, 275, 66],\n",
              " [3232, 13, 8],\n",
              " [335, 427, 588, 164],\n",
              " [31, 21628, 12, 853, 385, 5],\n",
              " [454, 602, 140, 1736, 10095, 551, 66, 8],\n",
              " [14, 6, 5086, 1199, 52288, 15263],\n",
              " [85, 22, 658, 76, 50],\n",
              " [15715, 6055, 46, 498, 2329, 946],\n",
              " [33, 201, 2, 852, 9, 300, 735, 11, 2, 191, 374, 133],\n",
              " [240, 54, 70, 654, 12, 155, 1229, 43, 84, 1411],\n",
              " [47],\n",
              " [2009, 542, 888, 1776],\n",
              " [31, 1, 982, 97],\n",
              " [10225, 52289, 178, 429, 1231, 761, 15577, 1866, 292, 521, 8, 4, 8252],\n",
              " [913, 466, 210, 1029, 173, 3, 6, 560, 2130, 20],\n",
              " [195, 285, 4, 115, 28, 305, 596],\n",
              " [445, 41, 24, 14516, 1636, 52290, 20234, 52291, 28, 20],\n",
              " [17, 7, 59, 1, 76, 6, 134, 25, 28, 114],\n",
              " [52292],\n",
              " [2448],\n",
              " [261],\n",
              " [67, 2446, 1607, 264, 71, 3],\n",
              " [2230, 1088, 676],\n",
              " [12533, 243, 1260, 147, 119, 2959],\n",
              " [77, 189, 6991, 189, 679, 3066, 1661, 224, 363, 1507],\n",
              " [14, 31, 1, 56, 52293, 3002, 203, 209],\n",
              " [4405, 8, 156, 607, 8, 71],\n",
              " [163, 9, 938, 1941, 1073, 7885],\n",
              " [507,\n",
              "  52294,\n",
              "  7569,\n",
              "  72,\n",
              "  1,\n",
              "  238,\n",
              "  15,\n",
              "  78,\n",
              "  462,\n",
              "  368,\n",
              "  45,\n",
              "  179,\n",
              "  21653,\n",
              "  1081,\n",
              "  62,\n",
              "  214,\n",
              "  3228],\n",
              " [1441, 3247, 273, 336],\n",
              " [52295,\n",
              "  7380,\n",
              "  1,\n",
              "  1251,\n",
              "  90,\n",
              "  1251,\n",
              "  167,\n",
              "  2759,\n",
              "  387,\n",
              "  6,\n",
              "  44,\n",
              "  52296,\n",
              "  265,\n",
              "  14824,\n",
              "  2464,\n",
              "  623,\n",
              "  1615,\n",
              "  607,\n",
              "  17,\n",
              "  593,\n",
              "  7520],\n",
              " [874, 2267, 1906, 5888, 9024, 6255],\n",
              " [34, 170],\n",
              " [3, 1814, 8723, 52297, 457, 14806, 1642, 5470, 5357, 52298],\n",
              " [20, 14853, 2325, 52299, 127, 6, 70],\n",
              " [6854,\n",
              "  934,\n",
              "  212,\n",
              "  5746,\n",
              "  52300,\n",
              "  2167,\n",
              "  241,\n",
              "  45,\n",
              "  202,\n",
              "  5746,\n",
              "  14,\n",
              "  778,\n",
              "  2108,\n",
              "  1122,\n",
              "  497],\n",
              " [3, 5833, 1258, 2396, 195, 497, 5833, 817, 46, 1792, 119, 428],\n",
              " [35, 239, 126],\n",
              " [2, 3, 414, 386],\n",
              " [307, 52301, 50],\n",
              " [234, 582, 226, 1453, 6667, 311, 1746, 1596, 18114, 311, 189, 3, 69, 24],\n",
              " [222, 14, 261, 944],\n",
              " [46, 105, 774, 10476, 166, 347, 461],\n",
              " [2, 32, 70, 2834, 2403, 6802],\n",
              " [893, 371, 84, 104, 21, 54, 35, 23],\n",
              " [384, 138, 48, 1, 76, 1678, 6295, 1892],\n",
              " [74, 5764, 52302, 20, 168, 767, 1072, 89],\n",
              " [918, 58, 30, 6, 1622],\n",
              " [22508, 201, 7650],\n",
              " [27, 2537, 461, 1779],\n",
              " [32, 241, 452, 863, 378, 3, 272],\n",
              " [367, 12264, 1819, 333, 2, 22, 424, 1, 3, 102, 2047],\n",
              " [99, 1899, 2656, 1262, 2263],\n",
              " [522,\n",
              "  2358,\n",
              "  7884,\n",
              "  37,\n",
              "  175,\n",
              "  790,\n",
              "  122,\n",
              "  205,\n",
              "  663,\n",
              "  436,\n",
              "  104,\n",
              "  91,\n",
              "  2,\n",
              "  1,\n",
              "  3,\n",
              "  832,\n",
              "  8652,\n",
              "  22715],\n",
              " [546, 30, 955],\n",
              " [6297, 52303, 52304, 440, 20, 73, 3, 316, 253, 297, 52305],\n",
              " [327, 16181, 52, 1123, 16, 52306, 10552, 433, 9, 375, 304, 82, 1692, 10, 883],\n",
              " [12, 23, 11, 104, 756, 29, 117, 9841],\n",
              " [338, 205, 67, 196],\n",
              " [34, 1988, 1880, 43, 7945, 37, 56, 66, 734, 42, 27, 115],\n",
              " [49, 252, 153, 2, 3, 1039],\n",
              " [598, 194],\n",
              " [627, 3740, 484],\n",
              " [180, 1253, 9, 12434, 553, 4260, 22, 190, 6496, 180, 1253, 77],\n",
              " [8, 371, 638, 112, 21, 54, 60],\n",
              " [2759, 68, 104],\n",
              " [2911, 475, 9672, 52307, 52308, 11],\n",
              " [12, 4963, 204, 72],\n",
              " [153, 132, 3125, 5, 16, 34, 1640, 7809, 2, 47],\n",
              " [1425, 9],\n",
              " [315, 3900, 1, 5059, 829],\n",
              " [49, 6, 4654, 615, 52309, 861, 49, 3, 9, 3689, 20],\n",
              " [33, 239, 89],\n",
              " [403, 3, 56, 1058, 346, 663, 20396, 627, 2674],\n",
              " [477, 2056, 84, 1381, 6, 424, 3886, 51, 2181, 73, 66],\n",
              " [129, 2784, 56, 4344, 1267, 1249, 1388, 11, 14, 30, 7, 366],\n",
              " [12216, 13461, 550, 309, 3826, 11],\n",
              " [1, 432, 301, 10, 286, 6825, 137],\n",
              " [1, 9, 52310, 77, 7, 17],\n",
              " [10348,\n",
              "  29,\n",
              "  3094,\n",
              "  800,\n",
              "  52311,\n",
              "  88,\n",
              "  515,\n",
              "  29,\n",
              "  20067,\n",
              "  52312,\n",
              "  608,\n",
              "  3845,\n",
              "  1,\n",
              "  231,\n",
              "  52313,\n",
              "  509],\n",
              " [52314, 62, 52315, 3559, 406, 213],\n",
              " [3936, 8249, 22, 362, 1540, 7, 18, 207, 5, 11, 3936, 21776],\n",
              " [20, 46, 289, 91, 16, 2025, 4504, 22629, 3559, 52316],\n",
              " [1, 67, 26, 686, 1451, 42, 26, 6, 70, 1926],\n",
              " [3693, 112, 5467, 14, 3330, 2856, 1184],\n",
              " [13782,\n",
              "  52317,\n",
              "  6815,\n",
              "  52318,\n",
              "  1098,\n",
              "  3303,\n",
              "  11130,\n",
              "  4417,\n",
              "  2165,\n",
              "  102,\n",
              "  35,\n",
              "  1171,\n",
              "  181],\n",
              " [1182, 113, 1, 1128, 45, 50, 456, 6626, 22146, 3246, 89],\n",
              " [50, 60, 42, 2356, 34, 89],\n",
              " [13, 27, 10, 864, 70],\n",
              " [231, 43, 24, 12, 28, 969, 1213, 168],\n",
              " [52319, 13, 213, 9266, 52320, 2291, 10404, 25, 614, 4885, 7309, 51, 73, 7],\n",
              " [14, 9146, 2590],\n",
              " [199, 2035, 1632, 245, 550, 1402, 2773, 390, 729],\n",
              " [22716, 4495, 6419],\n",
              " [287, 387, 28, 498, 11, 792, 882],\n",
              " [6813, 969, 1213, 74, 55],\n",
              " [128, 40, 1715, 8, 4, 28, 1743, 3267, 166],\n",
              " [10, 834, 1957, 42, 3, 101, 4613],\n",
              " [233, 445, 1750, 647, 9545, 760, 1429, 304, 19078],\n",
              " [48, 1322, 18],\n",
              " [17, 6, 103, 8, 114, 1490, 5],\n",
              " [49, 18, 26, 467, 52321, 94, 418, 619],\n",
              " [1418, 10051, 3300, 268, 12786, 3750, 58, 1623, 1169],\n",
              " [156, 27, 9, 27, 30, 19, 320, 2, 14, 17, 69, 19],\n",
              " [38, 276, 3814, 1297, 289, 14, 161, 9771, 52322, 253, 15657],\n",
              " [1145, 54, 560, 51, 52323, 102, 203, 887, 174, 1511, 32],\n",
              " [57, 1338, 5784, 52324],\n",
              " [33, 4779, 1287, 1278, 18, 196, 1897, 3237, 1830],\n",
              " [106, 876, 2, 925],\n",
              " [35, 77, 1484, 21840],\n",
              " [1214, 128],\n",
              " [85, 2077],\n",
              " [363, 757, 12464, 22717, 1765],\n",
              " [1643, 1, 5897, 2776, 6232, 520, 14, 40, 1553, 3123, 834, 3344, 1642, 2762],\n",
              " [1134, 375, 1102, 52325, 2731, 1102, 4172, 7413, 2508],\n",
              " [68, 2363, 256, 605],\n",
              " [63, 91, 393, 1195, 36, 1381, 112, 313, 1274, 1260, 7086],\n",
              " [344, 9, 526, 1118],\n",
              " [84, 1255],\n",
              " [1930, 12616, 4783, 222, 48, 34],\n",
              " [14,\n",
              "  285,\n",
              "  119,\n",
              "  55,\n",
              "  1,\n",
              "  415,\n",
              "  409,\n",
              "  280,\n",
              "  302,\n",
              "  4,\n",
              "  131,\n",
              "  1550,\n",
              "  2609,\n",
              "  706,\n",
              "  210,\n",
              "  1029,\n",
              "  923,\n",
              "  225,\n",
              "  17269],\n",
              " [4, 24, 52326, 203],\n",
              " [1165, 4646, 18704, 1985, 14317, 2096, 9, 21, 10061],\n",
              " [205, 195, 52327, 1109, 18255, 1627, 200, 5],\n",
              " [19089, 590, 467, 9008, 160, 52328, 160, 375, 108, 1923],\n",
              " [1529, 11711, 6137, 4946, 22718, 10604],\n",
              " [159, 435, 15, 78, 28, 904, 529, 329, 1, 174, 7597],\n",
              " [14455],\n",
              " [398, 1436, 2776, 4554, 262, 33, 54, 70],\n",
              " [4332, 52329, 1779, 5840, 9887, 3085, 735, 23, 603],\n",
              " [18, 29, 378, 390],\n",
              " [16, 13, 1637, 4542, 1807, 4846, 1156, 17],\n",
              " [1008, 35, 25],\n",
              " [15, 104, 118, 279, 75, 268, 1159, 1348, 369],\n",
              " [31, 166, 151],\n",
              " [33, 249, 390],\n",
              " [61, 1, 238, 13304, 1913, 57, 52330],\n",
              " [429, 544, 1115],\n",
              " [501, 198, 775, 5068, 1958, 1546, 775],\n",
              " [35, 18, 4387, 4171, 2248, 88, 173, 4120, 7860],\n",
              " [557, 1457, 172, 52331],\n",
              " [121, 1703, 3809, 2680, 2500, 2518, 3266],\n",
              " [238, 1634, 126, 18, 226],\n",
              " [42, 140, 47, 1139, 385],\n",
              " [1119, 12604, 52332, 52333, 5023, 1466],\n",
              " [48, 28, 29, 9022],\n",
              " [377,\n",
              "  19875,\n",
              "  52334,\n",
              "  2422,\n",
              "  312,\n",
              "  82,\n",
              "  805,\n",
              "  6274,\n",
              "  1603,\n",
              "  4143,\n",
              "  2410,\n",
              "  465,\n",
              "  207,\n",
              "  188],\n",
              " [52335, 8111],\n",
              " [14589, 1575, 470, 166, 652, 2, 253, 3325],\n",
              " [69, 2715, 8, 107, 143, 1574, 1517, 175, 1454, 71, 174, 48, 1315],\n",
              " [38, 17, 11526, 214, 213, 41, 24, 730, 11737, 47],\n",
              " [10],\n",
              " [11573, 2821, 6564, 182, 109, 1619, 52336, 3770, 342, 73, 513, 94, 9775, 67],\n",
              " [187, 187, 7, 139],\n",
              " [52337, 580, 2476, 20053],\n",
              " [1,\n",
              "  2647,\n",
              "  1360,\n",
              "  5028,\n",
              "  451,\n",
              "  1428,\n",
              "  3885,\n",
              "  50,\n",
              "  126,\n",
              "  226,\n",
              "  2,\n",
              "  45,\n",
              "  28,\n",
              "  89,\n",
              "  3043,\n",
              "  53,\n",
              "  12513],\n",
              " [31, 111, 6],\n",
              " [52338, 1569, 52339, 1, 129, 123, 19, 4703, 4653],\n",
              " [4676, 508, 1061, 2455, 3176, 41, 71, 163, 9, 2917, 13, 2305, 290, 4690],\n",
              " [3, 9, 22405, 16528, 180, 52340, 933, 903, 237, 4, 52341, 52342, 10487],\n",
              " [969, 1213, 168, 474, 229, 41, 2801],\n",
              " [315, 1, 409, 6805, 437, 102, 1799, 18, 86, 549, 677, 1174, 2879],\n",
              " [556, 113, 376, 72],\n",
              " [1, 566, 595, 43, 973],\n",
              " [313, 14, 710, 649],\n",
              " [15, 6, 269, 2672, 5316, 8411, 411, 92],\n",
              " [1024, 448, 63, 3550, 5936, 2097, 1036, 2105],\n",
              " [100],\n",
              " [22, 26, 99, 465, 15706, 523],\n",
              " [94, 249, 21, 823, 131, 200, 288],\n",
              " [875, 42, 23],\n",
              " [118, 333, 1924, 11178, 148, 1729, 570, 654, 222, 1122, 21388, 4222],\n",
              " [4, 25, 1568, 3965, 97, 915, 380, 3995, 3251, 4026],\n",
              " [247, 181, 426, 2905, 240, 748, 28, 1550, 168, 368],\n",
              " [453,\n",
              "  39,\n",
              "  52343,\n",
              "  5673,\n",
              "  861,\n",
              "  53,\n",
              "  3873,\n",
              "  2316,\n",
              "  27,\n",
              "  52344,\n",
              "  3007,\n",
              "  52345,\n",
              "  2816,\n",
              "  38,\n",
              "  276,\n",
              "  951,\n",
              "  52346],\n",
              " [762, 1168],\n",
              " [54, 60, 8110],\n",
              " [179, 1676, 849, 132, 1713, 4099, 6320, 212, 589],\n",
              " [31, 6856, 1096, 1439],\n",
              " [1182, 78, 266, 47],\n",
              " [259, 41, 713, 6883],\n",
              " [22719, 298, 40, 44, 16, 431, 1184, 7, 43, 386, 2148, 227, 1286, 3172],\n",
              " [215, 99, 3231, 11],\n",
              " [1168, 1, 656, 409, 4100, 61, 140, 3, 2015, 5549, 2240, 161, 7, 2106, 1171],\n",
              " [83, 234, 4, 8587, 609],\n",
              " [141, 8, 9118, 128],\n",
              " [1318, 20, 3965, 46, 82, 622, 279, 19],\n",
              " [259, 2937, 8044, 103, 53, 9805],\n",
              " [336, 6779, 92, 377, 17897, 2, 394, 1267, 6766, 17, 148, 4430, 1, 76, 1375],\n",
              " [5497, 14300, 1171, 2, 159, 52347, 52348, 269, 241],\n",
              " [1986, 5011, 18, 3321],\n",
              " [4, 217, 715, 1129, 52349, 1442, 1901, 312, 196, 619],\n",
              " [383, 21, 6, 29, 5327],\n",
              " [35, 229, 4997, 168, 46, 121, 381, 61],\n",
              " [129, 675, 154, 1678, 4663, 3548, 21, 7209],\n",
              " [1622, 254, 652, 499, 20714, 488, 7, 13, 44, 2, 2062, 16, 65],\n",
              " [2, 92],\n",
              " [376, 57, 61, 110, 177, 129, 7, 13, 44, 2, 143, 709],\n",
              " [29, 1369, 107],\n",
              " [303, 814, 5815, 192, 395, 5815, 134],\n",
              " [29, 860, 1790, 41, 24, 512, 2582, 1248, 4406, 52350],\n",
              " [223, 32, 330, 671, 89, 107],\n",
              " [167, 1917, 15],\n",
              " [12283, 10, 19, 1390, 122],\n",
              " [52351, 52352, 35, 3760, 52353, 8915, 20498],\n",
              " [389, 113, 92, 6544, 4510, 609, 865, 5, 16, 4, 493],\n",
              " [177, 109, 539, 121, 778, 182, 16, 239, 3029, 96],\n",
              " [259, 446, 549, 889, 424, 69, 2469, 23, 16629],\n",
              " [16, 164, 1896, 18, 451, 468],\n",
              " [4733, 4733, 9778],\n",
              " [13310, 62, 402, 512, 1181, 11, 5795, 159, 1144],\n",
              " [10, 292, 10, 1782, 169, 13470, 359],\n",
              " [52354, 3222, 10121, 442, 2112, 14484, 11565],\n",
              " [30, 7, 765],\n",
              " [55, 112, 190, 5246, 23, 52355, 1254, 52356, 702, 25, 1303],\n",
              " [232,\n",
              "  24,\n",
              "  18144,\n",
              "  35,\n",
              "  50,\n",
              "  509,\n",
              "  483,\n",
              "  23,\n",
              "  36,\n",
              "  44,\n",
              "  2,\n",
              "  3,\n",
              "  4,\n",
              "  221,\n",
              "  873,\n",
              "  283,\n",
              "  4,\n",
              "  370],\n",
              " [38, 17, 72, 17, 59],\n",
              " [158, 52357],\n",
              " [6606, 6526, 15241, 417, 65, 36, 848, 76, 6, 151],\n",
              " [225],\n",
              " [252, 5191],\n",
              " [12545, 5816, 6974, 209, 1265, 4955, 4322],\n",
              " [54, 84, 87, 2, 1567, 1080, 131, 4, 54, 4],\n",
              " [13, 8, 95, 93],\n",
              " [27, 92, 17, 20027, 38, 20028, 20029],\n",
              " [12, 21843, 72, 5644],\n",
              " [1641, 737, 25, 1677, 4, 5, 1251],\n",
              " [3359, 52358, 23, 274, 1, 3, 19, 33],\n",
              " [74, 3289, 20539, 755, 8294, 14380, 1935, 1594, 3859, 52359],\n",
              " [11893, 6778, 136, 573, 52360],\n",
              " [55, 92],\n",
              " [3138, 18148, 15604, 273, 26, 7081, 38, 1300, 1441, 14330],\n",
              " [4270, 77, 26, 70, 123, 49, 65, 92, 26, 3, 153, 409],\n",
              " [10, 589, 11, 5, 15341, 52361],\n",
              " [8922, 324, 21277, 693, 444, 606, 52362, 334, 74],\n",
              " [55, 546, 205, 1, 67],\n",
              " [7458, 452],\n",
              " [33, 54, 2030],\n",
              " [34, 397, 277, 25, 293],\n",
              " [12251, 27, 103, 1940, 1849, 704, 52363],\n",
              " [208, 9, 24, 42, 5516, 23, 428],\n",
              " [2284, 161, 7, 106, 52364, 455],\n",
              " [23, 241],\n",
              " [174,\n",
              "  11727,\n",
              "  14893,\n",
              "  133,\n",
              "  22,\n",
              "  1633,\n",
              "  22665,\n",
              "  11727,\n",
              "  16652,\n",
              "  2339,\n",
              "  257,\n",
              "  52365,\n",
              "  12441,\n",
              "  482,\n",
              "  6176,\n",
              "  10275,\n",
              "  638],\n",
              " [108, 69, 115, 32, 2, 52366, 152, 347, 52367, 169],\n",
              " [2919, 44, 5752, 17, 404],\n",
              " [1145, 304, 265, 401, 241, 110, 55],\n",
              " [85, 65, 39, 13600, 8],\n",
              " [8720, 5952, 14907, 72],\n",
              " [14959, 527, 1755, 4307, 52368, 426],\n",
              " [3863, 19, 220, 3601],\n",
              " [36, 41, 71, 22720, 110, 313, 1044, 170, 54, 9, 1, 1590, 75],\n",
              " [732, 154, 1431],\n",
              " [18, 29, 236, 6336, 310, 48, 5030, 4040, 276, 908, 1601, 2266],\n",
              " [52369, 1091, 1091, 40, 260, 11650],\n",
              " [48, 343],\n",
              " [52370, 52371, 2384],\n",
              " [3, 3906, 12, 13, 4971],\n",
              " [1, 231, 2022, 2273, 137],\n",
              " [1, 527, 2, 407, 2047, 22637, 25, 40, 19],\n",
              " [951, 138, 92, 108, 7, 545],\n",
              " [9316,\n",
              "  17,\n",
              "  12824,\n",
              "  41,\n",
              "  24,\n",
              "  74,\n",
              "  52372,\n",
              "  52373,\n",
              "  193,\n",
              "  227,\n",
              "  2014,\n",
              "  4182,\n",
              "  861,\n",
              "  1119,\n",
              "  12981,\n",
              "  52374,\n",
              "  145,\n",
              "  1208],\n",
              " [9438, 542],\n",
              " [282, 104, 188, 1, 62, 3008, 733],\n",
              " [633, 46, 3, 668, 30, 276, 202, 5920, 2633],\n",
              " [83, 63, 790, 212, 4, 19, 41, 19, 388, 1874],\n",
              " [1, 19, 79, 21, 30, 8, 34, 453],\n",
              " [25,\n",
              "  3,\n",
              "  2229,\n",
              "  10,\n",
              "  1418,\n",
              "  399,\n",
              "  3713,\n",
              "  15,\n",
              "  2031,\n",
              "  729,\n",
              "  450,\n",
              "  9,\n",
              "  6227,\n",
              "  52375,\n",
              "  6411,\n",
              "  1722],\n",
              " [223, 2905, 243, 52376],\n",
              " [94, 26, 14, 22, 219, 420, 1588, 1, 4, 33, 26],\n",
              " [1340, 17801, 5, 12042, 1010, 2411, 21456, 73, 2542, 5976],\n",
              " [587, 66, 2261, 56, 558],\n",
              " [1010, 1062, 54, 9, 9804],\n",
              " [444, 5917, 2315, 7, 139, 246, 246, 139],\n",
              " [762, 229, 292],\n",
              " [169],\n",
              " [18317, 466, 27, 14, 771],\n",
              " [244, 12293, 314, 122, 2237, 2279],\n",
              " [300, 74, 961],\n",
              " [90, 3744, 422],\n",
              " [307, 52, 6, 98, 20435, 544, 2, 1201, 418, 51, 73, 7, 13, 576, 52],\n",
              " [841, 2641, 159, 5961, 451, 224],\n",
              " [59, 17, 3473, 71],\n",
              " [699, 5955, 52377, 52378, 12, 193, 876, 1386, 531, 10, 699, 5955],\n",
              " [20, 253, 394, 2383],\n",
              " [262, 12857],\n",
              " [188, 11, 11, 6986, 3069, 5583, 52379, 4, 207],\n",
              " [307, 594],\n",
              " [951, 1950, 1085, 4738, 5, 107],\n",
              " [449,\n",
              "  63,\n",
              "  2948,\n",
              "  1143,\n",
              "  533,\n",
              "  816,\n",
              "  1,\n",
              "  1488,\n",
              "  2065,\n",
              "  17778,\n",
              "  14750,\n",
              "  52380,\n",
              "  22515,\n",
              "  18230,\n",
              "  67,\n",
              "  10729],\n",
              " [1118, 52381, 4676, 6449, 3726, 244, 2076],\n",
              " [3, 96, 23, 25, 3, 116, 365, 349],\n",
              " [2795, 390, 22721, 838, 259],\n",
              " [16, 876, 1386, 6111, 1010],\n",
              " [153, 137, 163, 679, 35, 210, 5320],\n",
              " [364, 2542, 580, 1979, 121, 345, 14, 30, 7, 13, 332, 220, 6044],\n",
              " [765, 51, 135, 9324, 1, 637],\n",
              " [33, 657, 52382, 18, 29, 6794],\n",
              " [4326, 359],\n",
              " [1365, 6780, 16, 52383, 22711, 6780, 2, 302, 12, 22571, 306, 302],\n",
              " [188, 32, 220],\n",
              " [744, 92],\n",
              " [1859, 917, 36, 151, 166, 13, 9068],\n",
              " [33, 5897, 2776, 6230],\n",
              " [521, 1383, 2949, 1120, 396, 230, 52384],\n",
              " [50, 1660, 21919],\n",
              " [12, 705, 17, 52385, 1906, 52386],\n",
              " [307, 3350, 1336, 121, 61, 229, 493, 370, 872],\n",
              " [1094, 242, 2907, 1246, 1068, 908, 1622],\n",
              " [186, 79, 4871],\n",
              " [3516, 24, 3331, 10, 562, 306, 2000, 2799, 563, 52387, 52388],\n",
              " [42, 6, 230, 24, 115, 339, 376, 68, 329],\n",
              " [185, 7205, 382, 1657, 416, 38, 758, 31, 382, 1258, 304, 3133],\n",
              " [20518],\n",
              " [525, 46, 287, 31],\n",
              " [7792, 1180],\n",
              " [232, 391, 360, 8],\n",
              " [825, 59, 1873],\n",
              " [15, 44, 106, 4777, 400, 2961, 49, 279, 11765, 1221, 18293, 91],\n",
              " [12699, 5761],\n",
              " [50, 207, 1, 12, 59, 386],\n",
              " [1, 52389, 349, 2499, 11, 356, 166, 630, 79],\n",
              " [438, 403, 183, 1099, 15807, 816, 380],\n",
              " [575, 213, 258],\n",
              " [1061, 2182, 373, 368, 24, 69, 61, 2854],\n",
              " [128, 1603, 905, 293, 53, 125, 453, 27, 4, 7],\n",
              " [18, 225, 5182, 52390],\n",
              " [46, 52391, 748, 1142, 3019, 4092, 20],\n",
              " [659, 3721, 142, 39, 4488, 220, 4006, 7916, 1936, 961],\n",
              " [51, 12, 113, 39, 535, 226, 1191, 648, 705, 1, 1173, 4731],\n",
              " [1302, 1464, 186, 4000, 21, 283, 14, 30, 7, 8, 11],\n",
              " [3839, 786, 262],\n",
              " [361, 2354, 514, 874, 52392, 15568],\n",
              " [12, 931, 660, 17, 1790, 7003, 3, 252, 943, 6547, 2467, 1933, 2467],\n",
              " [749, 430, 115, 41, 24, 12, 345, 1168, 25, 345, 536, 1989, 272],\n",
              " [83, 67, 175, 641, 71, 1065],\n",
              " [5243, 38, 2, 19564, 12546, 655, 163, 9, 60, 1244],\n",
              " [324, 2722],\n",
              " [2518, 1434],\n",
              " [1669, 304, 87, 34, 41, 24, 25, 42, 87, 6, 34],\n",
              " [1677, 52, 43, 27, 10, 751, 542, 18670],\n",
              " [3536, 3439, 49, 102, 6673, 17, 17902, 201, 117, 4628],\n",
              " [153, 21, 573, 2248, 36, 212, 52393, 3, 269, 541],\n",
              " [4, 25, 4, 25, 4, 25, 974, 446, 4, 5],\n",
              " [9095, 542, 118, 542, 52394],\n",
              " [52395, 119, 52396, 365, 2555, 3339],\n",
              " [229, 162, 436, 948, 52397, 53, 279, 15328, 253, 52398],\n",
              " [146, 157, 707],\n",
              " [55, 14, 3820, 960, 105, 45, 3037, 4629, 589],\n",
              " [52399, 723],\n",
              " [4,\n",
              "  1342,\n",
              "  1286,\n",
              "  31,\n",
              "  45,\n",
              "  69,\n",
              "  518,\n",
              "  34,\n",
              "  121,\n",
              "  1394,\n",
              "  52400,\n",
              "  7,\n",
              "  1156,\n",
              "  220,\n",
              "  1402,\n",
              "  256,\n",
              "  6035,\n",
              "  1342],\n",
              " [2865, 194, 43],\n",
              " [40, 209, 262, 30, 6, 647],\n",
              " [77, 143, 53, 2559, 1230, 80, 81, 1217, 62],\n",
              " [74, 334, 90, 7],\n",
              " [14, 786, 2633, 2425, 4144],\n",
              " [20,\n",
              "  83,\n",
              "  2,\n",
              "  1791,\n",
              "  15,\n",
              "  281,\n",
              "  364,\n",
              "  185,\n",
              "  35,\n",
              "  1166,\n",
              "  37,\n",
              "  20,\n",
              "  257,\n",
              "  18,\n",
              "  124,\n",
              "  399,\n",
              "  155],\n",
              " [1, 34, 7, 59, 1165, 112, 12, 1796],\n",
              " [20, 1633, 569, 1, 156, 374, 22722],\n",
              " [274, 22, 419, 645, 3, 119],\n",
              " [49, 809, 8935, 9195, 2221, 269, 252, 1922, 10, 40, 1555, 554, 430],\n",
              " [38, 1340],\n",
              " [12101, 1463, 722],\n",
              " [528, 254, 1311, 381, 2916],\n",
              " [52401, 25, 175, 44, 130],\n",
              " [15, 3037, 5382, 52402, 179, 152, 400, 174],\n",
              " [98, 165, 2233, 137, 470, 1399, 191],\n",
              " [1087, 3519, 537, 394, 359, 374, 85, 85, 164, 5],\n",
              " [924, 136, 6, 3405, 82, 64, 1077, 10871, 1658, 41, 197],\n",
              " [10, 1698, 55, 3418, 91, 3808, 3911, 241, 22001],\n",
              " [133, 894, 2534, 4016, 84, 133],\n",
              " [1142],\n",
              " [986, 287, 1081, 53, 218, 23, 3619, 7494, 767, 24],\n",
              " [836, 7206, 599, 627, 15, 452],\n",
              " [535, 535, 4293, 504, 225, 2857, 540],\n",
              " [557, 1349, 23, 538, 461],\n",
              " [987, 72, 38, 2, 21, 2911],\n",
              " [4, 28, 496, 32, 165],\n",
              " [85, 5233, 1605],\n",
              " [24, 52403, 1162, 365, 34, 2984, 480, 1988, 90, 2479, 1346, 1912, 4882],\n",
              " [525, 561, 2, 1, 302, 64, 1, 34, 101, 756],\n",
              " [27, 397],\n",
              " [52404, 1258, 1276, 70, 192, 91],\n",
              " [51, 1673, 32, 20],\n",
              " [602, 16590, 15040, 908],\n",
              " [130, 215, 99, 5, 8, 1413, 2, 47, 52405, 696, 111, 47],\n",
              " [52406, 52407, 16, 637, 1304, 52408, 40, 748, 290, 52409, 572],\n",
              " [11, 198, 659, 600, 258, 1175],\n",
              " [52410, 52411, 68, 130, 1303],\n",
              " [194, 1723, 1070, 474, 71, 18470, 3079, 1424, 12084],\n",
              " [77, 12, 1605, 2, 4, 42],\n",
              " [7934, 3604, 2739],\n",
              " [52412],\n",
              " [524, 358, 49, 7, 139],\n",
              " [199, 151, 2848, 68],\n",
              " [14154, 13, 52, 2097, 2332, 1218, 3971, 38, 275, 271, 96, 52413],\n",
              " [52414, 2, 1961, 1010],\n",
              " [36, 391, 545, 31, 45, 99, 4336],\n",
              " [94, 249, 510, 181],\n",
              " [97, 2957],\n",
              " [170, 16, 9165, 10058, 5, 52, 1797],\n",
              " [52415, 107, 99, 465, 5645, 8547],\n",
              " [58, 68, 191, 343, 5061, 72],\n",
              " [256, 93, 66, 187, 13, 8, 11, 130, 5386, 904, 1498, 213],\n",
              " [130, 16, 29, 795, 2187, 1020],\n",
              " [7, 52416, 18, 1343, 17173, 6, 1016],\n",
              " [33, 174, 880, 1225, 165, 2038],\n",
              " [338, 105, 863, 52417, 237, 139, 1078, 1633, 26, 758, 3281],\n",
              " [1, 582, 596, 1099, 6, 276, 30],\n",
              " [33, 12530, 52418],\n",
              " [101, 5, 79, 248, 79, 68],\n",
              " [618, 76, 95, 5, 11, 2591, 35, 23, 838, 93],\n",
              " [296, 56, 2310, 636],\n",
              " [955, 40, 220, 52],\n",
              " [177, 52419, 243, 243, 29, 551, 540, 154],\n",
              " [96, 21951, 331, 347, 262],\n",
              " [3145, 15, 485, 137],\n",
              " [3, 9, 377, 1, 145],\n",
              " [188, 2602, 120, 26, 32, 178, 26, 14, 19],\n",
              " [652, 673, 220, 127, 519, 87],\n",
              " [52420, 880, 52421, 52422, 9174, 52423, 5029, 52424, 4141, 52425],\n",
              " [56, 103, 7, 20649],\n",
              " [38, 138, 4852, 52426, 11994, 218, 28, 3112],\n",
              " [898, 353, 3, 476, 122, 6550, 27, 2, 10, 161, 2061, 898, 1264, 52427, 25],\n",
              " [159, 236, 741, 250, 16, 52428],\n",
              " [153, 16, 100, 74, 240, 60, 6397, 2395, 2180],\n",
              " [7, 59, 442, 265, 1331, 43],\n",
              " [202],\n",
              " [1, 27, 67, 175, 1377, 21, 300],\n",
              " [177, 404, 816, 6050, 60],\n",
              " [21, 4, 1089, 2703, 490, 350, 2254],\n",
              " [2, 1444, 3291],\n",
              " [2272, 1712, 3544, 1968, 133, 48, 14, 30, 2684],\n",
              " [4993, 93, 66, 45, 50, 1768, 68, 913, 7861, 8234, 2590],\n",
              " [67, 14, 84, 26, 1095, 2885, 336, 26, 273, 298, 1541, 57, 2, 1095, 2885],\n",
              " [362, 506, 11, 13, 8, 43],\n",
              " [211, 236, 242, 5894, 3681, 119, 1693, 88, 575, 213, 208, 388, 22655],\n",
              " [114, 2229, 556, 286, 6304],\n",
              " [616, 9396, 75, 206, 54, 1063],\n",
              " [14,\n",
              "  644,\n",
              "  22723,\n",
              "  7854,\n",
              "  1396,\n",
              "  22724,\n",
              "  2678,\n",
              "  457,\n",
              "  8102,\n",
              "  11,\n",
              "  22723,\n",
              "  39,\n",
              "  370,\n",
              "  468,\n",
              "  52429,\n",
              "  14660],\n",
              " [3669, 21, 2, 304],\n",
              " [35, 18, 1178, 22193, 102],\n",
              " [52430, 16, 2075, 1126, 2075, 1546, 4643, 10, 2075, 833],\n",
              " [5693, 780, 22580, 2780, 5738, 212, 3487, 22652],\n",
              " [42, 38, 17, 66],\n",
              " [441, 720, 144],\n",
              " [52431, 14, 202, 258, 2, 2990, 788],\n",
              " [177, 1, 1399, 306, 283, 3, 4],\n",
              " [4450, 1, 56, 8096, 2, 1, 27, 12, 841, 73, 3148, 753, 161, 342, 1050, 115],\n",
              " [77, 304, 2796, 1193, 46, 41, 23, 196, 64],\n",
              " [77, 441, 193, 2, 58],\n",
              " [49, 2769, 2, 15],\n",
              " [3, 116, 134, 3, 22349, 60, 64, 469, 17],\n",
              " [106, 200, 511, 5899, 7486, 12262, 171],\n",
              " [46, 872, 14, 31, 319, 255, 9, 31, 319, 52432, 21695],\n",
              " [518, 52433, 52434, 288, 12571, 3702, 52435],\n",
              " [97, 64],\n",
              " [18, 2, 775, 208, 752, 8017],\n",
              " [8460, 24, 43, 361, 1313],\n",
              " [153, 22070, 2470, 52436, 884, 577, 1781, 9088, 52437, 3642, 875],\n",
              " [130, 6, 28, 663, 11621, 189, 699, 4465, 226, 620, 183, 10740],\n",
              " [110, 1, 374, 24, 246, 892, 211, 56, 4902, 3849, 119],\n",
              " [51, 1428, 114, 2, 457, 1, 299, 598, 7295],\n",
              " [578, 6339, 9855, 474, 832, 119, 17513, 2613],\n",
              " [1450, 1, 90, 8, 72],\n",
              " [16, 161, 22725, 10045, 45, 1065],\n",
              " [473, 112, 473],\n",
              " [87, 144, 10156, 2, 31, 143, 56, 1892],\n",
              " [327, 4197, 496, 270, 1669, 221, 14, 413, 122],\n",
              " [14, 37, 6794, 67, 45, 6, 118, 4772, 476, 707, 144],\n",
              " [33, 982, 13, 8362],\n",
              " [19, 8328, 7274],\n",
              " [143, 296, 7, 8, 6733, 939, 11, 2045, 167, 970, 245, 36],\n",
              " [63, 6675, 406, 165, 339, 44, 335, 136, 646],\n",
              " [258, 202, 15, 44, 556, 141, 173],\n",
              " [15, 1684, 994, 5302, 52438],\n",
              " [5348, 2369, 1031],\n",
              " [54, 9, 1, 299, 7694, 199, 196, 13, 2903, 894, 174, 764, 99, 275, 153, 1878],\n",
              " ...]"
            ]
          },
          "metadata": {},
          "execution_count": 38
        }
      ]
    },
    {
      "cell_type": "code",
      "source": [
        "lenght = []\n",
        "for i in (train_text_vec + test_text_vec):\n",
        "  if 10<len(i)<28:\n",
        "    lenght.append(len(i))\n",
        "max(lenght)"
      ],
      "metadata": {
        "colab": {
          "base_uri": "https://localhost:8080/"
        },
        "id": "1mXX9ebztnzZ",
        "outputId": "575a8c51-d260-495f-b4d7-2a9d20bf4138"
      },
      "execution_count": 40,
      "outputs": [
        {
          "output_type": "execute_result",
          "data": {
            "text/plain": [
              "27"
            ]
          },
          "metadata": {},
          "execution_count": 40
        }
      ]
    },
    {
      "cell_type": "markdown",
      "source": [
        "**We can leave the maximun word length is 28**"
      ],
      "metadata": {
        "id": "V3Xhkth4uhzH"
      }
    },
    {
      "cell_type": "code",
      "source": [
        "#pad the sequences \n",
        "\n",
        "from keras.preprocessing import sequence\n",
        "max_words = 28\n",
        "X_train = keras.utils.pad_sequences(train_text_vec, maxlen=max_words)\n",
        "X_test = keras.utils.pad_sequences(test_text_vec, maxlen=max_words)\n",
        "modelRNN = None\n",
        "modelLSTM = None\n",
        "print(\"After Padding x[train[0]=\\n\" , X_test[0])"
      ],
      "metadata": {
        "colab": {
          "base_uri": "https://localhost:8080/"
        },
        "id": "GHqP4pJ1uR_u",
        "outputId": "234a88bf-2d37-473d-ffe2-81a67494111a"
      },
      "execution_count": 46,
      "outputs": [
        {
          "output_type": "stream",
          "name": "stdout",
          "text": [
            "After Padding x[train[0]=\n",
            " [   0    0    0    0    0    0    0    0    0    0    0    0    0    0\n",
            "    0    0    0    0    0    0    0    0    0    0    0 7002  108   68]\n"
          ]
        }
      ]
    },
    {
      "cell_type": "markdown",
      "source": [
        "**End of data padding**"
      ],
      "metadata": {
        "id": "5xxvJ5xkwlq-"
      }
    },
    {
      "cell_type": "code",
      "source": [],
      "metadata": {
        "id": "FA7UIMiRvK7-"
      },
      "execution_count": null,
      "outputs": []
    },
    {
      "cell_type": "markdown",
      "source": [
        "**Modelling**"
      ],
      "metadata": {
        "id": "a6ly7iLBwrGX"
      }
    },
    {
      "cell_type": "code",
      "source": [
        "word_index = tokenizer.word_index\n",
        "print('Found %s unique tokens.' % len(word_index))"
      ],
      "metadata": {
        "colab": {
          "base_uri": "https://localhost:8080/"
        },
        "id": "dxrI5ieLwsvm",
        "outputId": "c955cd0a-462b-4e09-858e-71202422e4e1"
      },
      "execution_count": 47,
      "outputs": [
        {
          "output_type": "stream",
          "name": "stdout",
          "text": [
            "Found 55313 unique tokens.\n"
          ]
        }
      ]
    },
    {
      "cell_type": "code",
      "source": [
        "vocabulary_size = len((train_text_vec + test_text_vec))*2"
      ],
      "metadata": {
        "id": "E6wZYlB3wum9"
      },
      "execution_count": 49,
      "outputs": []
    },
    {
      "cell_type": "markdown",
      "source": [
        "**Glove Embeddings**"
      ],
      "metadata": {
        "id": "n2rLXmIKwx-R"
      }
    },
    {
      "cell_type": "code",
      "source": [
        "#Glove\n",
        "embeddings_index = {}\n",
        "f = open('/content/glove.6B.100d.txt')\n",
        "for line in f:\n",
        "    values = line.split()\n",
        "    word = values[0]\n",
        "    coefs = np.asarray(values[1:], dtype='float32')\n",
        "    embeddings_index[word] = coefs\n",
        "f.close()\n",
        "\n",
        "print('Found %s word vectors.' % len(embeddings_index))"
      ],
      "metadata": {
        "colab": {
          "base_uri": "https://localhost:8080/"
        },
        "id": "hRga7fHLwwLV",
        "outputId": "54d37d91-bb9d-41ad-fcd0-c3c5bba2b42a"
      },
      "execution_count": 51,
      "outputs": [
        {
          "output_type": "stream",
          "name": "stdout",
          "text": [
            "Found 92739 word vectors.\n"
          ]
        }
      ]
    },
    {
      "cell_type": "code",
      "source": [
        "#embedding matrix\n",
        "embedding_matrix = np.zeros((vocabulary_size, 100))\n",
        "for word, i in word_index.items():\n",
        "    embedding_vector = embeddings_index.get(word)\n",
        "    if embedding_vector is not None:\n",
        "        # words not found in embedding index will be all-zeros.\n",
        "        embedding_matrix[i] = embedding_vector\n",
        "# embedding_matrix.shape"
      ],
      "metadata": {
        "id": "mkG3dbhGxtZr"
      },
      "execution_count": 52,
      "outputs": []
    },
    {
      "cell_type": "markdown",
      "source": [
        "**Recurrent Neural Network(RNN)**"
      ],
      "metadata": {
        "id": "G5uD_KkfxxyV"
      }
    },
    {
      "cell_type": "code",
      "source": [
        "#Now create a simple RNN model and lets see the accuracy\n",
        "from keras.layers import SimpleRNN\n",
        "from tensorflow.keras import regularizers"
      ],
      "metadata": {
        "id": "u57t_EUixwvt"
      },
      "execution_count": 53,
      "outputs": []
    },
    {
      "cell_type": "code",
      "source": [
        "embedding_size=100\n",
        "\n",
        "\n",
        "modelRNN=Sequential()\n",
        "modelRNN.add(Embedding(vocabulary_size,embedding_size,weights = [embedding_matrix],input_length=max_words)) #embdsize\n",
        "# modelRNN.add(Embedding(vocabulary_size, embedding_size, input_length=max_words))\n",
        "modelRNN.add(Dropout(0.70))\n",
        "modelRNN.add(SimpleRNN(150,activation = \"tanh\",kernel_regularizer=regularizers.l2(0.01))) \n",
        "modelRNN.add(Dropout(0.15))\n",
        "modelRNN.add(Dense(1, activation='sigmoid'))\n",
        "print(modelRNN.summary())"
      ],
      "metadata": {
        "colab": {
          "base_uri": "https://localhost:8080/"
        },
        "id": "VDkWBF5_xwyV",
        "outputId": "0d63f83b-2970-456e-d0b3-d51c8137b18a"
      },
      "execution_count": 54,
      "outputs": [
        {
          "output_type": "stream",
          "name": "stdout",
          "text": [
            "Model: \"sequential\"\n",
            "_________________________________________________________________\n",
            " Layer (type)                Output Shape              Param #   \n",
            "=================================================================\n",
            " embedding (Embedding)       (None, 28, 100)           20231800  \n",
            "                                                                 \n",
            " dropout (Dropout)           (None, 28, 100)           0         \n",
            "                                                                 \n",
            " simple_rnn (SimpleRNN)      (None, 150)               37650     \n",
            "                                                                 \n",
            " dropout_1 (Dropout)         (None, 150)               0         \n",
            "                                                                 \n",
            " dense (Dense)               (None, 1)                 151       \n",
            "                                                                 \n",
            "=================================================================\n",
            "Total params: 20,269,601\n",
            "Trainable params: 20,269,601\n",
            "Non-trainable params: 0\n",
            "_________________________________________________________________\n",
            "None\n"
          ]
        }
      ]
    },
    {
      "cell_type": "code",
      "source": [
        "modelRNN.compile(loss='binary_crossentropy', \n",
        "             optimizer='adam', \n",
        "             metrics=['accuracy'])"
      ],
      "metadata": {
        "id": "SQS1_uSFxw00"
      },
      "execution_count": 55,
      "outputs": []
    },
    {
      "cell_type": "code",
      "source": [
        "batch_size = 1024\n",
        "num_epochs = 20\n",
        "X_valid, y_valid = X_train[:batch_size], y_train[:batch_size]\n",
        "X_train2, y_train2 = X_train[batch_size:], y_train[batch_size:]\n",
        "callback_listRNN  = [#early1\n",
        "                keras.callbacks.ModelCheckpoint(filepath=\"my_modRNN_BestValAcc.h5\", monitor=\"val_acc\",\n",
        "                                               save_best_only=True),\n",
        "                #keras.callbacks.TerminateOnNaN()\n",
        "                ]"
      ],
      "metadata": {
        "id": "Ntv4mg0Sxw3L"
      },
      "execution_count": 56,
      "outputs": []
    },
    {
      "cell_type": "code",
      "source": [
        "history = modelRNN.fit(X_train2, y_train2, validation_data=(X_valid, y_valid), batch_size=batch_size, epochs=num_epochs, \n",
        "             callbacks=callback_listRNN)\n",
        "modelRNN.save_weights(\"my_modRNN_Latest\")"
      ],
      "metadata": {
        "colab": {
          "base_uri": "https://localhost:8080/"
        },
        "id": "z2FSWTMrxw5P",
        "outputId": "06c41ac1-fc9c-404f-dab7-1a97755ca0a9"
      },
      "execution_count": 57,
      "outputs": [
        {
          "output_type": "stream",
          "name": "stdout",
          "text": [
            "Epoch 1/20\n",
            "87/88 [============================>.] - ETA: 0s - loss: 1.3589 - accuracy: 0.5339"
          ]
        },
        {
          "output_type": "stream",
          "name": "stderr",
          "text": [
            "WARNING:tensorflow:Can save best model only with val_acc available, skipping.\n"
          ]
        },
        {
          "output_type": "stream",
          "name": "stdout",
          "text": [
            "\b\b\b\b\b\b\b\b\b\b\b\b\b\b\b\b\b\b\b\b\b\b\b\b\b\b\b\b\b\b\b\b\b\b\b\b\b\b\b\b\b\b\b\b\b\b\b\b\b\b\b\b\b\b\b\b\b\b\b\b\b\b\b\b\b\b\b\b\b\b\b\b\b\b\b\b\b\b\b\b\b\b\r88/88 [==============================] - 7s 51ms/step - loss: 1.3548 - accuracy: 0.5342 - val_loss: 0.9248 - val_accuracy: 0.6201\n",
            "Epoch 2/20\n",
            "87/88 [============================>.] - ETA: 0s - loss: 0.8035 - accuracy: 0.5932"
          ]
        },
        {
          "output_type": "stream",
          "name": "stderr",
          "text": [
            "WARNING:tensorflow:Can save best model only with val_acc available, skipping.\n"
          ]
        },
        {
          "output_type": "stream",
          "name": "stdout",
          "text": [
            "\b\b\b\b\b\b\b\b\b\b\b\b\b\b\b\b\b\b\b\b\b\b\b\b\b\b\b\b\b\b\b\b\b\b\b\b\b\b\b\b\b\b\b\b\b\b\b\b\b\b\b\b\b\b\b\b\b\b\b\b\b\b\b\b\b\b\b\b\b\b\b\b\b\b\b\b\b\b\b\b\b\b\r88/88 [==============================] - 4s 44ms/step - loss: 0.8026 - accuracy: 0.5932 - val_loss: 0.6743 - val_accuracy: 0.6641\n",
            "Epoch 3/20\n",
            "88/88 [==============================] - ETA: 0s - loss: 0.6639 - accuracy: 0.6461"
          ]
        },
        {
          "output_type": "stream",
          "name": "stderr",
          "text": [
            "WARNING:tensorflow:Can save best model only with val_acc available, skipping.\n"
          ]
        },
        {
          "output_type": "stream",
          "name": "stdout",
          "text": [
            "\b\b\b\b\b\b\b\b\b\b\b\b\b\b\b\b\b\b\b\b\b\b\b\b\b\b\b\b\b\b\b\b\b\b\b\b\b\b\b\b\b\b\b\b\b\b\b\b\b\b\b\b\b\b\b\b\b\b\b\b\b\b\b\b\b\b\b\b\b\b\b\b\b\b\b\b\b\b\b\b\b\b\r88/88 [==============================] - 4s 44ms/step - loss: 0.6639 - accuracy: 0.6461 - val_loss: 0.5885 - val_accuracy: 0.7158\n",
            "Epoch 4/20\n",
            "88/88 [==============================] - ETA: 0s - loss: 0.6043 - accuracy: 0.6901"
          ]
        },
        {
          "output_type": "stream",
          "name": "stderr",
          "text": [
            "WARNING:tensorflow:Can save best model only with val_acc available, skipping.\n"
          ]
        },
        {
          "output_type": "stream",
          "name": "stdout",
          "text": [
            "\b\b\b\b\b\b\b\b\b\b\b\b\b\b\b\b\b\b\b\b\b\b\b\b\b\b\b\b\b\b\b\b\b\b\b\b\b\b\b\b\b\b\b\b\b\b\b\b\b\b\b\b\b\b\b\b\b\b\b\b\b\b\b\b\b\b\b\b\b\b\b\b\b\b\b\b\b\b\b\b\b\b\r88/88 [==============================] - 4s 44ms/step - loss: 0.6043 - accuracy: 0.6901 - val_loss: 0.5453 - val_accuracy: 0.7490\n",
            "Epoch 5/20\n",
            "88/88 [==============================] - ETA: 0s - loss: 0.5694 - accuracy: 0.7159"
          ]
        },
        {
          "output_type": "stream",
          "name": "stderr",
          "text": [
            "WARNING:tensorflow:Can save best model only with val_acc available, skipping.\n"
          ]
        },
        {
          "output_type": "stream",
          "name": "stdout",
          "text": [
            "\b\b\b\b\b\b\b\b\b\b\b\b\b\b\b\b\b\b\b\b\b\b\b\b\b\b\b\b\b\b\b\b\b\b\b\b\b\b\b\b\b\b\b\b\b\b\b\b\b\b\b\b\b\b\b\b\b\b\b\b\b\b\b\b\b\b\b\b\b\b\b\b\b\b\b\b\b\b\b\b\b\b\r88/88 [==============================] - 4s 44ms/step - loss: 0.5694 - accuracy: 0.7159 - val_loss: 0.5203 - val_accuracy: 0.7549\n",
            "Epoch 6/20\n",
            "88/88 [==============================] - ETA: 0s - loss: 0.5482 - accuracy: 0.7301"
          ]
        },
        {
          "output_type": "stream",
          "name": "stderr",
          "text": [
            "WARNING:tensorflow:Can save best model only with val_acc available, skipping.\n"
          ]
        },
        {
          "output_type": "stream",
          "name": "stdout",
          "text": [
            "\b\b\b\b\b\b\b\b\b\b\b\b\b\b\b\b\b\b\b\b\b\b\b\b\b\b\b\b\b\b\b\b\b\b\b\b\b\b\b\b\b\b\b\b\b\b\b\b\b\b\b\b\b\b\b\b\b\b\b\b\b\b\b\b\b\b\b\b\b\b\b\b\b\b\b\b\b\b\b\b\b\b\r88/88 [==============================] - 4s 45ms/step - loss: 0.5482 - accuracy: 0.7301 - val_loss: 0.5096 - val_accuracy: 0.7549\n",
            "Epoch 7/20\n",
            "87/88 [============================>.] - ETA: 0s - loss: 0.5287 - accuracy: 0.7459"
          ]
        },
        {
          "output_type": "stream",
          "name": "stderr",
          "text": [
            "WARNING:tensorflow:Can save best model only with val_acc available, skipping.\n"
          ]
        },
        {
          "output_type": "stream",
          "name": "stdout",
          "text": [
            "\b\b\b\b\b\b\b\b\b\b\b\b\b\b\b\b\b\b\b\b\b\b\b\b\b\b\b\b\b\b\b\b\b\b\b\b\b\b\b\b\b\b\b\b\b\b\b\b\b\b\b\b\b\b\b\b\b\b\b\b\b\b\b\b\b\b\b\b\b\b\b\b\b\b\b\b\b\b\b\b\b\b\r88/88 [==============================] - 4s 43ms/step - loss: 0.5286 - accuracy: 0.7459 - val_loss: 0.5119 - val_accuracy: 0.7559\n",
            "Epoch 8/20\n",
            "87/88 [============================>.] - ETA: 0s - loss: 0.5131 - accuracy: 0.7578"
          ]
        },
        {
          "output_type": "stream",
          "name": "stderr",
          "text": [
            "WARNING:tensorflow:Can save best model only with val_acc available, skipping.\n"
          ]
        },
        {
          "output_type": "stream",
          "name": "stdout",
          "text": [
            "\b\b\b\b\b\b\b\b\b\b\b\b\b\b\b\b\b\b\b\b\b\b\b\b\b\b\b\b\b\b\b\b\b\b\b\b\b\b\b\b\b\b\b\b\b\b\b\b\b\b\b\b\b\b\b\b\b\b\b\b\b\b\b\b\b\b\b\b\b\b\b\b\b\b\b\b\b\b\b\b\b\b\r88/88 [==============================] - 4s 44ms/step - loss: 0.5132 - accuracy: 0.7577 - val_loss: 0.4896 - val_accuracy: 0.7666\n",
            "Epoch 9/20\n",
            "87/88 [============================>.] - ETA: 0s - loss: 0.5000 - accuracy: 0.7655"
          ]
        },
        {
          "output_type": "stream",
          "name": "stderr",
          "text": [
            "WARNING:tensorflow:Can save best model only with val_acc available, skipping.\n"
          ]
        },
        {
          "output_type": "stream",
          "name": "stdout",
          "text": [
            "\b\b\b\b\b\b\b\b\b\b\b\b\b\b\b\b\b\b\b\b\b\b\b\b\b\b\b\b\b\b\b\b\b\b\b\b\b\b\b\b\b\b\b\b\b\b\b\b\b\b\b\b\b\b\b\b\b\b\b\b\b\b\b\b\b\b\b\b\b\b\b\b\b\b\b\b\b\b\b\b\b\b\r88/88 [==============================] - 4s 45ms/step - loss: 0.4997 - accuracy: 0.7656 - val_loss: 0.4828 - val_accuracy: 0.7666\n",
            "Epoch 10/20\n",
            "88/88 [==============================] - ETA: 0s - loss: 0.4888 - accuracy: 0.7732"
          ]
        },
        {
          "output_type": "stream",
          "name": "stderr",
          "text": [
            "WARNING:tensorflow:Can save best model only with val_acc available, skipping.\n"
          ]
        },
        {
          "output_type": "stream",
          "name": "stdout",
          "text": [
            "\b\b\b\b\b\b\b\b\b\b\b\b\b\b\b\b\b\b\b\b\b\b\b\b\b\b\b\b\b\b\b\b\b\b\b\b\b\b\b\b\b\b\b\b\b\b\b\b\b\b\b\b\b\b\b\b\b\b\b\b\b\b\b\b\b\b\b\b\b\b\b\b\b\b\b\b\b\b\b\b\b\b\r88/88 [==============================] - 4s 44ms/step - loss: 0.4888 - accuracy: 0.7732 - val_loss: 0.4841 - val_accuracy: 0.7705\n",
            "Epoch 11/20\n",
            "88/88 [==============================] - ETA: 0s - loss: 0.4834 - accuracy: 0.7761"
          ]
        },
        {
          "output_type": "stream",
          "name": "stderr",
          "text": [
            "WARNING:tensorflow:Can save best model only with val_acc available, skipping.\n"
          ]
        },
        {
          "output_type": "stream",
          "name": "stdout",
          "text": [
            "\b\b\b\b\b\b\b\b\b\b\b\b\b\b\b\b\b\b\b\b\b\b\b\b\b\b\b\b\b\b\b\b\b\b\b\b\b\b\b\b\b\b\b\b\b\b\b\b\b\b\b\b\b\b\b\b\b\b\b\b\b\b\b\b\b\b\b\b\b\b\b\b\b\b\b\b\b\b\b\b\b\b\r88/88 [==============================] - 4s 44ms/step - loss: 0.4834 - accuracy: 0.7761 - val_loss: 0.4776 - val_accuracy: 0.7754\n",
            "Epoch 12/20\n",
            "88/88 [==============================] - ETA: 0s - loss: 0.4725 - accuracy: 0.7833"
          ]
        },
        {
          "output_type": "stream",
          "name": "stderr",
          "text": [
            "WARNING:tensorflow:Can save best model only with val_acc available, skipping.\n"
          ]
        },
        {
          "output_type": "stream",
          "name": "stdout",
          "text": [
            "\b\b\b\b\b\b\b\b\b\b\b\b\b\b\b\b\b\b\b\b\b\b\b\b\b\b\b\b\b\b\b\b\b\b\b\b\b\b\b\b\b\b\b\b\b\b\b\b\b\b\b\b\b\b\b\b\b\b\b\b\b\b\b\b\b\b\b\b\b\b\b\b\b\b\b\b\b\b\b\b\b\b\r88/88 [==============================] - 4s 44ms/step - loss: 0.4725 - accuracy: 0.7833 - val_loss: 0.4793 - val_accuracy: 0.7715\n",
            "Epoch 13/20\n",
            "87/88 [============================>.] - ETA: 0s - loss: 0.4654 - accuracy: 0.7873"
          ]
        },
        {
          "output_type": "stream",
          "name": "stderr",
          "text": [
            "WARNING:tensorflow:Can save best model only with val_acc available, skipping.\n"
          ]
        },
        {
          "output_type": "stream",
          "name": "stdout",
          "text": [
            "\b\b\b\b\b\b\b\b\b\b\b\b\b\b\b\b\b\b\b\b\b\b\b\b\b\b\b\b\b\b\b\b\b\b\b\b\b\b\b\b\b\b\b\b\b\b\b\b\b\b\b\b\b\b\b\b\b\b\b\b\b\b\b\b\b\b\b\b\b\b\b\b\b\b\b\b\b\b\b\b\b\b\r88/88 [==============================] - 4s 44ms/step - loss: 0.4656 - accuracy: 0.7872 - val_loss: 0.4721 - val_accuracy: 0.7803\n",
            "Epoch 14/20\n",
            "87/88 [============================>.] - ETA: 0s - loss: 0.4596 - accuracy: 0.7918"
          ]
        },
        {
          "output_type": "stream",
          "name": "stderr",
          "text": [
            "WARNING:tensorflow:Can save best model only with val_acc available, skipping.\n"
          ]
        },
        {
          "output_type": "stream",
          "name": "stdout",
          "text": [
            "\b\b\b\b\b\b\b\b\b\b\b\b\b\b\b\b\b\b\b\b\b\b\b\b\b\b\b\b\b\b\b\b\b\b\b\b\b\b\b\b\b\b\b\b\b\b\b\b\b\b\b\b\b\b\b\b\b\b\b\b\b\b\b\b\b\b\b\b\b\b\b\b\b\b\b\b\b\b\b\b\b\b\r88/88 [==============================] - 4s 45ms/step - loss: 0.4595 - accuracy: 0.7919 - val_loss: 0.4712 - val_accuracy: 0.7793\n",
            "Epoch 15/20\n",
            "87/88 [============================>.] - ETA: 0s - loss: 0.4508 - accuracy: 0.7976"
          ]
        },
        {
          "output_type": "stream",
          "name": "stderr",
          "text": [
            "WARNING:tensorflow:Can save best model only with val_acc available, skipping.\n"
          ]
        },
        {
          "output_type": "stream",
          "name": "stdout",
          "text": [
            "\b\b\b\b\b\b\b\b\b\b\b\b\b\b\b\b\b\b\b\b\b\b\b\b\b\b\b\b\b\b\b\b\b\b\b\b\b\b\b\b\b\b\b\b\b\b\b\b\b\b\b\b\b\b\b\b\b\b\b\b\b\b\b\b\b\b\b\b\b\b\b\b\b\b\b\b\b\b\b\b\b\b\r88/88 [==============================] - 4s 46ms/step - loss: 0.4507 - accuracy: 0.7977 - val_loss: 0.4694 - val_accuracy: 0.7744\n",
            "Epoch 16/20\n",
            "88/88 [==============================] - ETA: 0s - loss: 0.4479 - accuracy: 0.7989"
          ]
        },
        {
          "output_type": "stream",
          "name": "stderr",
          "text": [
            "WARNING:tensorflow:Can save best model only with val_acc available, skipping.\n"
          ]
        },
        {
          "output_type": "stream",
          "name": "stdout",
          "text": [
            "\b\b\b\b\b\b\b\b\b\b\b\b\b\b\b\b\b\b\b\b\b\b\b\b\b\b\b\b\b\b\b\b\b\b\b\b\b\b\b\b\b\b\b\b\b\b\b\b\b\b\b\b\b\b\b\b\b\b\b\b\b\b\b\b\b\b\b\b\b\b\b\b\b\b\b\b\b\b\b\b\b\b\r88/88 [==============================] - 6s 70ms/step - loss: 0.4479 - accuracy: 0.7989 - val_loss: 0.4630 - val_accuracy: 0.7949\n",
            "Epoch 17/20\n",
            "88/88 [==============================] - ETA: 0s - loss: 0.4420 - accuracy: 0.8029"
          ]
        },
        {
          "output_type": "stream",
          "name": "stderr",
          "text": [
            "WARNING:tensorflow:Can save best model only with val_acc available, skipping.\n"
          ]
        },
        {
          "output_type": "stream",
          "name": "stdout",
          "text": [
            "\b\b\b\b\b\b\b\b\b\b\b\b\b\b\b\b\b\b\b\b\b\b\b\b\b\b\b\b\b\b\b\b\b\b\b\b\b\b\b\b\b\b\b\b\b\b\b\b\b\b\b\b\b\b\b\b\b\b\b\b\b\b\b\b\b\b\b\b\b\b\b\b\b\b\b\b\b\b\b\b\b\b\r88/88 [==============================] - 5s 55ms/step - loss: 0.4420 - accuracy: 0.8029 - val_loss: 0.4691 - val_accuracy: 0.7773\n",
            "Epoch 18/20\n",
            "87/88 [============================>.] - ETA: 0s - loss: 0.4375 - accuracy: 0.8059"
          ]
        },
        {
          "output_type": "stream",
          "name": "stderr",
          "text": [
            "WARNING:tensorflow:Can save best model only with val_acc available, skipping.\n"
          ]
        },
        {
          "output_type": "stream",
          "name": "stdout",
          "text": [
            "\b\b\b\b\b\b\b\b\b\b\b\b\b\b\b\b\b\b\b\b\b\b\b\b\b\b\b\b\b\b\b\b\b\b\b\b\b\b\b\b\b\b\b\b\b\b\b\b\b\b\b\b\b\b\b\b\b\b\b\b\b\b\b\b\b\b\b\b\b\b\b\b\b\b\b\b\b\b\b\b\b\b\r88/88 [==============================] - 4s 44ms/step - loss: 0.4374 - accuracy: 0.8060 - val_loss: 0.4704 - val_accuracy: 0.7842\n",
            "Epoch 19/20\n",
            "88/88 [==============================] - ETA: 0s - loss: 0.4375 - accuracy: 0.8061"
          ]
        },
        {
          "output_type": "stream",
          "name": "stderr",
          "text": [
            "WARNING:tensorflow:Can save best model only with val_acc available, skipping.\n"
          ]
        },
        {
          "output_type": "stream",
          "name": "stdout",
          "text": [
            "\b\b\b\b\b\b\b\b\b\b\b\b\b\b\b\b\b\b\b\b\b\b\b\b\b\b\b\b\b\b\b\b\b\b\b\b\b\b\b\b\b\b\b\b\b\b\b\b\b\b\b\b\b\b\b\b\b\b\b\b\b\b\b\b\b\b\b\b\b\b\b\b\b\b\b\b\b\b\b\b\b\b\r88/88 [==============================] - 4s 44ms/step - loss: 0.4375 - accuracy: 0.8061 - val_loss: 0.4657 - val_accuracy: 0.7891\n",
            "Epoch 20/20\n",
            "88/88 [==============================] - ETA: 0s - loss: 0.4239 - accuracy: 0.8135"
          ]
        },
        {
          "output_type": "stream",
          "name": "stderr",
          "text": [
            "WARNING:tensorflow:Can save best model only with val_acc available, skipping.\n"
          ]
        },
        {
          "output_type": "stream",
          "name": "stdout",
          "text": [
            "\b\b\b\b\b\b\b\b\b\b\b\b\b\b\b\b\b\b\b\b\b\b\b\b\b\b\b\b\b\b\b\b\b\b\b\b\b\b\b\b\b\b\b\b\b\b\b\b\b\b\b\b\b\b\b\b\b\b\b\b\b\b\b\b\b\b\b\b\b\b\b\b\b\b\b\b\b\b\b\b\b\b\r88/88 [==============================] - 4s 44ms/step - loss: 0.4239 - accuracy: 0.8135 - val_loss: 0.4713 - val_accuracy: 0.7920\n"
          ]
        }
      ]
    },
    {
      "cell_type": "code",
      "source": [
        "import matplotlib.pyplot as plt\n",
        "acc = history.history['accuracy']\n",
        "val_acc = history.history['val_accuracy']\n",
        "loss = history.history['loss']\n",
        "val_loss = history.history['val_loss']\n",
        " \n",
        "epochs = range(len(acc))\n",
        " \n",
        "plt.plot(epochs, acc, 'b', label='Training acc')\n",
        "plt.plot(epochs, val_acc, 'r', label='Validation acc')\n",
        "plt.title('Training and validation accuracy-RNN')\n",
        "plt.legend()\n",
        " \n",
        "plt.figure()\n",
        " \n",
        "plt.plot(epochs, loss, 'b', label='Training loss')\n",
        "plt.plot(epochs, val_loss, 'r', label='Validation loss')\n",
        "plt.title('Training and validation loss-RNN')\n",
        "plt.legend()\n",
        " \n",
        "plt.show()"
      ],
      "metadata": {
        "colab": {
          "base_uri": "https://localhost:8080/",
          "height": 545
        },
        "id": "6z2X6X3myFFH",
        "outputId": "920c31f7-b87f-4190-e688-52317982b0b6"
      },
      "execution_count": 58,
      "outputs": [
        {
          "output_type": "display_data",
          "data": {
            "text/plain": [
              "<Figure size 432x288 with 1 Axes>"
            ],
            "image/png": "[encoded data removed]"
          },
          "metadata": {
            "needs_background": "light"
          }
        },
        {
          "output_type": "display_data",
          "data": {
            "text/plain": [
              "<Figure size 432x288 with 1 Axes>"
            ],
            "image/png": "[encoded data removed]"
          },
          "metadata": {
            "needs_background": "light"
          }
        }
      ]
    },
    {
      "cell_type": "markdown",
      "source": [
        "**Loading the last epoch modeln (Optional)**"
      ],
      "metadata": {
        "id": "4bV_UDmByHUP"
      }
    },
    {
      "cell_type": "code",
      "source": [
        "#Loading the last epoch model\n",
        "modelRNN=Sequential()\n",
        "modelRNN.add(Embedding(vocabulary_size, embedding_size, input_length=max_words))\n",
        "modelRNN.add(SimpleRNN(150,activation = \"tanh\")) \n",
        "modelRNN.add(Dense(1, activation='sigmoid'))\n",
        "print(modelRNN.summary())\n",
        "modelRNN.compile(loss='binary_crossentropy', \n",
        "             optimizer='adam', \n",
        "             metrics=['accuracy'])\n",
        "modelRNN.load_weights(\"my_modRNN_Latest\")"
      ],
      "metadata": {
        "colab": {
          "base_uri": "https://localhost:8080/"
        },
        "id": "CEY5r4xoyFPf",
        "outputId": "45f927dc-743f-4de9-f368-3343a2bd2900"
      },
      "execution_count": 59,
      "outputs": [
        {
          "output_type": "stream",
          "name": "stdout",
          "text": [
            "Model: \"sequential_1\"\n",
            "_________________________________________________________________\n",
            " Layer (type)                Output Shape              Param #   \n",
            "=================================================================\n",
            " embedding_1 (Embedding)     (None, 28, 100)           20231800  \n",
            "                                                                 \n",
            " simple_rnn_1 (SimpleRNN)    (None, 150)               37650     \n",
            "                                                                 \n",
            " dense_1 (Dense)             (None, 1)                 151       \n",
            "                                                                 \n",
            "=================================================================\n",
            "Total params: 20,269,601\n",
            "Trainable params: 20,269,601\n",
            "Non-trainable params: 0\n",
            "_________________________________________________________________\n"
          ]
        },
        {
          "output_type": "stream",
          "name": "stderr",
          "text": [
            "WARNING:tensorflow:Inconsistent references when loading the checkpoint into this object graph. For example, in the saved checkpoint object, `model.layer.weight` and `model.layer_copy.weight` reference the same variable, while in the current object these are two different variables. The referenced variables are:(<keras.layers.rnn.simple_rnn.SimpleRNN object at 0x7f5600649820> and <keras.layers.core.dense.Dense object at 0x7f5642f0cc10>).\n"
          ]
        },
        {
          "output_type": "stream",
          "name": "stdout",
          "text": [
            "None\n"
          ]
        },
        {
          "output_type": "execute_result",
          "data": {
            "text/plain": [
              "<tensorflow.python.training.tracking.util.CheckpointLoadStatus at 0x7f56005fd820>"
            ]
          },
          "metadata": {},
          "execution_count": 59
        }
      ]
    },
    {
      "cell_type": "markdown",
      "source": [
        "**LTSM**"
      ],
      "metadata": {
        "id": "-cw5kiJGyZJ6"
      }
    },
    {
      "cell_type": "code",
      "source": [
        "callback_listLSTM = [#early1\n",
        "                keras.callbacks.ModelCheckpoint(filepath=\"my_modLSTM_BestValAcc.h5\", monitor=\"val_acc\",\n",
        "                                               save_best_only=True),\n",
        "                #keras.callbacks.TerminateOnNaN()\n",
        "                ]"
      ],
      "metadata": {
        "id": "5WyUrnD-yFSH"
      },
      "execution_count": 60,
      "outputs": []
    },
    {
      "cell_type": "code",
      "source": [
        "from keras.layers import Dense, Embedding, LSTM, SpatialDropout1D"
      ],
      "metadata": {
        "id": "x9p6i5dAyhqb"
      },
      "execution_count": 61,
      "outputs": []
    },
    {
      "cell_type": "code",
      "source": [
        "embedding_size=100\n",
        "modelLSTM=Sequential()\n",
        "modelLSTM.add(Embedding(vocabulary_size,100,weights = [embedding_matrix],input_length=28)) #embdsize\n",
        "# modelRNN.add(Embedding(vocabulary_size, embedding_size, input_length=max_words))\n",
        "modelLSTM.add(Dropout(0.70))\n",
        "modelLSTM.add(LSTM(150,activation = \"tanh\",kernel_regularizer=regularizers.l2(0.01))) \n",
        "modelLSTM.add(Dropout(0.15))\n",
        "modelLSTM.add(Dense(1, activation='sigmoid'))\n",
        "print(modelLSTM.summary())"
      ],
      "metadata": {
        "colab": {
          "base_uri": "https://localhost:8080/"
        },
        "id": "AzBrvU3Dyhst",
        "outputId": "3db87cd3-390f-411d-8c3e-bd3473781036"
      },
      "execution_count": 62,
      "outputs": [
        {
          "output_type": "stream",
          "name": "stdout",
          "text": [
            "Model: \"sequential_2\"\n",
            "_________________________________________________________________\n",
            " Layer (type)                Output Shape              Param #   \n",
            "=================================================================\n",
            " embedding_2 (Embedding)     (None, 28, 100)           20231800  \n",
            "                                                                 \n",
            " dropout_2 (Dropout)         (None, 28, 100)           0         \n",
            "                                                                 \n",
            " lstm (LSTM)                 (None, 150)               150600    \n",
            "                                                                 \n",
            " dropout_3 (Dropout)         (None, 150)               0         \n",
            "                                                                 \n",
            " dense_2 (Dense)             (None, 1)                 151       \n",
            "                                                                 \n",
            "=================================================================\n",
            "Total params: 20,382,551\n",
            "Trainable params: 20,382,551\n",
            "Non-trainable params: 0\n",
            "_________________________________________________________________\n",
            "None\n"
          ]
        }
      ]
    },
    {
      "cell_type": "code",
      "source": [
        "modelLSTM.compile(loss='binary_crossentropy', \n",
        "             optimizer='adam', \n",
        "             metrics=['accuracy'])"
      ],
      "metadata": {
        "id": "wrLZgcKpyhvU"
      },
      "execution_count": 63,
      "outputs": []
    },
    {
      "cell_type": "code",
      "source": [
        "batch_size = 1024\n",
        "num_epochs = 20\n",
        "X_valid, y_valid = X_train[:batch_size], y_train[:batch_size]\n",
        "X_train2, y_train2 = X_train[batch_size:], y_train[batch_size:]\n",
        "callback_listLSTM = [#early1\n",
        "                keras.callbacks.ModelCheckpoint(filepath=\"my_modRNN_BestValAcc.h5\", monitor=\"val_acc\",\n",
        "                                               save_best_only=True),\n",
        "                #keras.callbacks.TerminateOnNaN()\n",
        "                ]"
      ],
      "metadata": {
        "id": "aEn4aPxmyhxc"
      },
      "execution_count": 64,
      "outputs": []
    },
    {
      "cell_type": "code",
      "source": [
        "LSTMhistory = modelLSTM.fit(X_train2, y_train2, validation_data=(X_valid, y_valid), batch_size=batch_size, epochs=num_epochs, \n",
        "             callbacks=callback_listLSTM)\n",
        "modelLSTM.save_weights(\"my_modLSTM_Latest\")"
      ],
      "metadata": {
        "colab": {
          "base_uri": "https://localhost:8080/"
        },
        "id": "X_cpHlXRyhz0",
        "outputId": "8e0c2cc7-4dfc-4a9f-ddde-fa9a22f06fc5"
      },
      "execution_count": 65,
      "outputs": [
        {
          "output_type": "stream",
          "name": "stdout",
          "text": [
            "Epoch 1/20\n",
            "88/88 [==============================] - ETA: 0s - loss: 1.2036 - accuracy: 0.5729"
          ]
        },
        {
          "output_type": "stream",
          "name": "stderr",
          "text": [
            "WARNING:tensorflow:Can save best model only with val_acc available, skipping.\n"
          ]
        },
        {
          "output_type": "stream",
          "name": "stdout",
          "text": [
            "\b\b\b\b\b\b\b\b\b\b\b\b\b\b\b\b\b\b\b\b\b\b\b\b\b\b\b\b\b\b\b\b\b\b\b\b\b\b\b\b\b\b\b\b\b\b\b\b\b\b\b\b\b\b\b\b\b\b\b\b\b\b\b\b\b\b\b\b\b\b\b\b\b\b\b\b\b\b\b\b\b\b\r88/88 [==============================] - 6s 34ms/step - loss: 1.2036 - accuracy: 0.5729 - val_loss: 0.6926 - val_accuracy: 0.6631\n",
            "Epoch 2/20\n",
            "88/88 [==============================] - ETA: 0s - loss: 0.6484 - accuracy: 0.6488"
          ]
        },
        {
          "output_type": "stream",
          "name": "stderr",
          "text": [
            "WARNING:tensorflow:Can save best model only with val_acc available, skipping.\n"
          ]
        },
        {
          "output_type": "stream",
          "name": "stdout",
          "text": [
            "\b\b\b\b\b\b\b\b\b\b\b\b\b\b\b\b\b\b\b\b\b\b\b\b\b\b\b\b\b\b\b\b\b\b\b\b\b\b\b\b\b\b\b\b\b\b\b\b\b\b\b\b\b\b\b\b\b\b\b\b\b\b\b\b\b\b\b\b\b\b\b\b\b\b\b\b\b\b\b\b\b\b\r88/88 [==============================] - 2s 26ms/step - loss: 0.6484 - accuracy: 0.6488 - val_loss: 0.5783 - val_accuracy: 0.7246\n",
            "Epoch 3/20\n",
            "88/88 [==============================] - ETA: 0s - loss: 0.5890 - accuracy: 0.6959"
          ]
        },
        {
          "output_type": "stream",
          "name": "stderr",
          "text": [
            "WARNING:tensorflow:Can save best model only with val_acc available, skipping.\n"
          ]
        },
        {
          "output_type": "stream",
          "name": "stdout",
          "text": [
            "\b\b\b\b\b\b\b\b\b\b\b\b\b\b\b\b\b\b\b\b\b\b\b\b\b\b\b\b\b\b\b\b\b\b\b\b\b\b\b\b\b\b\b\b\b\b\b\b\b\b\b\b\b\b\b\b\b\b\b\b\b\b\b\b\b\b\b\b\b\b\b\b\b\b\b\b\b\b\b\b\b\b\r88/88 [==============================] - 2s 27ms/step - loss: 0.5890 - accuracy: 0.6959 - val_loss: 0.5343 - val_accuracy: 0.7461\n",
            "Epoch 4/20\n",
            "88/88 [==============================] - ETA: 0s - loss: 0.5536 - accuracy: 0.7257"
          ]
        },
        {
          "output_type": "stream",
          "name": "stderr",
          "text": [
            "WARNING:tensorflow:Can save best model only with val_acc available, skipping.\n"
          ]
        },
        {
          "output_type": "stream",
          "name": "stdout",
          "text": [
            "\b\b\b\b\b\b\b\b\b\b\b\b\b\b\b\b\b\b\b\b\b\b\b\b\b\b\b\b\b\b\b\b\b\b\b\b\b\b\b\b\b\b\b\b\b\b\b\b\b\b\b\b\b\b\b\b\b\b\b\b\b\b\b\b\b\b\b\b\b\b\b\b\b\b\b\b\b\b\b\b\b\b\r88/88 [==============================] - 2s 27ms/step - loss: 0.5536 - accuracy: 0.7257 - val_loss: 0.5089 - val_accuracy: 0.7490\n",
            "Epoch 5/20\n",
            "87/88 [============================>.] - ETA: 0s - loss: 0.5318 - accuracy: 0.7408"
          ]
        },
        {
          "output_type": "stream",
          "name": "stderr",
          "text": [
            "WARNING:tensorflow:Can save best model only with val_acc available, skipping.\n"
          ]
        },
        {
          "output_type": "stream",
          "name": "stdout",
          "text": [
            "\b\b\b\b\b\b\b\b\b\b\b\b\b\b\b\b\b\b\b\b\b\b\b\b\b\b\b\b\b\b\b\b\b\b\b\b\b\b\b\b\b\b\b\b\b\b\b\b\b\b\b\b\b\b\b\b\b\b\b\b\b\b\b\b\b\b\b\b\b\b\b\b\b\b\b\b\b\b\b\b\b\b\r88/88 [==============================] - 2s 27ms/step - loss: 0.5315 - accuracy: 0.7410 - val_loss: 0.4953 - val_accuracy: 0.7598\n",
            "Epoch 6/20\n",
            "88/88 [==============================] - ETA: 0s - loss: 0.5141 - accuracy: 0.7524"
          ]
        },
        {
          "output_type": "stream",
          "name": "stderr",
          "text": [
            "WARNING:tensorflow:Can save best model only with val_acc available, skipping.\n"
          ]
        },
        {
          "output_type": "stream",
          "name": "stdout",
          "text": [
            "\b\b\b\b\b\b\b\b\b\b\b\b\b\b\b\b\b\b\b\b\b\b\b\b\b\b\b\b\b\b\b\b\b\b\b\b\b\b\b\b\b\b\b\b\b\b\b\b\b\b\b\b\b\b\b\b\b\b\b\b\b\b\b\b\b\b\b\b\b\b\b\b\b\b\b\b\b\b\b\b\b\b\r88/88 [==============================] - 2s 27ms/step - loss: 0.5141 - accuracy: 0.7524 - val_loss: 0.4847 - val_accuracy: 0.7637\n",
            "Epoch 7/20\n",
            "88/88 [==============================] - ETA: 0s - loss: 0.5003 - accuracy: 0.7621"
          ]
        },
        {
          "output_type": "stream",
          "name": "stderr",
          "text": [
            "WARNING:tensorflow:Can save best model only with val_acc available, skipping.\n"
          ]
        },
        {
          "output_type": "stream",
          "name": "stdout",
          "text": [
            "\b\b\b\b\b\b\b\b\b\b\b\b\b\b\b\b\b\b\b\b\b\b\b\b\b\b\b\b\b\b\b\b\b\b\b\b\b\b\b\b\b\b\b\b\b\b\b\b\b\b\b\b\b\b\b\b\b\b\b\b\b\b\b\b\b\b\b\b\b\b\b\b\b\b\b\b\b\b\b\b\b\b\r88/88 [==============================] - 2s 27ms/step - loss: 0.5003 - accuracy: 0.7621 - val_loss: 0.4853 - val_accuracy: 0.7686\n",
            "Epoch 8/20\n",
            "87/88 [============================>.] - ETA: 0s - loss: 0.4875 - accuracy: 0.7718"
          ]
        },
        {
          "output_type": "stream",
          "name": "stderr",
          "text": [
            "WARNING:tensorflow:Can save best model only with val_acc available, skipping.\n"
          ]
        },
        {
          "output_type": "stream",
          "name": "stdout",
          "text": [
            "\b\b\b\b\b\b\b\b\b\b\b\b\b\b\b\b\b\b\b\b\b\b\b\b\b\b\b\b\b\b\b\b\b\b\b\b\b\b\b\b\b\b\b\b\b\b\b\b\b\b\b\b\b\b\b\b\b\b\b\b\b\b\b\b\b\b\b\b\b\b\b\b\b\b\b\b\b\b\b\b\b\b\r88/88 [==============================] - 2s 27ms/step - loss: 0.4879 - accuracy: 0.7716 - val_loss: 0.4762 - val_accuracy: 0.7734\n",
            "Epoch 9/20\n",
            "87/88 [============================>.] - ETA: 0s - loss: 0.4793 - accuracy: 0.7765"
          ]
        },
        {
          "output_type": "stream",
          "name": "stderr",
          "text": [
            "WARNING:tensorflow:Can save best model only with val_acc available, skipping.\n"
          ]
        },
        {
          "output_type": "stream",
          "name": "stdout",
          "text": [
            "\b\b\b\b\b\b\b\b\b\b\b\b\b\b\b\b\b\b\b\b\b\b\b\b\b\b\b\b\b\b\b\b\b\b\b\b\b\b\b\b\b\b\b\b\b\b\b\b\b\b\b\b\b\b\b\b\b\b\b\b\b\b\b\b\b\b\b\b\b\b\b\b\b\b\b\b\b\b\b\b\b\b\r88/88 [==============================] - 2s 27ms/step - loss: 0.4795 - accuracy: 0.7764 - val_loss: 0.4708 - val_accuracy: 0.7803\n",
            "Epoch 10/20\n",
            "87/88 [============================>.] - ETA: 0s - loss: 0.4708 - accuracy: 0.7829"
          ]
        },
        {
          "output_type": "stream",
          "name": "stderr",
          "text": [
            "WARNING:tensorflow:Can save best model only with val_acc available, skipping.\n"
          ]
        },
        {
          "output_type": "stream",
          "name": "stdout",
          "text": [
            "\b\b\b\b\b\b\b\b\b\b\b\b\b\b\b\b\b\b\b\b\b\b\b\b\b\b\b\b\b\b\b\b\b\b\b\b\b\b\b\b\b\b\b\b\b\b\b\b\b\b\b\b\b\b\b\b\b\b\b\b\b\b\b\b\b\b\b\b\b\b\b\b\b\b\b\b\b\b\b\b\b\b\r88/88 [==============================] - 2s 27ms/step - loss: 0.4705 - accuracy: 0.7830 - val_loss: 0.4687 - val_accuracy: 0.7773\n",
            "Epoch 11/20\n",
            "87/88 [============================>.] - ETA: 0s - loss: 0.4611 - accuracy: 0.7890"
          ]
        },
        {
          "output_type": "stream",
          "name": "stderr",
          "text": [
            "WARNING:tensorflow:Can save best model only with val_acc available, skipping.\n"
          ]
        },
        {
          "output_type": "stream",
          "name": "stdout",
          "text": [
            "\b\b\b\b\b\b\b\b\b\b\b\b\b\b\b\b\b\b\b\b\b\b\b\b\b\b\b\b\b\b\b\b\b\b\b\b\b\b\b\b\b\b\b\b\b\b\b\b\b\b\b\b\b\b\b\b\b\b\b\b\b\b\b\b\b\b\b\b\b\b\b\b\b\b\b\b\b\b\b\b\b\b\r88/88 [==============================] - 2s 27ms/step - loss: 0.4612 - accuracy: 0.7888 - val_loss: 0.4656 - val_accuracy: 0.7793\n",
            "Epoch 12/20\n",
            "88/88 [==============================] - ETA: 0s - loss: 0.4555 - accuracy: 0.7924"
          ]
        },
        {
          "output_type": "stream",
          "name": "stderr",
          "text": [
            "WARNING:tensorflow:Can save best model only with val_acc available, skipping.\n"
          ]
        },
        {
          "output_type": "stream",
          "name": "stdout",
          "text": [
            "\b\b\b\b\b\b\b\b\b\b\b\b\b\b\b\b\b\b\b\b\b\b\b\b\b\b\b\b\b\b\b\b\b\b\b\b\b\b\b\b\b\b\b\b\b\b\b\b\b\b\b\b\b\b\b\b\b\b\b\b\b\b\b\b\b\b\b\b\b\b\b\b\b\b\b\b\b\b\b\b\b\b\r88/88 [==============================] - 2s 27ms/step - loss: 0.4555 - accuracy: 0.7924 - val_loss: 0.4615 - val_accuracy: 0.7832\n",
            "Epoch 13/20\n",
            "88/88 [==============================] - ETA: 0s - loss: 0.4457 - accuracy: 0.7979"
          ]
        },
        {
          "output_type": "stream",
          "name": "stderr",
          "text": [
            "WARNING:tensorflow:Can save best model only with val_acc available, skipping.\n"
          ]
        },
        {
          "output_type": "stream",
          "name": "stdout",
          "text": [
            "\b\b\b\b\b\b\b\b\b\b\b\b\b\b\b\b\b\b\b\b\b\b\b\b\b\b\b\b\b\b\b\b\b\b\b\b\b\b\b\b\b\b\b\b\b\b\b\b\b\b\b\b\b\b\b\b\b\b\b\b\b\b\b\b\b\b\b\b\b\b\b\b\b\b\b\b\b\b\b\b\b\b\r88/88 [==============================] - 2s 27ms/step - loss: 0.4457 - accuracy: 0.7979 - val_loss: 0.4634 - val_accuracy: 0.7783\n",
            "Epoch 14/20\n",
            "87/88 [============================>.] - ETA: 0s - loss: 0.4383 - accuracy: 0.8029"
          ]
        },
        {
          "output_type": "stream",
          "name": "stderr",
          "text": [
            "WARNING:tensorflow:Can save best model only with val_acc available, skipping.\n"
          ]
        },
        {
          "output_type": "stream",
          "name": "stdout",
          "text": [
            "\b\b\b\b\b\b\b\b\b\b\b\b\b\b\b\b\b\b\b\b\b\b\b\b\b\b\b\b\b\b\b\b\b\b\b\b\b\b\b\b\b\b\b\b\b\b\b\b\b\b\b\b\b\b\b\b\b\b\b\b\b\b\b\b\b\b\b\b\b\b\b\b\b\b\b\b\b\b\b\b\b\b\r88/88 [==============================] - 2s 27ms/step - loss: 0.4385 - accuracy: 0.8029 - val_loss: 0.4656 - val_accuracy: 0.7715\n",
            "Epoch 15/20\n",
            "87/88 [============================>.] - ETA: 0s - loss: 0.4343 - accuracy: 0.8062"
          ]
        },
        {
          "output_type": "stream",
          "name": "stderr",
          "text": [
            "WARNING:tensorflow:Can save best model only with val_acc available, skipping.\n"
          ]
        },
        {
          "output_type": "stream",
          "name": "stdout",
          "text": [
            "\b\b\b\b\b\b\b\b\b\b\b\b\b\b\b\b\b\b\b\b\b\b\b\b\b\b\b\b\b\b\b\b\b\b\b\b\b\b\b\b\b\b\b\b\b\b\b\b\b\b\b\b\b\b\b\b\b\b\b\b\b\b\b\b\b\b\b\b\b\b\b\b\b\b\b\b\b\b\b\b\b\b\r88/88 [==============================] - 2s 27ms/step - loss: 0.4346 - accuracy: 0.8062 - val_loss: 0.4668 - val_accuracy: 0.7773\n",
            "Epoch 16/20\n",
            "87/88 [============================>.] - ETA: 0s - loss: 0.4275 - accuracy: 0.8094"
          ]
        },
        {
          "output_type": "stream",
          "name": "stderr",
          "text": [
            "WARNING:tensorflow:Can save best model only with val_acc available, skipping.\n"
          ]
        },
        {
          "output_type": "stream",
          "name": "stdout",
          "text": [
            "\b\b\b\b\b\b\b\b\b\b\b\b\b\b\b\b\b\b\b\b\b\b\b\b\b\b\b\b\b\b\b\b\b\b\b\b\b\b\b\b\b\b\b\b\b\b\b\b\b\b\b\b\b\b\b\b\b\b\b\b\b\b\b\b\b\b\b\b\b\b\b\b\b\b\b\b\b\b\b\b\b\b\r88/88 [==============================] - 2s 27ms/step - loss: 0.4276 - accuracy: 0.8093 - val_loss: 0.4685 - val_accuracy: 0.7764\n",
            "Epoch 17/20\n",
            "87/88 [============================>.] - ETA: 0s - loss: 0.4176 - accuracy: 0.8176"
          ]
        },
        {
          "output_type": "stream",
          "name": "stderr",
          "text": [
            "WARNING:tensorflow:Can save best model only with val_acc available, skipping.\n"
          ]
        },
        {
          "output_type": "stream",
          "name": "stdout",
          "text": [
            "\b\b\b\b\b\b\b\b\b\b\b\b\b\b\b\b\b\b\b\b\b\b\b\b\b\b\b\b\b\b\b\b\b\b\b\b\b\b\b\b\b\b\b\b\b\b\b\b\b\b\b\b\b\b\b\b\b\b\b\b\b\b\b\b\b\b\b\b\b\b\b\b\b\b\b\b\b\b\b\b\b\b\r88/88 [==============================] - 2s 27ms/step - loss: 0.4177 - accuracy: 0.8177 - val_loss: 0.4703 - val_accuracy: 0.7803\n",
            "Epoch 18/20\n",
            "87/88 [============================>.] - ETA: 0s - loss: 0.4105 - accuracy: 0.8217"
          ]
        },
        {
          "output_type": "stream",
          "name": "stderr",
          "text": [
            "WARNING:tensorflow:Can save best model only with val_acc available, skipping.\n"
          ]
        },
        {
          "output_type": "stream",
          "name": "stdout",
          "text": [
            "\b\b\b\b\b\b\b\b\b\b\b\b\b\b\b\b\b\b\b\b\b\b\b\b\b\b\b\b\b\b\b\b\b\b\b\b\b\b\b\b\b\b\b\b\b\b\b\b\b\b\b\b\b\b\b\b\b\b\b\b\b\b\b\b\b\b\b\b\b\b\b\b\b\b\b\b\b\b\b\b\b\b\r88/88 [==============================] - 2s 27ms/step - loss: 0.4105 - accuracy: 0.8217 - val_loss: 0.4797 - val_accuracy: 0.7842\n",
            "Epoch 19/20\n",
            "87/88 [============================>.] - ETA: 0s - loss: 0.4051 - accuracy: 0.8232"
          ]
        },
        {
          "output_type": "stream",
          "name": "stderr",
          "text": [
            "WARNING:tensorflow:Can save best model only with val_acc available, skipping.\n"
          ]
        },
        {
          "output_type": "stream",
          "name": "stdout",
          "text": [
            "\b\b\b\b\b\b\b\b\b\b\b\b\b\b\b\b\b\b\b\b\b\b\b\b\b\b\b\b\b\b\b\b\b\b\b\b\b\b\b\b\b\b\b\b\b\b\b\b\b\b\b\b\b\b\b\b\b\b\b\b\b\b\b\b\b\b\b\b\b\b\b\b\b\b\b\b\b\b\b\b\b\b\r88/88 [==============================] - 2s 27ms/step - loss: 0.4053 - accuracy: 0.8231 - val_loss: 0.4719 - val_accuracy: 0.7754\n",
            "Epoch 20/20\n",
            "87/88 [============================>.] - ETA: 0s - loss: 0.4001 - accuracy: 0.8264"
          ]
        },
        {
          "output_type": "stream",
          "name": "stderr",
          "text": [
            "WARNING:tensorflow:Can save best model only with val_acc available, skipping.\n"
          ]
        },
        {
          "output_type": "stream",
          "name": "stdout",
          "text": [
            "\b\b\b\b\b\b\b\b\b\b\b\b\b\b\b\b\b\b\b\b\b\b\b\b\b\b\b\b\b\b\b\b\b\b\b\b\b\b\b\b\b\b\b\b\b\b\b\b\b\b\b\b\b\b\b\b\b\b\b\b\b\b\b\b\b\b\b\b\b\b\b\b\b\b\b\b\b\b\b\b\b\b\r88/88 [==============================] - 2s 27ms/step - loss: 0.4003 - accuracy: 0.8264 - val_loss: 0.4827 - val_accuracy: 0.7793\n"
          ]
        }
      ]
    },
    {
      "cell_type": "markdown",
      "source": [
        "**Performace Measure**"
      ],
      "metadata": {
        "id": "XLhS8j2fynxx"
      }
    },
    {
      "cell_type": "code",
      "source": [
        "import matplotlib.pyplot as plt\n",
        "acc = modelLSTM.history.history['accuracy']\n",
        "val_acc = modelLSTM.history.history['val_accuracy']\n",
        "loss = modelLSTM.history.history['loss']\n",
        "val_loss = modelLSTM.history.history['val_loss']\n",
        " \n",
        "epochs = range(len(acc))\n",
        " \n",
        "plt.plot(epochs, acc, 'b', label='Training acc')\n",
        "plt.plot(epochs, val_acc, 'r', label='Validation acc')\n",
        "plt.title('Training and validation accuracy-LSTM')\n",
        "plt.legend()\n",
        " \n",
        "plt.figure()\n",
        " \n",
        "plt.plot(epochs, loss, 'b', label='Training loss')\n",
        "plt.plot(epochs, val_loss, 'r', label='Validation loss')\n",
        "plt.title('Training and validation loss-LSTM')\n",
        "plt.legend()\n",
        " \n",
        "plt.show()"
      ],
      "metadata": {
        "colab": {
          "base_uri": "https://localhost:8080/",
          "height": 545
        },
        "id": "rtTClNVnyqke",
        "outputId": "56cecef4-b5a7-4fa0-d203-2740b8231484"
      },
      "execution_count": 66,
      "outputs": [
        {
          "output_type": "display_data",
          "data": {
            "text/plain": [
              "<Figure size 432x288 with 1 Axes>"
            ],
            "image/png": "[encoded data removed]"
          },
          "metadata": {
            "needs_background": "light"
          }
        },
        {
          "output_type": "display_data",
          "data": {
            "text/plain": [
              "<Figure size 432x288 with 1 Axes>"
            ],
            "image/png": "[encoded data removed]"
          },
          "metadata": {
            "needs_background": "light"
          }
        }
      ]
    },
    {
      "cell_type": "markdown",
      "source": [
        "**Confusion Matrix and classification report**"
      ],
      "metadata": {
        "id": "LxksgIaiyslT"
      }
    },
    {
      "cell_type": "code",
      "source": [
        "from sklearn.metrics import classification_report, confusion_matrix"
      ],
      "metadata": {
        "id": "4dqzmdyTyyNK"
      },
      "execution_count": 67,
      "outputs": []
    },
    {
      "cell_type": "code",
      "source": [
        "cf_matrix=confusion_matrix(y_test, y_predict.round())"
      ],
      "metadata": {
        "id": "uB_GOQ51y0ki"
      },
      "execution_count": 71,
      "outputs": []
    },
    {
      "cell_type": "code",
      "source": [
        "y_predict = modelRNN.predict(X_test)\n",
        "print(classification_report(y_test, y_predict.round()))"
      ],
      "metadata": {
        "colab": {
          "base_uri": "https://localhost:8080/"
        },
        "id": "lOrIgIwuy0mp",
        "outputId": "666ef2ee-a604-422a-fe9e-5c2281124845"
      },
      "execution_count": 69,
      "outputs": [
        {
          "output_type": "stream",
          "name": "stdout",
          "text": [
            "317/317 [==============================] - 1s 3ms/step\n",
            "              precision    recall  f1-score   support\n",
            "\n",
            "           0       0.60      0.54      0.57      4986\n",
            "           1       0.59      0.66      0.62      5130\n",
            "\n",
            "    accuracy                           0.60     10116\n",
            "   macro avg       0.60      0.60      0.60     10116\n",
            "weighted avg       0.60      0.60      0.60     10116\n",
            "\n"
          ]
        }
      ]
    },
    {
      "cell_type": "code",
      "source": [
        "import seaborn as sns\n",
        "group_names = ['True Neg','False Pos','False Neg','True Pos']\n",
        "group_counts = [\"{0:0.0f}\".format(value) for value in\n",
        "                cf_matrix.flatten()]\n",
        "group_percentages = [\"{0:.2%}\".format(value) for value in\n",
        "                     cf_matrix.flatten()/np.sum(cf_matrix)]\n",
        "labels = [f\"{v1}\\n{v2}\\n{v3}\" for v1, v2, v3 in\n",
        "          zip(group_names,group_counts,group_percentages)]\n",
        "labels = np.asarray(labels).reshape(2,2)\n",
        "sns.heatmap(cf_matrix, annot=labels, fmt='', cmap='Blues')"
      ],
      "metadata": {
        "colab": {
          "base_uri": "https://localhost:8080/",
          "height": 283
        },
        "id": "Oz7sXXrxy0pK",
        "outputId": "3985f1a7-26dc-42b2-bd10-5e37d1a53d1a"
      },
      "execution_count": 72,
      "outputs": [
        {
          "output_type": "execute_result",
          "data": {
            "text/plain": [
              "<matplotlib.axes._subplots.AxesSubplot at 0x7f5621ec0430>"
            ]
          },
          "metadata": {},
          "execution_count": 72
        },
        {
          "output_type": "display_data",
          "data": {
            "text/plain": [
              "<Figure size 432x288 with 2 Axes>"
            ],
            "image/png": "[encoded data removed]"
          },
          "metadata": {
            "needs_background": "light"
          }
        }
      ]
    },
    {
      "cell_type": "code",
      "source": [],
      "metadata": {
        "id": "nynoITkZy0rv"
      },
      "execution_count": 72,
      "outputs": []
    },
    {
      "cell_type": "markdown",
      "source": [
        "**Custom tweet for extra test**"
      ],
      "metadata": {
        "id": "lTLJgYASy7KA"
      }
    },
    {
      "cell_type": "code",
      "source": [
        "test_data=['today is a sad day','he was happy today','not a good job']"
      ],
      "metadata": {
        "id": "vmxfys7Uy-f9"
      },
      "execution_count": 73,
      "outputs": []
    },
    {
      "cell_type": "code",
      "source": [
        "x_test  = np.array( tokenizer.texts_to_sequences(test_data))\n",
        "x_test = pad_sequences(x_test, maxlen=28)\n",
        "x_test"
      ],
      "metadata": {
        "colab": {
          "base_uri": "https://localhost:8080/"
        },
        "id": "6yC8QANxzAVI",
        "outputId": "479ccfb3-27d4-4981-a4cc-59fe57337cef"
      },
      "execution_count": 74,
      "outputs": [
        {
          "output_type": "stream",
          "name": "stderr",
          "text": [
            "<ipython-input-74-6267be619ffd>:1: VisibleDeprecationWarning: Creating an ndarray from ragged nested sequences (which is a list-or-tuple of lists-or-tuples-or ndarrays with different lengths or shapes) is deprecated. If you meant to do this, you must specify 'dtype=object' when creating the ndarray.\n",
            "  x_test  = np.array( tokenizer.texts_to_sequences(test_data))\n"
          ]
        },
        {
          "output_type": "execute_result",
          "data": {
            "text/plain": [
              "array([[  0,   0,   0,   0,   0,   0,   0,   0,   0,   0,   0,   0,   0,\n",
              "          0,   0,   0,   0,   0,   0,   0,   0,   0,   0,   0,   0,  11,\n",
              "         61,   5],\n",
              "       [  0,   0,   0,   0,   0,   0,   0,   0,   0,   0,   0,   0,   0,\n",
              "          0,   0,   0,   0,   0,   0,   0,   0,   0,   0,   0,   0,   0,\n",
              "         62,  11],\n",
              "       [  0,   0,   0,   0,   0,   0,   0,   0,   0,   0,   0,   0,   0,\n",
              "          0,   0,   0,   0,   0,   0,   0,   0,   0,   0,   0,   0,   3,\n",
              "          4, 276]], dtype=int32)"
            ]
          },
          "metadata": {},
          "execution_count": 74
        }
      ]
    },
    {
      "cell_type": "code",
      "source": [
        "for i in range(0,len(test_data)):\n",
        "  print('Test sentence:-',test_data[i])\n",
        "  \n",
        "  res=modelRNN.predict(x_test)\n",
        "  if res[i]>0.3:\n",
        "    print('Sentiment type:Positive',res[i])\n",
        "  else:\n",
        "    print('Sentiment type:Negative',res[i])\n",
        "  print('==================================================\\n')"
      ],
      "metadata": {
        "colab": {
          "base_uri": "https://localhost:8080/"
        },
        "id": "wssdd5zBzAXx",
        "outputId": "9f8e2ef0-d5b6-4e43-8fe4-a955145d8126"
      },
      "execution_count": 75,
      "outputs": [
        {
          "output_type": "stream",
          "name": "stdout",
          "text": [
            "Test sentence:- today is a sad day\n",
            "1/1 [==============================] - 0s 16ms/step\n",
            "Sentiment type:Negative [0.03072486]\n",
            "==================================================\n",
            "\n",
            "Test sentence:- he was happy today\n",
            "1/1 [==============================] - 0s 15ms/step\n",
            "Sentiment type:Positive [0.40976137]\n",
            "==================================================\n",
            "\n",
            "Test sentence:- not a good job\n",
            "1/1 [==============================] - 0s 17ms/step\n",
            "Sentiment type:Positive [0.48301825]\n",
            "==================================================\n",
            "\n"
          ]
        }
      ]
    },
    {
      "cell_type": "markdown",
      "source": [
        "**Building a function to convert words into vector**"
      ],
      "metadata": {
        "id": "6h9DA2W80CWC"
      }
    },
    {
      "cell_type": "code",
      "source": [
        "#pre- processing custom tweets ()\n",
        "def preprocess_tweets(tweet):\n",
        "    #fo = open('/content/stopwords.txt', \"r+\")\n",
        "    #stop_words = list(fo.read().split(','))\n",
        "    #translation={39:None}\n",
        "    processed_tweet = tweet\n",
        "    processed_tweet=re.sub('\\d+', '',tweet)\n",
        "    processed_tweet=' '.join(re.sub(\"(@[A-Za-z0-9]+)|([^0-9A-Za-z \\t])|(\\w+:\\/\\/\\S+)\",\" \",processed_tweet).split())\n",
        "    processed_tweet = \" \".join(word for word in processed_tweet.split() if word not in str(STOPWORDS))\n",
        "    \n",
        "    return(processed_tweet)"
      ],
      "metadata": {
        "id": "9LRmbs9wzAZ4"
      },
      "execution_count": 76,
      "outputs": []
    },
    {
      "cell_type": "code",
      "source": [
        "def tweet_to_vector(text):\n",
        "  print('Original tweet:-',text)\n",
        "  text=preprocess_tweets(text)\n",
        "  print('Processed tweet:- '+text)\n",
        "  text=text.split(' ')\n",
        "  tokenizer = Tokenizer(lower=False)\n",
        "  tokenizer.fit_on_texts(text)\n",
        "  text_vec = tokenizer.texts_to_sequences(text)\n",
        "  word_index = tokenizer.word_index\n",
        "  print(word_index)\n",
        "  print('==================================================')\n",
        "  embeddings_index = {}\n",
        "  f = open('/content/glove.6B.100d.txt')\n",
        "  for line in f:\n",
        "    values = line.split()\n",
        "    word = values[0]\n",
        "    coefs = np.asarray(values[1:], dtype='float32')\n",
        "    if word in word_index.keys():  \n",
        "      embeddings_index[word] = coefs\n",
        "  for notw in word_index.keys():\n",
        "    if notw not in embeddings_index.keys():\n",
        "      embeddings_index[notw] = 'unknown'\n",
        "  f.close()\n",
        "  print('Vector for each word in processed tweet')\n",
        "  print(embeddings_index)"
      ],
      "metadata": {
        "id": "488PdUoD0GDB"
      },
      "execution_count": 77,
      "outputs": []
    },
    {
      "cell_type": "code",
      "source": [
        "custom_tweet='@meera2353 Hello this is very bad that company fired them, not a good day #job #sad #employeeprotest'\n",
        "custom_tweets= tweet_to_vector(custom_tweet)"
      ],
      "metadata": {
        "colab": {
          "base_uri": "https://localhost:8080/"
        },
        "id": "LSpbVwJC0GF9",
        "outputId": "0cbf74eb-cdb3-4ff3-eb06-f3b134252648"
      },
      "execution_count": 78,
      "outputs": [
        {
          "output_type": "stream",
          "name": "stdout",
          "text": [
            "Original tweet:- @meera2353 Hello this is very bad that company fired them, not a good day #job #sad #employeeprotest\n",
            "Processed tweet:- Hello bad company fired not good day job sad employeeprotest\n",
            "{'Hello': 1, 'bad': 2, 'company': 3, 'fired': 4, 'not': 5, 'good': 6, 'day': 7, 'job': 8, 'sad': 9, 'employeeprotest': 10}\n",
            "==================================================\n",
            "Vector for each word in processed tweet\n",
            "{'not': array([-1.9104e-01,  1.7601e-01,  3.6920e-01, -5.0323e-01, -4.7561e-01,\n",
            "        1.5798e-01, -1.1679e-01,  2.1052e-01,  3.2652e-01,  1.2194e-01,\n",
            "        9.0944e-02,  2.6089e-01,  7.6294e-01,  6.9673e-04, -5.0001e-02,\n",
            "       -4.4853e-01,  3.6239e-01,  5.6345e-01, -6.8702e-01,  3.3237e-01,\n",
            "        3.1285e-01, -1.4207e-01,  3.5327e-01, -1.6426e-01, -1.0693e-01,\n",
            "        7.7786e-02, -1.7704e-01, -9.2897e-01,  1.4680e-01, -1.3585e-01,\n",
            "        2.5682e-01,  6.6019e-01, -3.5569e-01,  2.1838e-01,  3.8173e-01,\n",
            "        5.4337e-01,  1.0197e-01,  3.5230e-01, -2.5510e-01, -1.5155e-01,\n",
            "       -6.7434e-01,  1.6903e-01,  1.6413e-01, -5.3843e-01, -1.7457e-01,\n",
            "       -2.8539e-01,  7.4044e-01, -6.7533e-01, -2.3382e-01, -1.3599e+00,\n",
            "        3.0225e-01, -1.4968e-01,  2.7043e-01,  1.1979e+00, -2.9556e-01,\n",
            "       -2.5395e+00,  1.0303e-03, -2.6272e-01,  1.8303e+00,  8.0008e-01,\n",
            "       -3.5691e-01,  5.6578e-01, -5.5040e-01,  7.0845e-02,  1.4275e+00,\n",
            "        9.0160e-02,  7.8420e-01,  7.8490e-01, -3.3538e-01, -6.5751e-01,\n",
            "       -2.0112e-01, -1.0297e+00,  6.9195e-02, -6.1272e-01,  1.1373e-01,\n",
            "       -1.9547e-01, -2.1256e-01,  4.9763e-02, -1.1619e+00, -6.4512e-02,\n",
            "        5.3146e-01, -4.7384e-01, -6.8709e-01,  1.3024e-01, -2.0899e+00,\n",
            "       -4.1346e-01,  3.0364e-01, -5.7448e-04, -1.8833e-01, -5.4779e-01,\n",
            "       -3.2058e-01, -3.6704e-01, -1.4740e-01, -1.9044e-01, -4.7712e-01,\n",
            "        4.8228e-02, -2.6215e-01, -5.9680e-01,  8.0843e-02,  2.7866e-01],\n",
            "      dtype=float32), 'day': array([-3.6689e-01,  4.1540e-01,  1.3478e-01, -1.7841e-01, -4.0050e-01,\n",
            "        2.0647e-01,  4.2742e-01,  1.1290e+00, -8.3981e-01, -4.7955e-01,\n",
            "        2.1115e-02, -1.8319e-01,  2.4588e-01, -2.9048e-02,  2.9683e-01,\n",
            "       -4.4613e-01,  1.7493e-01, -1.6619e-01, -4.9573e-01, -2.6547e-02,\n",
            "        7.6369e-01, -2.0810e-01,  2.6494e-01,  3.3085e-01,  5.7039e-01,\n",
            "        1.2832e-01, -2.8324e-01,  7.8652e-02,  3.8330e-01, -7.4012e-02,\n",
            "       -5.6725e-01, -2.5826e-01,  1.4013e-01,  1.1077e-01, -2.1629e-01,\n",
            "        4.0637e-01, -4.5740e-01,  2.7936e-01,  1.6717e-01, -1.6388e-01,\n",
            "       -6.9184e-01, -3.1493e-01,  6.5592e-01, -2.2426e-03, -1.6975e-02,\n",
            "        1.0777e-01, -1.8928e-01, -7.7079e-01,  2.4333e-01, -1.1467e+00,\n",
            "        1.2931e-01, -5.9668e-01,  5.2350e-01,  1.0476e+00, -8.3517e-01,\n",
            "       -2.6268e+00, -3.2837e-01,  2.4767e-01,  2.1535e+00,  6.0561e-01,\n",
            "       -5.4019e-01,  9.9737e-01, -1.8484e-01, -4.7044e-01, -1.9265e-02,\n",
            "        3.4195e-01,  3.1006e-01, -3.1499e-01,  2.9990e-01, -3.7647e-01,\n",
            "       -1.0041e-01, -4.8373e-01, -3.8982e-01, -3.4424e-01, -1.2195e-01,\n",
            "        5.8945e-01, -1.5675e-01, -3.3774e-01, -1.0446e+00, -3.7927e-02,\n",
            "        3.8237e-01, -6.3733e-02, -1.2990e-01,  1.2899e-01, -1.4625e+00,\n",
            "       -2.2875e-01, -3.6410e-01, -1.0337e-01,  2.3737e-01, -2.3498e-01,\n",
            "        1.5801e-01,  3.8339e-02,  1.3424e-02,  3.2535e-01, -1.1755e+00,\n",
            "        4.9695e-02,  5.7227e-01,  2.4380e-02,  2.2106e-01,  4.3169e-01],\n",
            "      dtype=float32), 'company': array([ 6.0631e-01, -3.7365e-01, -3.1874e-01,  3.0332e-02,  1.8667e-01,\n",
            "       -1.1275e+00,  1.8433e-01,  1.6875e-01, -2.0626e-01,  8.7478e-03,\n",
            "        8.6313e-01, -2.5189e-01,  4.0721e-01, -5.1964e-01, -7.9094e-01,\n",
            "       -7.2724e-01,  1.0097e+00, -1.1107e-01,  4.2026e-01,  1.6993e-01,\n",
            "        7.6219e-02, -1.1326e-01,  2.3855e-01,  4.1726e-01, -5.7761e-01,\n",
            "       -1.4314e-01, -1.9051e-01,  3.3742e-01, -4.9969e-01, -2.8331e-01,\n",
            "        2.5436e-01,  1.5028e+00, -5.0439e-01, -6.8896e-01, -4.2216e-01,\n",
            "        4.6763e-01,  3.4395e-01,  3.6374e-04,  2.6785e-01, -7.1838e-01,\n",
            "        7.3955e-01, -1.1610e-01, -4.8352e-01, -2.1261e-01, -1.1326e-01,\n",
            "        5.9394e-01, -2.6361e-01, -2.5681e-01,  2.8549e-01, -8.5409e-01,\n",
            "       -2.4955e-01,  8.7372e-02,  3.3930e-01,  8.6974e-01, -3.7837e-01,\n",
            "       -2.4103e+00, -6.7233e-01, -3.9496e-01,  2.2253e+00,  4.4400e-01,\n",
            "        7.3806e-01, -2.3085e-01,  1.4253e-03,  6.3356e-01,  2.0740e-01,\n",
            "       -3.5100e-01,  6.6789e-01,  7.4544e-01,  4.2554e-01,  4.0073e-01,\n",
            "       -1.4964e-01,  3.7755e-01, -6.6066e-01, -4.7359e-01,  3.9401e-01,\n",
            "       -3.4221e-01,  4.8540e-01, -3.4195e-01, -1.7212e+00,  4.1925e-01,\n",
            "        7.5561e-01, -2.9337e-01, -3.5955e-01,  1.0590e+00, -1.3379e+00,\n",
            "       -8.5894e-01,  7.4892e-02, -5.9180e-01, -1.5280e-01, -4.4238e-01,\n",
            "        9.6469e-02, -5.3800e-01, -4.9649e-02, -4.7351e-01, -2.7107e-01,\n",
            "        6.2337e-01, -1.1412e-01, -3.5592e-01,  1.0019e+00,  1.4789e-01],\n",
            "      dtype=float32), 'good': array([-0.030769 ,  0.11993  ,  0.53909  , -0.43696  , -0.73937  ,\n",
            "       -0.15345  ,  0.081126 , -0.38559  , -0.68797  , -0.41632  ,\n",
            "       -0.13183  , -0.24922  ,  0.441    ,  0.085919 ,  0.20871  ,\n",
            "       -0.063582 ,  0.062228 , -0.051234 , -0.13398  ,  1.1418   ,\n",
            "        0.036526 ,  0.49029  , -0.24567  , -0.412    ,  0.12349  ,\n",
            "        0.41336  , -0.48397  , -0.54243  , -0.27787  , -0.26015  ,\n",
            "       -0.38485  ,  0.78656  ,  0.1023   , -0.20712  ,  0.40751  ,\n",
            "        0.32026  , -0.51052  ,  0.48362  , -0.0099498, -0.38685  ,\n",
            "        0.034975 , -0.167    ,  0.4237   , -0.54164  , -0.30323  ,\n",
            "       -0.36983  ,  0.082836 , -0.52538  , -0.064531 , -1.398    ,\n",
            "       -0.14873  , -0.35327  , -0.1118   ,  1.0912   ,  0.095864 ,\n",
            "       -2.8129   ,  0.45238  ,  0.46213  ,  1.6012   , -0.20837  ,\n",
            "       -0.27377  ,  0.71197  , -1.0754   , -0.046974 ,  0.67479  ,\n",
            "       -0.065839 ,  0.75824  ,  0.39405  ,  0.15507  , -0.64719  ,\n",
            "        0.32796  , -0.031748 ,  0.52899  , -0.43886  ,  0.67405  ,\n",
            "        0.42136  , -0.11981  , -0.21777  , -0.29756  , -0.1351   ,\n",
            "        0.59898  ,  0.46529  , -0.58258  , -0.02323  , -1.5442   ,\n",
            "        0.01901  , -0.015877 ,  0.024499 , -0.58017  , -0.67659  ,\n",
            "       -0.040379 , -0.44043  ,  0.083292 ,  0.20035  , -0.75499  ,\n",
            "        0.16918  , -0.26573  , -0.52878  ,  0.17584  ,  1.065    ],\n",
            "      dtype=float32), 'job': array([ 2.2115e-01,  2.7844e-02, -5.3894e-02, -4.7618e-01, -3.6360e-01,\n",
            "       -5.1352e-01, -2.6740e-01,  1.7786e-01,  8.0002e-02,  3.2405e-01,\n",
            "        5.4443e-02, -4.4604e-01,  2.9408e-01, -1.3636e-01, -5.8729e-02,\n",
            "       -5.1118e-01,  2.2774e-01,  1.6583e-01,  1.7965e-01,  8.3305e-01,\n",
            "       -4.0784e-01,  4.3205e-01, -5.9220e-01, -3.3962e-01,  7.4495e-02,\n",
            "       -7.8615e-01, -3.4714e-01, -7.3778e-01, -2.0165e-01, -3.7517e-01,\n",
            "       -5.1120e-01,  4.3905e-01,  1.5289e-01, -5.3582e-01, -6.3758e-01,\n",
            "        4.3056e-01, -1.0624e+00,  3.4708e-02,  2.9883e-01, -3.4365e-01,\n",
            "       -3.6841e-01, -1.8023e-01,  3.7373e-01, -2.3811e-02, -3.5930e-01,\n",
            "        6.7622e-01, -1.4587e-01, -7.4340e-01,  2.0008e-03, -1.2319e+00,\n",
            "        2.2214e-01, -8.4533e-01, -5.5439e-01,  1.6319e+00,  2.2335e-01,\n",
            "       -2.2183e+00,  4.7548e-01, -3.9548e-01,  1.4745e+00,  1.1082e-01,\n",
            "       -1.4890e-01,  6.0955e-02, -3.3584e-01, -2.7165e-01,  7.5480e-01,\n",
            "       -1.1876e-01,  8.1228e-01,  6.2684e-02,  2.5561e-01,  2.7192e-01,\n",
            "        1.8614e-01,  3.9781e-02, -6.3905e-01, -4.7369e-01,  4.9374e-01,\n",
            "        2.6515e-01, -5.1318e-01,  2.8599e-01, -2.9260e-01, -8.2741e-02,\n",
            "        5.2519e-01, -1.2291e-01, -4.6558e-01, -4.3100e-01, -1.5716e+00,\n",
            "       -6.5427e-01,  4.7403e-01, -5.1794e-02, -5.5861e-01, -9.9539e-01,\n",
            "        2.4111e-01, -3.4781e-02,  6.2401e-01,  3.4960e-01, -1.6383e-01,\n",
            "        3.2218e-01,  2.2630e-01,  5.2428e-01,  6.7877e-01,  3.5839e-01],\n",
            "      dtype=float32), 'bad': array([ 0.39456  , -0.24717  ,  1.0319   , -0.61444  , -1.2376   ,\n",
            "        0.051794 , -0.55112  , -0.31014  , -0.025735 , -0.24709  ,\n",
            "        0.25836  ,  0.34899  ,  0.46176  ,  0.44237  ,  0.354    ,\n",
            "        0.21262  , -0.26312  , -0.17128  ,  0.44013  ,  1.1284   ,\n",
            "        0.37259  ,  0.41969  , -0.2534   , -0.051885 , -0.34917  ,\n",
            "        0.15298  , -0.68444  , -0.19514  , -0.018647 ,  0.084191 ,\n",
            "        0.14569  ,  0.3869   ,  0.023524 , -0.37861  , -0.65081  ,\n",
            "        0.010398 , -0.50087  , -0.087368 ,  0.098617 , -0.21907  ,\n",
            "       -0.072412 , -0.10247  , -0.3148   , -0.307    , -0.30457  ,\n",
            "       -0.14329  ,  0.10313  , -0.040487 , -0.095922 , -1.192    ,\n",
            "       -0.063356 ,  0.034127 , -0.057674 ,  0.56582  ,  0.082541 ,\n",
            "       -2.4617   ,  0.48029  ,  0.72806  ,  1.2841   ,  0.10672  ,\n",
            "       -0.045119 ,  1.0117   , -0.97928  ,  0.022828 ,  0.46876  ,\n",
            "       -0.026875 ,  0.80018  , -0.23101  ,  0.086699 , -0.74338  ,\n",
            "       -0.38738  , -0.1924   , -0.13292  ,  0.52347  ,  0.35659  ,\n",
            "        0.21065  , -0.18669  ,  0.41563  , -0.50874  ,  0.47643  ,\n",
            "        0.78591  ,  0.28015  , -0.74565  , -0.015569 , -1.8451   ,\n",
            "       -0.28427  , -0.81722  , -0.43254  , -0.60031  , -0.40052  ,\n",
            "       -0.26612  , -0.05855  , -0.2051   ,  0.16208  , -0.25305  ,\n",
            "        0.48163  , -0.15905  ,  0.0064973,  0.13793  , -0.06832  ],\n",
            "      dtype=float32), 'fired': array([-0.30817 , -0.73765 , -0.37882 , -0.35636 , -0.28578 ,  0.62124 ,\n",
            "        1.3145  ,  0.40499 , -0.3379  ,  1.1355  ,  0.14465 , -0.17225 ,\n",
            "        0.41831 ,  0.30683 ,  0.25821 , -0.83218 , -0.52295 ,  0.15538 ,\n",
            "       -1.1582  , -0.006743,  1.1382  , -0.17625 , -0.34953 ,  0.32289 ,\n",
            "        0.27812 , -0.15747 , -0.83381 ,  0.23711 ,  0.2958  ,  0.2126  ,\n",
            "        0.40923 ,  0.91032 , -0.54759 ,  0.20211 ,  0.2496  , -0.74741 ,\n",
            "       -0.33549 , -0.47785 ,  0.42958 ,  0.28412 , -0.67054 , -0.19439 ,\n",
            "        0.36861 ,  0.54716 ,  0.93716 ,  0.33214 , -0.42065 ,  0.1248  ,\n",
            "       -0.34651 , -0.67674 ,  0.20592 , -0.18217 , -0.35313 ,  1.1556  ,\n",
            "       -0.016021, -1.4656  , -0.40158 ,  0.20669 ,  1.0412  ,  0.72059 ,\n",
            "        0.57692 ,  0.57846 , -0.17632 ,  1.1899  , -0.11749 , -0.35904 ,\n",
            "        1.0369  ,  0.11675 , -1.0317  ,  0.74834 ,  0.02785 , -0.29344 ,\n",
            "        0.29458 , -0.68722 , -0.40337 , -0.16607 ,  0.19871 ,  0.41764 ,\n",
            "       -1.047   ,  0.71917 ,  1.5858  , -0.26165 , -0.79512 , -0.55723 ,\n",
            "       -0.16328 , -0.43134 ,  0.4477  ,  0.63432 , -0.062842, -0.24447 ,\n",
            "        0.18471 , -0.17542 , -0.39603 ,  0.2981  , -0.56727 ,  0.32023 ,\n",
            "       -0.54778 ,  0.87744 ,  0.33683 ,  0.057739], dtype=float32), 'sad': array([-0.19532  ,  0.20232  ,  0.61203  , -0.28992  , -0.86588  ,\n",
            "        0.7558   , -0.64644  ,  0.81501  ,  0.84841  , -0.44887  ,\n",
            "        0.11233  , -0.15414  ,  0.0037169, -0.33247  , -0.2841   ,\n",
            "        0.41221  ,  0.029481 , -0.37827  ,  0.4824   ,  1.2798   ,\n",
            "        0.68064  ,  0.72289  , -0.48955  ,  0.2333   ,  0.099052 ,\n",
            "        0.20363  ,  0.089845 ,  0.64516  ,  0.74412  ,  0.28051  ,\n",
            "       -0.15278  , -0.20226  ,  0.43044  , -0.69753  , -0.82179  ,\n",
            "       -0.37686  ,  0.24957  ,  0.65398  ,  0.61427  , -0.78519  ,\n",
            "        0.24869  ,  0.18725  ,  0.42488  , -0.7323   , -0.21912  ,\n",
            "        0.24199  ,  1.1491   ,  0.72102  ,  0.0076716, -0.70094  ,\n",
            "        0.43828  , -0.71392  ,  0.54495  ,  0.43827  , -0.38535  ,\n",
            "       -1.3452   ,  0.50617  ,  0.64701  ,  0.46118  ,  0.09306  ,\n",
            "        0.14875  ,  1.0391   , -1.1242   , -1.0595   ,  0.6136   ,\n",
            "       -0.55698  ,  0.84552  ,  0.34413  , -0.67045  , -0.33305  ,\n",
            "        0.34069  , -0.40519  ,  0.1561   , -0.1154   ,  0.76092  ,\n",
            "        0.58474  ,  0.46913  ,  0.11088  ,  0.018671 , -0.18142  ,\n",
            "       -0.34331  ,  0.32092  ,  0.094817 ,  0.26299  , -1.7466   ,\n",
            "       -0.080278 , -0.70726  , -0.38399  , -0.24015  , -0.16845  ,\n",
            "        0.74608  ,  0.4715   , -0.51143  ,  0.57181  , -0.44642  ,\n",
            "        0.33972  , -0.224    , -0.14648  , -0.76086  ,  0.59095  ],\n",
            "      dtype=float32), 'Hello': 'unknown', 'employeeprotest': 'unknown'}\n"
          ]
        }
      ]
    },
    {
      "cell_type": "code",
      "source": [],
      "metadata": {
        "id": "6FZMQjoP2MxY"
      },
      "execution_count": 78,
      "outputs": []
    }
  ]
}