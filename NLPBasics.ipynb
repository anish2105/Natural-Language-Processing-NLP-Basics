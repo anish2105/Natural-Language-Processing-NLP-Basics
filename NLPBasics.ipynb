{
  "nbformat": 4,
  "nbformat_minor": 0,
  "metadata": {
    "colab": {
      "provenance": [],
      "authorship_tag": "ABX9TyNYHVV4FDR0UiewhEOE4n1b",
      "include_colab_link": true
    },
    "kernelspec": {
      "name": "python3",
      "display_name": "Python 3"
    },
    "language_info": {
      "name": "python"
    }
  },
  "cells": [
    {
      "cell_type": "markdown",
      "metadata": {
        "id": "view-in-github",
        "colab_type": "text"
      },
      "source": [
        "<a href=\"https://colab.research.google.com/github/anish2105/Natural-Language-Processing-NLP-Basics/blob/main/NLPBasics.ipynb\" target=\"_parent\"><img src=\"https://colab.research.google.com/assets/colab-badge.svg\" alt=\"Open In Colab\"/></a>"
      ]
    },
    {
      "cell_type": "markdown",
      "source": [
        "**Tokenization**"
      ],
      "metadata": {
        "id": "mAnlYCES94gj"
      }
    },
    {
      "cell_type": "code",
      "source": [
        "text = \"\"\"Here’s to the crazy ones, the misfits, the rebels, the troublemakers, \n",
        "the round pegs in the square holes. The ones who see things differently — they’re not fond of \n",
        "rules. You can quote them, disagree with them, glorify\n",
        "or vilify them, but the only thing you can’t do is ignore them because they\n",
        "change things. They push the human race forward, and while some may see them\n",
        "as the crazy ones, we see genius, because the ones who are crazy enough to think\n",
        "that they can change the world, are the ones who do.\"\"\""
      ],
      "metadata": {
        "id": "Lc466eKI98fM"
      },
      "execution_count": null,
      "outputs": []
    },
    {
      "cell_type": "markdown",
      "source": [
        "1. Simple tokenization with .split"
      ],
      "metadata": {
        "id": "Fi_lFfaf-Dip"
      }
    },
    {
      "cell_type": "code",
      "source": [
        "text.split()"
      ],
      "metadata": {
        "colab": {
          "base_uri": "https://localhost:8080/"
        },
        "id": "ElELaa2t-CZ3",
        "outputId": "3163b97a-08b5-4f36-8eeb-892dc1a8a2f6"
      },
      "execution_count": null,
      "outputs": [
        {
          "output_type": "execute_result",
          "data": {
            "text/plain": [
              "['Here’s',\n",
              " 'to',\n",
              " 'the',\n",
              " 'crazy',\n",
              " 'ones,',\n",
              " 'the',\n",
              " 'misfits,',\n",
              " 'the',\n",
              " 'rebels,',\n",
              " 'the',\n",
              " 'troublemakers,',\n",
              " 'the',\n",
              " 'round',\n",
              " 'pegs',\n",
              " 'in',\n",
              " 'the',\n",
              " 'square',\n",
              " 'holes.',\n",
              " 'The',\n",
              " 'ones',\n",
              " 'who',\n",
              " 'see',\n",
              " 'things',\n",
              " 'differently',\n",
              " '—',\n",
              " 'they’re',\n",
              " 'not',\n",
              " 'fond',\n",
              " 'of',\n",
              " 'rules.',\n",
              " 'You',\n",
              " 'can',\n",
              " 'quote',\n",
              " 'them,',\n",
              " 'disagree',\n",
              " 'with',\n",
              " 'them,',\n",
              " 'glorify',\n",
              " 'or',\n",
              " 'vilify',\n",
              " 'them,',\n",
              " 'but',\n",
              " 'the',\n",
              " 'only',\n",
              " 'thing',\n",
              " 'you',\n",
              " 'can’t',\n",
              " 'do',\n",
              " 'is',\n",
              " 'ignore',\n",
              " 'them',\n",
              " 'because',\n",
              " 'they',\n",
              " 'change',\n",
              " 'things.',\n",
              " 'They',\n",
              " 'push',\n",
              " 'the',\n",
              " 'human',\n",
              " 'race',\n",
              " 'forward,',\n",
              " 'and',\n",
              " 'while',\n",
              " 'some',\n",
              " 'may',\n",
              " 'see',\n",
              " 'them',\n",
              " 'as',\n",
              " 'the',\n",
              " 'crazy',\n",
              " 'ones,',\n",
              " 'we',\n",
              " 'see',\n",
              " 'genius,',\n",
              " 'because',\n",
              " 'the',\n",
              " 'ones',\n",
              " 'who',\n",
              " 'are',\n",
              " 'crazy',\n",
              " 'enough',\n",
              " 'to',\n",
              " 'think',\n",
              " 'that',\n",
              " 'they',\n",
              " 'can',\n",
              " 'change',\n",
              " 'the',\n",
              " 'world,',\n",
              " 'are',\n",
              " 'the',\n",
              " 'ones',\n",
              " 'who',\n",
              " 'do.']"
            ]
          },
          "metadata": {},
          "execution_count": 2
        }
      ]
    },
    {
      "cell_type": "markdown",
      "source": [
        "2. Tokenization with NLTK"
      ],
      "metadata": {
        "id": "h7E9SFyr-PxB"
      }
    },
    {
      "cell_type": "code",
      "source": [
        "!pip install nltk"
      ],
      "metadata": {
        "colab": {
          "base_uri": "https://localhost:8080/"
        },
        "id": "7WdAwB_B-KDW",
        "outputId": "914720fc-da77-4bbb-bf6f-f2ecd7871d8d"
      },
      "execution_count": null,
      "outputs": [
        {
          "output_type": "stream",
          "name": "stdout",
          "text": [
            "Looking in indexes: https://pypi.org/simple, https://us-python.pkg.dev/colab-wheels/public/simple/\n",
            "Requirement already satisfied: nltk in /usr/local/lib/python3.8/dist-packages (3.7)\n",
            "Requirement already satisfied: tqdm in /usr/local/lib/python3.8/dist-packages (from nltk) (4.64.1)\n",
            "Requirement already satisfied: joblib in /usr/local/lib/python3.8/dist-packages (from nltk) (1.2.0)\n",
            "Requirement already satisfied: click in /usr/local/lib/python3.8/dist-packages (from nltk) (7.1.2)\n",
            "Requirement already satisfied: regex>=2021.8.3 in /usr/local/lib/python3.8/dist-packages (from nltk) (2022.6.2)\n"
          ]
        }
      ]
    },
    {
      "cell_type": "code",
      "source": [
        "import nltk\n",
        "nltk.download('punkt')\n",
        "from nltk.tokenize import word_tokenize"
      ],
      "metadata": {
        "colab": {
          "base_uri": "https://localhost:8080/"
        },
        "id": "2HvE75sB-14-",
        "outputId": "0000e5ae-f56d-4074-98fa-43dbc3e5a8c2"
      },
      "execution_count": null,
      "outputs": [
        {
          "output_type": "stream",
          "name": "stderr",
          "text": [
            "[nltk_data] Downloading package punkt to /root/nltk_data...\n",
            "[nltk_data]   Unzipping tokenizers/punkt.zip.\n"
          ]
        }
      ]
    },
    {
      "cell_type": "code",
      "source": [
        "word_tokenize(text)"
      ],
      "metadata": {
        "colab": {
          "base_uri": "https://localhost:8080/"
        },
        "id": "LrnDXyCz_DQN",
        "outputId": "36ffa1fd-67ff-43cd-d790-cc5532ec3016"
      },
      "execution_count": null,
      "outputs": [
        {
          "output_type": "execute_result",
          "data": {
            "text/plain": [
              "['Here',\n",
              " '’',\n",
              " 's',\n",
              " 'to',\n",
              " 'the',\n",
              " 'crazy',\n",
              " 'ones',\n",
              " ',',\n",
              " 'the',\n",
              " 'misfits',\n",
              " ',',\n",
              " 'the',\n",
              " 'rebels',\n",
              " ',',\n",
              " 'the',\n",
              " 'troublemakers',\n",
              " ',',\n",
              " 'the',\n",
              " 'round',\n",
              " 'pegs',\n",
              " 'in',\n",
              " 'the',\n",
              " 'square',\n",
              " 'holes',\n",
              " '.',\n",
              " 'The',\n",
              " 'ones',\n",
              " 'who',\n",
              " 'see',\n",
              " 'things',\n",
              " 'differently',\n",
              " '—',\n",
              " 'they',\n",
              " '’',\n",
              " 're',\n",
              " 'not',\n",
              " 'fond',\n",
              " 'of',\n",
              " 'rules',\n",
              " '.',\n",
              " 'You',\n",
              " 'can',\n",
              " 'quote',\n",
              " 'them',\n",
              " ',',\n",
              " 'disagree',\n",
              " 'with',\n",
              " 'them',\n",
              " ',',\n",
              " 'glorify',\n",
              " 'or',\n",
              " 'vilify',\n",
              " 'them',\n",
              " ',',\n",
              " 'but',\n",
              " 'the',\n",
              " 'only',\n",
              " 'thing',\n",
              " 'you',\n",
              " 'can',\n",
              " '’',\n",
              " 't',\n",
              " 'do',\n",
              " 'is',\n",
              " 'ignore',\n",
              " 'them',\n",
              " 'because',\n",
              " 'they',\n",
              " 'change',\n",
              " 'things',\n",
              " '.',\n",
              " 'They',\n",
              " 'push',\n",
              " 'the',\n",
              " 'human',\n",
              " 'race',\n",
              " 'forward',\n",
              " ',',\n",
              " 'and',\n",
              " 'while',\n",
              " 'some',\n",
              " 'may',\n",
              " 'see',\n",
              " 'them',\n",
              " 'as',\n",
              " 'the',\n",
              " 'crazy',\n",
              " 'ones',\n",
              " ',',\n",
              " 'we',\n",
              " 'see',\n",
              " 'genius',\n",
              " ',',\n",
              " 'because',\n",
              " 'the',\n",
              " 'ones',\n",
              " 'who',\n",
              " 'are',\n",
              " 'crazy',\n",
              " 'enough',\n",
              " 'to',\n",
              " 'think',\n",
              " 'that',\n",
              " 'they',\n",
              " 'can',\n",
              " 'change',\n",
              " 'the',\n",
              " 'world',\n",
              " ',',\n",
              " 'are',\n",
              " 'the',\n",
              " 'ones',\n",
              " 'who',\n",
              " 'do',\n",
              " '.']"
            ]
          },
          "metadata": {},
          "execution_count": 5
        }
      ]
    },
    {
      "cell_type": "code",
      "source": [
        "from nltk.tokenize import word_tokenize , sent_tokenize\n",
        "sent_tokenize(text)"
      ],
      "metadata": {
        "colab": {
          "base_uri": "https://localhost:8080/"
        },
        "id": "7rQsN4wJ_YpP",
        "outputId": "c5382fbd-99b8-4973-cb4e-ccbd5b3023cd"
      },
      "execution_count": null,
      "outputs": [
        {
          "output_type": "execute_result",
          "data": {
            "text/plain": [
              "['Here’s to the crazy ones, the misfits, the rebels, the troublemakers, \\nthe round pegs in the square holes.',\n",
              " 'The ones who see things differently — they’re not fond of \\nrules.',\n",
              " 'You can quote them, disagree with them, glorify\\nor vilify them, but the only thing you can’t do is ignore them because they\\nchange things.',\n",
              " 'They push the human race forward, and while some may see them\\nas the crazy ones, we see genius, because the ones who are crazy enough to think\\nthat they can change the world, are the ones who do.']"
            ]
          },
          "metadata": {},
          "execution_count": 6
        }
      ]
    },
    {
      "cell_type": "markdown",
      "source": [
        "3. Tokenization with SpaCy "
      ],
      "metadata": {
        "id": "LcWh4Nij_J5o"
      }
    },
    {
      "cell_type": "code",
      "source": [
        "from spacy.lang.es import Spanish\n",
        "spac = Spanish()\n",
        "\n",
        "text_spanish = \"\"\"Por los locos. Los marginados. Los rebeldes. Los problematicos. \n",
        "Los inadaptados. Los que ven las cosas de una manera distinta. A los que no les gustan\n",
        "las reglas. Y a los que no respetan el “status quo”. Puedes citarlos, discrepar de ellos,\n",
        "ensalzarlos o vilipendiarlos. Pero lo que no puedes hacer es ignorarlos… Porque ellos\n",
        "cambian las cosas, empujan hacia adelante la raza humana y, aunque algunos puedan\n",
        "considerarlos locos, nosotros vemos en ellos a genios. Porque las personas que están\n",
        "lo bastante locas como para creer que pueden cambiar el mundo, son las que lo logran.\"\"\"\n",
        "\n",
        "doc = spac(text_spanish)\n",
        "\n",
        "tokens = [token.text for token in doc]\n",
        "print(tokens)"
      ],
      "metadata": {
        "colab": {
          "base_uri": "https://localhost:8080/"
        },
        "id": "jJ2CVVJ4_Fvd",
        "outputId": "407b9633-baf1-4c8b-c3f9-ecd439165a76"
      },
      "execution_count": null,
      "outputs": [
        {
          "output_type": "stream",
          "name": "stderr",
          "text": [
            "/usr/local/lib/python3.8/dist-packages/torch/cuda/__init__.py:497: UserWarning: Can't initialize NVML\n",
            "  warnings.warn(\"Can't initialize NVML\")\n"
          ]
        },
        {
          "output_type": "stream",
          "name": "stdout",
          "text": [
            "['Por', 'los', 'locos', '.', 'Los', 'marginados', '.', 'Los', 'rebeldes', '.', 'Los', 'problematicos', '.', '\\n', 'Los', 'inadaptados', '.', 'Los', 'que', 'ven', 'las', 'cosas', 'de', 'una', 'manera', 'distinta', '.', 'A', 'los', 'que', 'no', 'les', 'gustan', '\\n', 'las', 'reglas', '.', 'Y', 'a', 'los', 'que', 'no', 'respetan', 'el', '“', 'status', 'quo', '”', '.', 'Puedes', 'citarlos', ',', 'discrepar', 'de', 'ellos', ',', '\\n', 'ensalzarlos', 'o', 'vilipendiarlos', '.', 'Pero', 'lo', 'que', 'no', 'puedes', 'hacer', 'es', 'ignorarlos', '…', 'Porque', 'ellos', '\\n', 'cambian', 'las', 'cosas', ',', 'empujan', 'hacia', 'adelante', 'la', 'raza', 'humana', 'y', ',', 'aunque', 'algunos', 'puedan', '\\n', 'considerarlos', 'locos', ',', 'nosotros', 'vemos', 'en', 'ellos', 'a', 'genios', '.', 'Porque', 'las', 'personas', 'que', 'están', '\\n', 'lo', 'bastante', 'locas', 'como', 'para', 'creer', 'que', 'pueden', 'cambiar', 'el', 'mundo', ',', 'son', 'las', 'que', 'lo', 'logran', '.']\n"
          ]
        }
      ]
    },
    {
      "cell_type": "markdown",
      "source": [
        "4. Tokenization with Gensim"
      ],
      "metadata": {
        "id": "6msFcqFY_4NX"
      }
    },
    {
      "cell_type": "code",
      "source": [
        "from gensim.utils import tokenize\n",
        "\n",
        "print(list(tokenize(text)))"
      ],
      "metadata": {
        "colab": {
          "base_uri": "https://localhost:8080/"
        },
        "id": "L_gMWuep_zUN",
        "outputId": "aa576357-8a87-4226-b84e-32e7be7c7b46"
      },
      "execution_count": null,
      "outputs": [
        {
          "output_type": "stream",
          "name": "stdout",
          "text": [
            "['Here', 's', 'to', 'the', 'crazy', 'ones', 'the', 'misfits', 'the', 'rebels', 'the', 'troublemakers', 'the', 'round', 'pegs', 'in', 'the', 'square', 'holes', 'The', 'ones', 'who', 'see', 'things', 'differently', 'they', 're', 'not', 'fond', 'of', 'rules', 'You', 'can', 'quote', 'them', 'disagree', 'with', 'them', 'glorify', 'or', 'vilify', 'them', 'but', 'the', 'only', 'thing', 'you', 'can', 't', 'do', 'is', 'ignore', 'them', 'because', 'they', 'change', 'things', 'They', 'push', 'the', 'human', 'race', 'forward', 'and', 'while', 'some', 'may', 'see', 'them', 'as', 'the', 'crazy', 'ones', 'we', 'see', 'genius', 'because', 'the', 'ones', 'who', 'are', 'crazy', 'enough', 'to', 'think', 'that', 'they', 'can', 'change', 'the', 'world', 'are', 'the', 'ones', 'who', 'do']\n"
          ]
        }
      ]
    },
    {
      "cell_type": "markdown",
      "source": [
        "**Stop Words**"
      ],
      "metadata": {
        "id": "kWDuaKVeZYZz"
      }
    },
    {
      "cell_type": "markdown",
      "source": [
        "Removing stop words with NLTK (Natural Language ToolKit)"
      ],
      "metadata": {
        "id": "swMSnrSEZoWw"
      }
    },
    {
      "cell_type": "code",
      "source": [
        "import nltk\n",
        "nltk.download('stopwords')\n",
        "from nltk.corpus import stopwords"
      ],
      "metadata": {
        "id": "PhXMO2n5AHHc",
        "colab": {
          "base_uri": "https://localhost:8080/"
        },
        "outputId": "58842f47-39f9-4746-9c30-226ff9fe006b"
      },
      "execution_count": 1,
      "outputs": [
        {
          "output_type": "stream",
          "name": "stderr",
          "text": [
            "[nltk_data] Downloading package stopwords to /root/nltk_data...\n",
            "[nltk_data]   Unzipping corpora/stopwords.zip.\n"
          ]
        }
      ]
    },
    {
      "cell_type": "code",
      "source": [
        "sw_nltk = stopwords.words('english')\n",
        "print(sw_nltk)"
      ],
      "metadata": {
        "colab": {
          "base_uri": "https://localhost:8080/"
        },
        "id": "_x8cqC1KaA4e",
        "outputId": "00224594-814c-4db7-8331-8dee8c70129e"
      },
      "execution_count": 3,
      "outputs": [
        {
          "output_type": "stream",
          "name": "stdout",
          "text": [
            "['i', 'me', 'my', 'myself', 'we', 'our', 'ours', 'ourselves', 'you', \"you're\", \"you've\", \"you'll\", \"you'd\", 'your', 'yours', 'yourself', 'yourselves', 'he', 'him', 'his', 'himself', 'she', \"she's\", 'her', 'hers', 'herself', 'it', \"it's\", 'its', 'itself', 'they', 'them', 'their', 'theirs', 'themselves', 'what', 'which', 'who', 'whom', 'this', 'that', \"that'll\", 'these', 'those', 'am', 'is', 'are', 'was', 'were', 'be', 'been', 'being', 'have', 'has', 'had', 'having', 'do', 'does', 'did', 'doing', 'a', 'an', 'the', 'and', 'but', 'if', 'or', 'because', 'as', 'until', 'while', 'of', 'at', 'by', 'for', 'with', 'about', 'against', 'between', 'into', 'through', 'during', 'before', 'after', 'above', 'below', 'to', 'from', 'up', 'down', 'in', 'out', 'on', 'off', 'over', 'under', 'again', 'further', 'then', 'once', 'here', 'there', 'when', 'where', 'why', 'how', 'all', 'any', 'both', 'each', 'few', 'more', 'most', 'other', 'some', 'such', 'no', 'nor', 'not', 'only', 'own', 'same', 'so', 'than', 'too', 'very', 's', 't', 'can', 'will', 'just', 'don', \"don't\", 'should', \"should've\", 'now', 'd', 'll', 'm', 'o', 're', 've', 'y', 'ain', 'aren', \"aren't\", 'couldn', \"couldn't\", 'didn', \"didn't\", 'doesn', \"doesn't\", 'hadn', \"hadn't\", 'hasn', \"hasn't\", 'haven', \"haven't\", 'isn', \"isn't\", 'ma', 'mightn', \"mightn't\", 'mustn', \"mustn't\", 'needn', \"needn't\", 'shan', \"shan't\", 'shouldn', \"shouldn't\", 'wasn', \"wasn't\", 'weren', \"weren't\", 'won', \"won't\", 'wouldn', \"wouldn't\"]\n"
          ]
        }
      ]
    },
    {
      "cell_type": "markdown",
      "source": [
        "All Stopwords in one go :\n",
        "\n",
        "\n",
        "['i', 'me', 'my', 'myself', 'we', 'our', 'ours', 'ourselves', 'you', \"you're\", \"you've\", \"you'll\", \"you'd\", 'your', 'yours', 'yourself', 'yourselves', 'he', 'him', 'his', 'himself', 'she', \"she's\", 'her', 'hers', 'herself', 'it', \"it's\", 'its', 'itself', 'they', 'them', 'their', 'theirs', 'themselves', 'what', 'which', 'who', 'whom', 'this', 'that', \"that'll\", 'these', 'those', 'am', 'is', 'are', 'was', 'were', 'be', 'been', 'being', 'have', 'has', 'had', 'having', 'do', 'does', 'did', 'doing', 'a', 'an', 'the', 'and', 'but', 'if', 'or', 'because', 'as', 'until', 'while', 'of', 'at', 'by', 'for', 'with', 'about', 'against', 'between', 'into', 'through', 'during', 'before', 'after', 'above', 'below', 'to', 'from', 'up', 'down', 'in', 'out', 'on', 'off', 'over', 'under', 'again', 'further', 'then', 'once', 'here', 'there', 'when', 'where', 'why', 'how', 'all', 'any', 'both', 'each', 'few', 'more', 'most', 'other', 'some', 'such', 'no', 'nor', 'not', 'only', 'own', 'same', 'so', 'than', 'too', 'very', 's', 't', 'can', 'will', 'just', 'don', \"don't\", 'should', \"should've\", 'now', 'd', 'll', 'm', 'o', 're', 've', 'y', 'ain', 'aren', \"aren't\", 'couldn', \"couldn't\", 'didn', \"didn't\", 'doesn', \"doesn't\", 'hadn', \"hadn't\", 'hasn', \"hasn't\", 'haven', \"haven't\", 'isn', \"isn't\", 'ma', 'mightn', \"mightn't\", 'mustn', \"mustn't\", 'needn', \"needn't\", 'shan', \"shan't\", 'shouldn', \"shouldn't\", 'wasn', \"wasn't\", 'weren', \"weren't\", 'won', \"won't\", 'wouldn', \"wouldn't\"]"
      ],
      "metadata": {
        "id": "rRYisf7eaUzC"
      }
    },
    {
      "cell_type": "code",
      "source": [
        "print(len(sw_nltk))"
      ],
      "metadata": {
        "colab": {
          "base_uri": "https://localhost:8080/"
        },
        "id": "Wh9VBMhEaKze",
        "outputId": "403fe028-9ba1-4c9f-ca69-016cd68452ec"
      },
      "execution_count": 4,
      "outputs": [
        {
          "output_type": "stream",
          "name": "stdout",
          "text": [
            "179\n"
          ]
        }
      ]
    },
    {
      "cell_type": "code",
      "source": [
        "text = \"\"\"Here’s to the crazy ones, the misfits, the rebels, the troublemakers, \n",
        "the round pegs in the square holes.\"\"\""
      ],
      "metadata": {
        "id": "FMmPSZfGafwa"
      },
      "execution_count": 6,
      "outputs": []
    },
    {
      "cell_type": "code",
      "source": [
        "words = [ word for word in text.split() if word.lower() not in sw_nltk]\n",
        "new_text = \" \".join(words)\n",
        "print(new_text)\n",
        "print(\"Old length: \",len(text))\n",
        "print(\"New length: \",len(new_text))"
      ],
      "metadata": {
        "colab": {
          "base_uri": "https://localhost:8080/"
        },
        "id": "yt11DKEkajOe",
        "outputId": "aa68e805-9485-4d39-aa5e-ab00db1835c7"
      },
      "execution_count": 7,
      "outputs": [
        {
          "output_type": "stream",
          "name": "stdout",
          "text": [
            "Here’s crazy ones, misfits, rebels, troublemakers, round pegs square holes.\n",
            "Old length:  106\n",
            "New length:  75\n"
          ]
        }
      ]
    },
    {
      "cell_type": "markdown",
      "source": [
        "**Removing stop words using SpaCy**"
      ],
      "metadata": {
        "id": "QGQFtZtBbH_7"
      }
    },
    {
      "cell_type": "code",
      "source": [
        "import spacy\n",
        "#loading the english language small model of spacy\n",
        "en = spacy.load('en_core_web_sm')\n",
        "sw_spacy = en.Defaults.stop_words\n",
        "print(sw_spacy)"
      ],
      "metadata": {
        "colab": {
          "base_uri": "https://localhost:8080/"
        },
        "id": "aGzf7P9NbBR2",
        "outputId": "f17954bf-c917-45b8-c888-4596677713e7"
      },
      "execution_count": 10,
      "outputs": [
        {
          "output_type": "stream",
          "name": "stdout",
          "text": [
            "{'upon', 'however', 'thence', 'other', 'get', 'those', 'becoming', 'always', 'may', '’ve', 'ten', 'be', '’d', 'for', 'of', 'another', 'ours', 'what', 'hereafter', 'or', 'somewhere', '‘d', 'hereby', 'full', 'forty', 'over', '’m', 'whence', 'whose', 'amongst', 'anyway', 'became', 'whereas', 'all', 'side', 'though', 'hence', 'seeming', \"'ve\", 'whole', \"'ll\", 'otherwise', 'top', 'same', 'each', 'except', 'how', 'any', 'where', 'must', 'elsewhere', '‘ve', 'mostly', 'by', 'hers', 'might', 'with', 'against', 'per', 'none', 'wherever', 'meanwhile', 'fifteen', 'although', 'before', 'moreover', 'he', 'many', 'across', 'still', 'empty', 'were', 'then', 'she', 'me', 'twelve', 'much', \"'d\", 'someone', 'through', 'it', 'herein', 'own', 'sometime', 'six', 'call', 'everyone', 'less', 'besides', 'sometimes', 'least', 'that', 'neither', 'eleven', \"n't\", 'first', 'somehow', 'whereafter', 'do', 'thru', 'between', 'latter', 'name', 'every', 'whereby', 'really', 'have', 'ever', 'its', 'just', 'himself', 'will', 'throughout', 'off', 'give', 'along', 'seems', 'the', 'most', 'hereupon', 'sixty', 'more', 'latterly', 'at', 'unless', '’re', 'about', 'alone', 'such', 'whether', 'beside', 'during', 'since', 'whereupon', 'within', '‘s', 'move', 'had', 'after', 'would', 'bottom', 'whenever', 'quite', 'done', 'could', 'behind', 'your', 'beyond', 'indeed', 'up', 'until', 'out', 'nothing', 'becomes', 'some', 'him', 'anyone', 'last', 'put', 'via', 'become', 'twenty', 'various', 'their', 'using', 'two', \"'m\", 'yours', 'doing', 'only', 'nowhere', 'without', 'onto', 'whom', 'yourself', 'whither', 'i', 'towards', 'everything', 'from', 'four', 'see', 'not', 'n‘t', 'ourselves', 'them', 'and', 'being', 'front', 'either', 'us', 'down', 'already', 'almost', 'yet', 'thereupon', 'go', 'mine', 'please', 'our', 'enough', 'because', 'who', 'this', 'one', 'under', 'very', 'third', 'a', '’ll', 'further', '‘ll', 'they', 'n’t', 'in', 'been', 'cannot', 'than', '’s', 'made', 'make', 'my', 'wherein', 'several', 'seemed', 'are', 'itself', 'even', 'while', 'is', 'nobody', 'to', 'noone', 'thereby', 'when', 'say', 'her', 'never', 'among', '‘m', \"'s\", 'keep', 'else', 'was', 'ca', 'into', 'beforehand', 'we', 'serious', 'others', 'formerly', 'can', 'eight', 'nevertheless', 'around', 'here', 'together', 'which', 'regarding', 'take', 'due', 'seem', 'both', 'also', 'on', 're', 'show', 'myself', 'rather', 'used', 'as', 'perhaps', 'again', 'does', 'hundred', 'amount', 'thus', 'therefore', 'has', 'yourselves', 'anything', 'part', 'everywhere', 'therein', 'thereafter', 'but', 'themselves', 'nine', 'fifty', 'namely', 'former', 'once', 'five', 'you', 'so', 'toward', 'above', 'three', 'well', 'anywhere', 'something', 'these', 'afterwards', 'next', 'his', 'few', '‘re', 'back', 'if', 'nor', 'herself', 'no', 'am', \"'re\", 'whoever', 'too', 'whatever', 'should', 'anyhow', 'now', 'an', 'below', 'did', 'there', 'often', 'why'}\n"
          ]
        }
      ]
    },
    {
      "cell_type": "code",
      "source": [
        "print(len(sw_spacy))"
      ],
      "metadata": {
        "colab": {
          "base_uri": "https://localhost:8080/"
        },
        "id": "x4_Tdi-Pbmsf",
        "outputId": "e0513707-93e3-4b7c-9a3e-42dced0b4e03"
      },
      "execution_count": 11,
      "outputs": [
        {
          "output_type": "stream",
          "name": "stdout",
          "text": [
            "326\n"
          ]
        }
      ]
    },
    {
      "cell_type": "code",
      "source": [
        "words = [word for word in text.split() if word.lower() not in sw_spacy]\n",
        "new_text = \" \".join(words)\n",
        "print(new_text)\n",
        "print(\"Old length: \", len(text))\n",
        "print(\"New length: \", len(new_text))"
      ],
      "metadata": {
        "colab": {
          "base_uri": "https://localhost:8080/"
        },
        "id": "slgEgB7vb07l",
        "outputId": "4ffc5464-396d-412b-e76c-b23395273924"
      },
      "execution_count": 12,
      "outputs": [
        {
          "output_type": "stream",
          "name": "stdout",
          "text": [
            "Here’s crazy ones, misfits, rebels, troublemakers, round pegs square holes.\n",
            "Old length:  106\n",
            "New length:  75\n"
          ]
        }
      ]
    },
    {
      "cell_type": "markdown",
      "source": [
        "Both NLTK and spaCy did same work in this case. Might not be same in other scenarios."
      ],
      "metadata": {
        "id": "uX5oy1AOb7vC"
      }
    },
    {
      "cell_type": "markdown",
      "source": [
        "**Removing Stop word using Ginism**"
      ],
      "metadata": {
        "id": "ZA3rQMGncDm4"
      }
    },
    {
      "cell_type": "code",
      "source": [
        "import gensim\n",
        "from gensim.parsing.preprocessing import remove_stopwords , STOPWORDS\n",
        "print(STOPWORDS)"
      ],
      "metadata": {
        "colab": {
          "base_uri": "https://localhost:8080/"
        },
        "id": "yqgBbyTLb5Vl",
        "outputId": "2d63e6d0-8a10-4d30-9172-a8bf842b7549"
      },
      "execution_count": 15,
      "outputs": [
        {
          "output_type": "stream",
          "name": "stdout",
          "text": [
            "frozenset({'upon', 'however', 'thence', 'other', 'get', 'those', 'becoming', 'always', 'may', 'ten', 'be', 'for', 'of', 'cry', 'ours', 'what', 'another', 'hereafter', 'or', 'somewhere', 'hereby', 'full', 'forty', 'over', 'whence', 'whose', 'amongst', 'anyway', 'couldnt', 'became', 'whereas', 'all', 'side', 'though', 'hence', 'seeming', 'whole', 'otherwise', 'top', 'same', 'each', 'except', 'how', 'any', 'where', 'must', 'elsewhere', 'mostly', 'thin', 'by', 'hers', 'might', 'with', 'against', 'per', 'none', 'wherever', 'bill', 'meanwhile', 'fifteen', 'although', 'before', 'moreover', 'he', 'many', 'across', 'still', 'empty', 'cant', 'were', 'fill', 'then', 'she', 'me', 'twelve', 'much', 'mill', 'didn', 'sincere', 'someone', 'through', 'it', 'herein', 'own', 'sometime', 'six', 'everyone', 'call', 'less', 'besides', 'sometimes', 'least', 'that', 'neither', 'con', 'eleven', 'first', 'somehow', 'whereafter', 'do', 'thick', 'thru', 'between', 'latter', 'name', 'every', 'whereby', 'really', 'have', 'ever', 'its', 'just', 'un', 'will', 'himself', 'throughout', 'off', 'give', 'along', 'seems', 'the', 'most', 'hereupon', 'sixty', 'more', 'latterly', 'at', 'unless', 'about', 'alone', 'such', 'whether', 'beside', 'during', 'since', 'whereupon', 'within', 'move', 'had', 'after', 'would', 'bottom', 'whenever', 'quite', 'done', 'could', 'behind', 'your', 'indeed', 'beyond', 'up', 'until', 'out', 'de', 'nothing', 'some', 'becomes', 'him', 'anyone', 'last', 'put', 'via', 'become', 'twenty', 'various', 'their', 'using', 'two', 'yours', 'doing', 'only', 'nowhere', 'co', 'without', 'onto', 'whom', 'yourself', 'whither', 'i', 'towards', 'everything', 'from', 'amoungst', 'eg', 'four', 'see', 'not', 'ourselves', 'them', 'being', 'front', 'and', 'either', 'us', 'down', 'already', 'computer', 'yet', 'almost', 'thereupon', 'go', 'mine', 'please', 'our', 'enough', 'km', 'because', 'who', 'this', 'one', 'under', 'very', 'found', 'inc', 'third', 'a', 'further', 'they', 'in', 'been', 'cannot', 'than', 'hasnt', 'doesn', 'made', 'make', 'my', 'system', 'wherein', 'several', 'seemed', 'fire', 'are', 'itself', 'even', 'while', 'is', 'nobody', 'to', 'noone', 'thereby', 'when', 'say', 'never', 'her', 'among', 'keep', 'else', 'was', 'into', 'we', 'beforehand', 'serious', 'others', 'formerly', 'describe', 'can', 'eight', 'nevertheless', 'around', 'here', 'together', 'which', 'regarding', 'take', 'due', 'seem', 'both', 'also', 're', 'on', 'don', 'show', 'myself', 'rather', 'used', 'as', 'etc', 'perhaps', 'again', 'does', 'hundred', 'amount', 'thus', 'therefore', 'has', 'find', 'yourselves', 'detail', 'anything', 'part', 'therein', 'everywhere', 'thereafter', 'but', 'themselves', 'nine', 'namely', 'former', 'once', 'five', 'fify', 'you', 'toward', 'so', 'above', 'ie', 'three', 'well', 'anywhere', 'something', 'interest', 'these', 'afterwards', 'kg', 'next', 'his', 'few', 'ltd', 'back', 'nor', 'if', 'herself', 'no', 'am', 'whoever', 'whatever', 'too', 'should', 'anyhow', 'now', 'an', 'below', 'did', 'there', 'often', 'why'})\n"
          ]
        }
      ]
    },
    {
      "cell_type": "markdown",
      "source": [
        "**Removing Stop words with SciKit-Learn**"
      ],
      "metadata": {
        "id": "ZHdsEXf8d-qa"
      }
    },
    {
      "cell_type": "code",
      "source": [
        "from sklearn.feature_extraction.text import ENGLISH_STOP_WORDS\n",
        "print(ENGLISH_STOP_WORDS)"
      ],
      "metadata": {
        "colab": {
          "base_uri": "https://localhost:8080/"
        },
        "id": "HVmQ6EG1cXKO",
        "outputId": "a809ff05-9171-4a2a-af60-e695d836005b"
      },
      "execution_count": 17,
      "outputs": [
        {
          "output_type": "stream",
          "name": "stdout",
          "text": [
            "frozenset({'upon', 'however', 'thence', 'other', 'get', 'those', 'becoming', 'always', 'may', 'ten', 'be', 'for', 'of', 'cry', 'another', 'ours', 'what', 'hereafter', 'or', 'somewhere', 'hereby', 'full', 'forty', 'over', 'whence', 'whose', 'amongst', 'anyway', 'couldnt', 'became', 'whereas', 'all', 'side', 'though', 'hence', 'seeming', 'whole', 'otherwise', 'top', 'same', 'each', 'except', 'how', 'any', 'where', 'must', 'elsewhere', 'mostly', 'thin', 'by', 'hers', 'might', 'with', 'against', 'per', 'none', 'wherever', 'bill', 'meanwhile', 'fifteen', 'although', 'before', 'moreover', 'he', 'many', 'across', 'still', 'empty', 'cant', 'were', 'fill', 'then', 'she', 'me', 'twelve', 'much', 'mill', 'sincere', 'someone', 'through', 'it', 'herein', 'own', 'sometime', 'six', 'call', 'everyone', 'less', 'besides', 'sometimes', 'least', 'that', 'neither', 'con', 'eleven', 'first', 'somehow', 'whereafter', 'do', 'thick', 'thru', 'between', 'latter', 'name', 'every', 'whereby', 'have', 'ever', 'its', 'himself', 'un', 'will', 'throughout', 'off', 'give', 'along', 'seems', 'the', 'most', 'hereupon', 'sixty', 'more', 'latterly', 'at', 'about', 'alone', 'such', 'whether', 'beside', 'during', 'since', 'whereupon', 'within', 'move', 'had', 'after', 'would', 'bottom', 'whenever', 'done', 'could', 'behind', 'your', 'beyond', 'indeed', 'up', 'until', 'out', 'de', 'nothing', 'becomes', 'some', 'him', 'anyone', 'last', 'put', 'via', 'become', 'twenty', 'their', 'two', 'yours', 'only', 'nowhere', 'co', 'without', 'onto', 'whom', 'yourself', 'whither', 'i', 'towards', 'everything', 'from', 'amoungst', 'eg', 'four', 'see', 'not', 'ourselves', 'them', 'and', 'being', 'front', 'either', 'us', 'down', 'already', 'almost', 'yet', 'thereupon', 'go', 'mine', 'please', 'our', 'enough', 'because', 'who', 'this', 'one', 'under', 'very', 'found', 'inc', 'third', 'a', 'further', 'they', 'in', 'been', 'cannot', 'than', 'hasnt', 'made', 'my', 'system', 'wherein', 'several', 'seemed', 'fire', 'are', 'itself', 'even', 'while', 'is', 'nobody', 'to', 'noone', 'thereby', 'when', 'her', 'never', 'among', 'keep', 'else', 'was', 'into', 'beforehand', 'we', 'serious', 'others', 'formerly', 'describe', 'can', 'eight', 'nevertheless', 'around', 'here', 'together', 'which', 'take', 'due', 'seem', 'both', 'also', 'on', 're', 'show', 'myself', 'rather', 'as', 'etc', 'perhaps', 'again', 'hundred', 'amount', 'thus', 'therefore', 'has', 'find', 'yourselves', 'detail', 'anything', 'part', 'everywhere', 'therein', 'thereafter', 'but', 'themselves', 'nine', 'fifty', 'namely', 'former', 'once', 'five', 'you', 'so', 'toward', 'above', 'ie', 'three', 'well', 'anywhere', 'something', 'interest', 'these', 'afterwards', 'next', 'his', 'few', 'ltd', 'back', 'if', 'nor', 'herself', 'no', 'am', 'whoever', 'too', 'whatever', 'should', 'anyhow', 'now', 'an', 'below', 'there', 'often', 'why'})\n"
          ]
        }
      ]
    },
    {
      "cell_type": "code",
      "source": [
        "print(len(ENGLISH_STOP_WORDS))"
      ],
      "metadata": {
        "colab": {
          "base_uri": "https://localhost:8080/"
        },
        "id": "9qJGctexeL-G",
        "outputId": "0e5687c1-0b4b-403e-b69c-90633b24b2fd"
      },
      "execution_count": 18,
      "outputs": [
        {
          "output_type": "stream",
          "name": "stdout",
          "text": [
            "318\n"
          ]
        }
      ]
    },
    {
      "cell_type": "markdown",
      "source": [
        "**Adding custom stop words**"
      ],
      "metadata": {
        "id": "oAXuVn8feUVc"
      }
    },
    {
      "cell_type": "code",
      "source": [
        "sw_nltk.extend(['first','second' , 'third','me'])\n",
        "print(len(sw_nltk))"
      ],
      "metadata": {
        "colab": {
          "base_uri": "https://localhost:8080/"
        },
        "id": "e2uC1vlYeRn2",
        "outputId": "929ca8d1-e04e-4471-f5cc-da620bb35da0"
      },
      "execution_count": 19,
      "outputs": [
        {
          "output_type": "stream",
          "name": "stdout",
          "text": [
            "183\n"
          ]
        }
      ]
    },
    {
      "cell_type": "markdown",
      "source": [
        "**Removing Stop words**"
      ],
      "metadata": {
        "id": "gqxFE8A1eiWq"
      }
    },
    {
      "cell_type": "code",
      "source": [
        "sw_nltk.remove('not')\n",
        "print(len(sw_nltk))"
      ],
      "metadata": {
        "colab": {
          "base_uri": "https://localhost:8080/"
        },
        "id": "lG-27hHuef6-",
        "outputId": "52999f2f-d146-4e9d-b851-1003fb0da95a"
      },
      "execution_count": 21,
      "outputs": [
        {
          "output_type": "stream",
          "name": "stdout",
          "text": [
            "182\n"
          ]
        }
      ]
    },
    {
      "cell_type": "markdown",
      "source": [
        "**Create Custom Stop Words**"
      ],
      "metadata": {
        "id": "ES4NpDVFes-Q"
      }
    },
    {
      "cell_type": "code",
      "source": [
        "text2 = \"Here's to the crazy ones, the misfits, the rebels, the troublemakers, the round pegs in the square holes.\""
      ],
      "metadata": {
        "id": "RTtSh8JxeqIm"
      },
      "execution_count": 25,
      "outputs": []
    },
    {
      "cell_type": "code",
      "source": [
        "my_stop_words  = ['to' , 'the' , 'in']\n",
        "words = [word for word in text2.split() if word.lower() not in my_stop_words]\n",
        "new_text = \" \".join(words)\n",
        "print(new_text)\n",
        "print(\"Old Length\",len(text2))\n",
        "print(\"New Length\",len(new_text))"
      ],
      "metadata": {
        "colab": {
          "base_uri": "https://localhost:8080/"
        },
        "id": "CrNdJdofe1NW",
        "outputId": "9950e9f3-2008-4162-bc62-94bff1068ee3"
      },
      "execution_count": 31,
      "outputs": [
        {
          "output_type": "stream",
          "name": "stdout",
          "text": [
            "Here's crazy ones, misfits, rebels, troublemakers, round pegs square holes.\n",
            "Old Length 105\n",
            "New Length 75\n"
          ]
        }
      ]
    }
  ]
}